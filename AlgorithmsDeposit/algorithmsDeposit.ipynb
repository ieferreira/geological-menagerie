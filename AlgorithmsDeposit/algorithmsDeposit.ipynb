{
 "cells": [
  {
   "cell_type": "markdown",
   "source": [
    "# Testing machine learning algorithms in data provided by Chung, 1980"
   ],
   "metadata": {}
  },
  {
   "cell_type": "code",
   "execution_count": 1,
   "source": [
    "import numpy as np \r\n",
    "import matplotlib.pyplot as plt \r\n",
    "import pandas as pd \r\n",
    "import seaborn\r\n",
    "seaborn.set(style=\"ticks\")"
   ],
   "outputs": [],
   "metadata": {}
  },
  {
   "cell_type": "markdown",
   "source": [
    "## Dataset Description"
   ],
   "metadata": {}
  },
  {
   "cell_type": "markdown",
   "source": [
    "### Dataset description\n",
    "\n",
    "X -> X coordinate in grid<br/><br/>\n",
    "Y -> Y coordinate in grid<br/><br/>\n",
    "V1 -> Ocurrences of volcanic rock type 1 in cell coordinate (X,Y)<br/><br/>\n",
    "V2 -> Ocurrences of volcanic rock type 2 in cell coordinate (X,Y)<br/><br/>\n",
    "V3 -> Ocurrences of volcanic rock type 3 in cell coordinate (X,Y)<br/><br/>\n",
    "V4 -> Ocurrences of volcanic rock type 4 in cell coordinate (X,Y)<br/><br/>\n",
    "V5 -> Ocurrences of volcanic rock type 5 in cell coordinate (X,Y)<br/><br/>\n",
    "VMS Deposits -> VMS Deposit in cell coordinate (X,Y)<br/><br/>"
   ],
   "metadata": {}
  },
  {
   "cell_type": "markdown",
   "source": [
    "### Rock types (obtained by superimposing a grid over the geological map)\n",
    "\n",
    "V1 -> Lower Silurian felsic volcanics<br/><br/>\n",
    "V2 -> Middle-Uper Ordovician mixed (felsic - mafic) volcanics<br/><br/>\n",
    "V3 -> Lower Ordovician mafic volcanics<br/><br/>\n",
    "V4 -> Lower Ordovician mixed volcanics<br/><br/>\n",
    "V5 -> Cambrian mafic volcanics<br/><br/>\n",
    "\n",
    "\n"
   ],
   "metadata": {}
  },
  {
   "cell_type": "code",
   "execution_count": 2,
   "source": [
    "df = pd.read_excel(\"deposits.xlsx\")"
   ],
   "outputs": [],
   "metadata": {}
  },
  {
   "cell_type": "raw",
   "source": [
    "Dataset description\r\n",
    "\r\n",
    "X -> X coordinate in grid\r\n",
    "Y -> Y coordinate in grid\r\n",
    "V1 -> Ocurrences of volcanic rock type 1 in cell coordinate (X,Y)\r\n",
    "V2 -> Ocurrences of volcanic rock type 2 in cell coordinate (X,Y)\r\n",
    "V3 -> Ocurrences of volcanic rock type 3 in cell coordinate (X,Y)\r\n",
    "V4 -> Ocurrences of volcanic rock type 4 in cell coordinate (X,Y)\r\n",
    "V5 -> Ocurrences of volcanic rock type 5 in cell coordinate (X,Y)\r\n",
    "VMS Deposits -> VMS Deposit in cell coordinate (X,Y)"
   ],
   "metadata": {}
  },
  {
   "cell_type": "raw",
   "source": [
    "Rock types (obtained by superimposing a grid over the geological map)\r\n",
    "\r\n",
    "V1 -> Lower Silurian felsic volcanics\r\n",
    "V2 -> Middle-Uper Ordovician mixed (felsic - mafic) volcanics\r\n",
    "V3 -> Lower Ordovician mafic volcanics\r\n",
    "V4 -> Lower Ordovician mixed volcanics\r\n",
    "V5 -> Cambrian mafic volcanics"
   ],
   "metadata": {}
  },
  {
   "cell_type": "code",
   "execution_count": null,
   "source": [
    "df.head()"
   ],
   "outputs": [
    {
     "output_type": "execute_result",
     "data": {
      "text/plain": [
       "    X   Y   V1  V2  V3  V4  V5  VMS Deposits\n",
       "0  24  47    0   0   0  44   0             0\n",
       "1  24  48   56   0   0  81   0             0\n",
       "2  24  49  161   0   0  23   0             0\n",
       "3  24  50   24   0   0  45   0             0\n",
       "4  24  51   62   0   0  22   0             0"
      ],
      "text/html": [
       "<div>\n",
       "<style scoped>\n",
       "    .dataframe tbody tr th:only-of-type {\n",
       "        vertical-align: middle;\n",
       "    }\n",
       "\n",
       "    .dataframe tbody tr th {\n",
       "        vertical-align: top;\n",
       "    }\n",
       "\n",
       "    .dataframe thead th {\n",
       "        text-align: right;\n",
       "    }\n",
       "</style>\n",
       "<table border=\"1\" class=\"dataframe\">\n",
       "  <thead>\n",
       "    <tr style=\"text-align: right;\">\n",
       "      <th></th>\n",
       "      <th>X</th>\n",
       "      <th>Y</th>\n",
       "      <th>V1</th>\n",
       "      <th>V2</th>\n",
       "      <th>V3</th>\n",
       "      <th>V4</th>\n",
       "      <th>V5</th>\n",
       "      <th>VMS Deposits</th>\n",
       "    </tr>\n",
       "  </thead>\n",
       "  <tbody>\n",
       "    <tr>\n",
       "      <th>0</th>\n",
       "      <td>24</td>\n",
       "      <td>47</td>\n",
       "      <td>0</td>\n",
       "      <td>0</td>\n",
       "      <td>0</td>\n",
       "      <td>44</td>\n",
       "      <td>0</td>\n",
       "      <td>0</td>\n",
       "    </tr>\n",
       "    <tr>\n",
       "      <th>1</th>\n",
       "      <td>24</td>\n",
       "      <td>48</td>\n",
       "      <td>56</td>\n",
       "      <td>0</td>\n",
       "      <td>0</td>\n",
       "      <td>81</td>\n",
       "      <td>0</td>\n",
       "      <td>0</td>\n",
       "    </tr>\n",
       "    <tr>\n",
       "      <th>2</th>\n",
       "      <td>24</td>\n",
       "      <td>49</td>\n",
       "      <td>161</td>\n",
       "      <td>0</td>\n",
       "      <td>0</td>\n",
       "      <td>23</td>\n",
       "      <td>0</td>\n",
       "      <td>0</td>\n",
       "    </tr>\n",
       "    <tr>\n",
       "      <th>3</th>\n",
       "      <td>24</td>\n",
       "      <td>50</td>\n",
       "      <td>24</td>\n",
       "      <td>0</td>\n",
       "      <td>0</td>\n",
       "      <td>45</td>\n",
       "      <td>0</td>\n",
       "      <td>0</td>\n",
       "    </tr>\n",
       "    <tr>\n",
       "      <th>4</th>\n",
       "      <td>24</td>\n",
       "      <td>51</td>\n",
       "      <td>62</td>\n",
       "      <td>0</td>\n",
       "      <td>0</td>\n",
       "      <td>22</td>\n",
       "      <td>0</td>\n",
       "      <td>0</td>\n",
       "    </tr>\n",
       "  </tbody>\n",
       "</table>\n",
       "</div>"
      ]
     },
     "metadata": {},
     "execution_count": 3
    }
   ],
   "metadata": {}
  },
  {
   "cell_type": "code",
   "execution_count": null,
   "source": [
    "df.describe()"
   ],
   "outputs": [
    {
     "output_type": "execute_result",
     "data": {
      "text/plain": [
       "              X          Y          V1          V2          V3          V4  \\\n",
       "count  60.00000  60.000000   60.000000   60.000000   60.000000   60.000000   \n",
       "mean   27.15000  49.383333   40.766667   72.366667   52.800000   14.083333   \n",
       "std     2.12192   2.511611   80.000290  115.416852  101.381441   40.514192   \n",
       "min    24.00000  44.000000    0.000000    0.000000    0.000000    0.000000   \n",
       "25%    25.00000  47.000000    0.000000    0.000000    0.000000    0.000000   \n",
       "50%    27.00000  50.000000    0.000000    0.000000    0.000000    0.000000   \n",
       "75%    29.00000  51.250000   39.250000  133.250000   60.250000    0.000000   \n",
       "max    31.00000  53.000000  317.000000  378.000000  394.000000  219.000000   \n",
       "\n",
       "               V5  VMS Deposits  \n",
       "count   60.000000     60.000000  \n",
       "mean    11.200000      0.416667  \n",
       "std     42.570301      0.849560  \n",
       "min      0.000000      0.000000  \n",
       "25%      0.000000      0.000000  \n",
       "50%      0.000000      0.000000  \n",
       "75%      0.000000      0.250000  \n",
       "max    254.000000      4.000000  "
      ],
      "text/html": [
       "<div>\n",
       "<style scoped>\n",
       "    .dataframe tbody tr th:only-of-type {\n",
       "        vertical-align: middle;\n",
       "    }\n",
       "\n",
       "    .dataframe tbody tr th {\n",
       "        vertical-align: top;\n",
       "    }\n",
       "\n",
       "    .dataframe thead th {\n",
       "        text-align: right;\n",
       "    }\n",
       "</style>\n",
       "<table border=\"1\" class=\"dataframe\">\n",
       "  <thead>\n",
       "    <tr style=\"text-align: right;\">\n",
       "      <th></th>\n",
       "      <th>X</th>\n",
       "      <th>Y</th>\n",
       "      <th>V1</th>\n",
       "      <th>V2</th>\n",
       "      <th>V3</th>\n",
       "      <th>V4</th>\n",
       "      <th>V5</th>\n",
       "      <th>VMS Deposits</th>\n",
       "    </tr>\n",
       "  </thead>\n",
       "  <tbody>\n",
       "    <tr>\n",
       "      <th>count</th>\n",
       "      <td>60.00000</td>\n",
       "      <td>60.000000</td>\n",
       "      <td>60.000000</td>\n",
       "      <td>60.000000</td>\n",
       "      <td>60.000000</td>\n",
       "      <td>60.000000</td>\n",
       "      <td>60.000000</td>\n",
       "      <td>60.000000</td>\n",
       "    </tr>\n",
       "    <tr>\n",
       "      <th>mean</th>\n",
       "      <td>27.15000</td>\n",
       "      <td>49.383333</td>\n",
       "      <td>40.766667</td>\n",
       "      <td>72.366667</td>\n",
       "      <td>52.800000</td>\n",
       "      <td>14.083333</td>\n",
       "      <td>11.200000</td>\n",
       "      <td>0.416667</td>\n",
       "    </tr>\n",
       "    <tr>\n",
       "      <th>std</th>\n",
       "      <td>2.12192</td>\n",
       "      <td>2.511611</td>\n",
       "      <td>80.000290</td>\n",
       "      <td>115.416852</td>\n",
       "      <td>101.381441</td>\n",
       "      <td>40.514192</td>\n",
       "      <td>42.570301</td>\n",
       "      <td>0.849560</td>\n",
       "    </tr>\n",
       "    <tr>\n",
       "      <th>min</th>\n",
       "      <td>24.00000</td>\n",
       "      <td>44.000000</td>\n",
       "      <td>0.000000</td>\n",
       "      <td>0.000000</td>\n",
       "      <td>0.000000</td>\n",
       "      <td>0.000000</td>\n",
       "      <td>0.000000</td>\n",
       "      <td>0.000000</td>\n",
       "    </tr>\n",
       "    <tr>\n",
       "      <th>25%</th>\n",
       "      <td>25.00000</td>\n",
       "      <td>47.000000</td>\n",
       "      <td>0.000000</td>\n",
       "      <td>0.000000</td>\n",
       "      <td>0.000000</td>\n",
       "      <td>0.000000</td>\n",
       "      <td>0.000000</td>\n",
       "      <td>0.000000</td>\n",
       "    </tr>\n",
       "    <tr>\n",
       "      <th>50%</th>\n",
       "      <td>27.00000</td>\n",
       "      <td>50.000000</td>\n",
       "      <td>0.000000</td>\n",
       "      <td>0.000000</td>\n",
       "      <td>0.000000</td>\n",
       "      <td>0.000000</td>\n",
       "      <td>0.000000</td>\n",
       "      <td>0.000000</td>\n",
       "    </tr>\n",
       "    <tr>\n",
       "      <th>75%</th>\n",
       "      <td>29.00000</td>\n",
       "      <td>51.250000</td>\n",
       "      <td>39.250000</td>\n",
       "      <td>133.250000</td>\n",
       "      <td>60.250000</td>\n",
       "      <td>0.000000</td>\n",
       "      <td>0.000000</td>\n",
       "      <td>0.250000</td>\n",
       "    </tr>\n",
       "    <tr>\n",
       "      <th>max</th>\n",
       "      <td>31.00000</td>\n",
       "      <td>53.000000</td>\n",
       "      <td>317.000000</td>\n",
       "      <td>378.000000</td>\n",
       "      <td>394.000000</td>\n",
       "      <td>219.000000</td>\n",
       "      <td>254.000000</td>\n",
       "      <td>4.000000</td>\n",
       "    </tr>\n",
       "  </tbody>\n",
       "</table>\n",
       "</div>"
      ]
     },
     "metadata": {},
     "execution_count": 4
    }
   ],
   "metadata": {}
  },
  {
   "cell_type": "markdown",
   "source": [
    "## Dataset visualization"
   ],
   "metadata": {}
  },
  {
   "cell_type": "code",
   "execution_count": null,
   "source": [
    "def plot_grid(df=df, x=\"X\", y=\"Y\", hue=\"VMS Deposits\"):\r\n",
    "    \"\"\"Plot facet grid of X,Y and associated deposits, count of volcanic rocks by type\r\n",
    "    \r\n",
    "    \"\"\"\r\n",
    "    dfcop = df.copy()\r\n",
    "    dfcop.sort_values(by=[hue])\r\n",
    "    fg = seaborn.FacetGrid(data=dfcop, hue=hue, palette=\"viridis\", aspect=1.61)\r\n",
    "    fg.map(plt.scatter, x, y).add_legend()\r\n",
    "    fg.fig.suptitle(f'{hue} by Cell Coordinate')\r\n",
    "    fg.set(ylim=(42, 55))\r\n",
    "    fg.set(xlim=(22, 33))"
   ],
   "outputs": [],
   "metadata": {}
  },
  {
   "cell_type": "code",
   "execution_count": null,
   "source": [
    "plot_grid()"
   ],
   "outputs": [
    {
     "output_type": "display_data",
     "data": {
      "text/plain": [
       "<Figure size 432.56x216 with 1 Axes>"
      ],
      "image/png": "[encoded data removed]"
     },
     "metadata": {}
    }
   ],
   "metadata": {}
  },
  {
   "cell_type": "code",
   "execution_count": null,
   "source": [
    "plot_grid(hue=\"V3\")"
   ],
   "outputs": [
    {
     "output_type": "display_data",
     "data": {
      "text/plain": [
       "<Figure size 405.735x216 with 1 Axes>"
      ],
      "image/png": "[encoded data removed]"
     },
     "metadata": {}
    }
   ],
   "metadata": {}
  },
  {
   "cell_type": "code",
   "execution_count": null,
   "source": [
    "sns.heatmap(df.corr(), annot=True)"
   ],
   "outputs": [
    {
     "output_type": "display_data",
     "data": {
      "text/plain": [
       "<IPython.core.display.Javascript object>"
      ],
      "application/javascript": "\n        if (window._pyforest_update_imports_cell) { window._pyforest_update_imports_cell('import seaborn as sns'); }\n    "
     },
     "metadata": {}
    },
    {
     "output_type": "execute_result",
     "data": {
      "text/plain": [
       "<AxesSubplot:>"
      ]
     },
     "metadata": {},
     "execution_count": 8
    },
    {
     "output_type": "display_data",
     "data": {
      "text/plain": [
       "<Figure size 432x288 with 2 Axes>"
      ],
      "image/png": "[encoded data removed]"
     },
     "metadata": {}
    }
   ],
   "metadata": {}
  },
  {
   "cell_type": "markdown",
   "source": [
    "## Dataset Division into train and test"
   ],
   "metadata": {}
  },
  {
   "cell_type": "code",
   "execution_count": 6,
   "source": [
    "msk = np.random.rand(len(df)) < 0.8\r\n",
    "train = df[msk]\r\n",
    "test = df[~msk]\r\n"
   ],
   "outputs": [],
   "metadata": {}
  },
  {
   "cell_type": "code",
   "execution_count": 7,
   "source": [
    "print(len(train))\r\n",
    "print(len(test))"
   ],
   "outputs": [
    {
     "output_type": "stream",
     "name": "stdout",
     "text": [
      "47\n",
      "13\n"
     ]
    }
   ],
   "metadata": {}
  },
  {
   "cell_type": "code",
   "execution_count": 16,
   "source": [
    "X_train, y_train =train.drop(\"VMS Deposits\", axis=1),  train[\"VMS Deposits\"]\r\n",
    "X_test, y_test =test.drop(\"VMS Deposits\", axis=1),  test[\"VMS Deposits\"]\r\n"
   ],
   "outputs": [],
   "metadata": {}
  },
  {
   "cell_type": "markdown",
   "source": [
    "### Dataset is not sufficient for many of this algorithms, just leaving the layout "
   ],
   "metadata": {}
  },
  {
   "cell_type": "code",
   "execution_count": 17,
   "source": [
    "from sklearn.model_selection import train_test_split\r\n",
    "from sklearn.model_selection import cross_val_score\r\n",
    "from sklearn.model_selection import StratifiedKFold\r\n",
    "from sklearn.metrics import classification_report\r\n",
    "from sklearn.metrics import confusion_matrix\r\n",
    "from sklearn.metrics import accuracy_score\r\n",
    "from sklearn.linear_model import LogisticRegression\r\n",
    "from sklearn.tree import DecisionTreeClassifier\r\n",
    "from sklearn.neighbors import KNeighborsClassifier\r\n",
    "from sklearn.ensemble import RandomForestClassifier\r\n",
    "from sklearn.discriminant_analysis import LinearDiscriminantAnalysis\r\n",
    "from sklearn.naive_bayes import GaussianNB\r\n",
    "from sklearn.svm import SVC"
   ],
   "outputs": [],
   "metadata": {}
  },
  {
   "cell_type": "code",
   "execution_count": 31,
   "source": [
    "# Spot Check Algorithms\r\n",
    "models = []\r\n",
    "models.append(('LR', LogisticRegression(solver='liblinear', multi_class='ovr')))\r\n",
    "models.append(('LDA', LinearDiscriminantAnalysis()))\r\n",
    "models.append(('KNN', KNeighborsClassifier(n_neighbors=10,weights='distance')))\r\n",
    "models.append(('CART', DecisionTreeClassifier()))\r\n",
    "models.append(('NB', GaussianNB()))\r\n",
    "models.append(('SVM', SVC(kernel='linear',gamma='scale')))\r\n",
    "models.append(('RFC', RandomForestClassifier(n_estimators = 120, max_features=\"sqrt\")))\r\n",
    "# evaluate each model in turn\r\n",
    "results = []\r\n",
    "names = []\r\n",
    "for name, model in models:\r\n",
    "\tkfold = StratifiedKFold(n_splits=9, random_state=1, shuffle=True)\r\n",
    "\tcv_results = cross_val_score(model, X_train, y_train, cv=kfold, scoring='accuracy')\r\n",
    "\tresults.append(cv_results)\r\n",
    "\tnames.append(name)\r\n",
    "\tprint('%s: %f (%f)' % (name, cv_results.mean(), cv_results.std()))"
   ],
   "outputs": [
    {
     "output_type": "stream",
     "name": "stderr",
     "text": [
      "C:\\Users\\ferreira\\anaconda3\\lib\\site-packages\\sklearn\\model_selection\\_split.py:666: UserWarning: The least populated class in y has only 1 members, which is less than n_splits=9.\n",
      "  warnings.warn((\"The least populated class in y has only %d\"\n",
      "C:\\Users\\ferreira\\anaconda3\\lib\\site-packages\\sklearn\\model_selection\\_split.py:666: UserWarning: The least populated class in y has only 1 members, which is less than n_splits=9.\n",
      "  warnings.warn((\"The least populated class in y has only %d\"\n",
      "C:\\Users\\ferreira\\anaconda3\\lib\\site-packages\\sklearn\\model_selection\\_split.py:666: UserWarning: The least populated class in y has only 1 members, which is less than n_splits=9.\n",
      "  warnings.warn((\"The least populated class in y has only %d\"\n",
      "C:\\Users\\ferreira\\anaconda3\\lib\\site-packages\\sklearn\\model_selection\\_split.py:666: UserWarning: The least populated class in y has only 1 members, which is less than n_splits=9.\n",
      "  warnings.warn((\"The least populated class in y has only %d\"\n",
      "C:\\Users\\ferreira\\anaconda3\\lib\\site-packages\\sklearn\\model_selection\\_split.py:666: UserWarning: The least populated class in y has only 1 members, which is less than n_splits=9.\n",
      "  warnings.warn((\"The least populated class in y has only %d\"\n",
      "C:\\Users\\ferreira\\anaconda3\\lib\\site-packages\\sklearn\\model_selection\\_split.py:666: UserWarning: The least populated class in y has only 1 members, which is less than n_splits=9.\n",
      "  warnings.warn((\"The least populated class in y has only %d\"\n"
     ]
    },
    {
     "output_type": "stream",
     "name": "stdout",
     "text": [
      "LR: 0.740741 (0.100342)\n",
      "LDA: 0.659259 (0.079780)\n",
      "KNN: 0.766667 (0.073703)\n",
      "CART: 0.662963 (0.104757)\n",
      "NB: 0.285185 (0.234711)\n",
      "SVM: 0.785185 (0.066872)\n"
     ]
    },
    {
     "output_type": "stream",
     "name": "stderr",
     "text": [
      "C:\\Users\\ferreira\\anaconda3\\lib\\site-packages\\sklearn\\model_selection\\_split.py:666: UserWarning: The least populated class in y has only 1 members, which is less than n_splits=9.\n",
      "  warnings.warn((\"The least populated class in y has only %d\"\n"
     ]
    },
    {
     "output_type": "stream",
     "name": "stdout",
     "text": [
      "RFC: 0.770370 (0.055432)\n"
     ]
    }
   ],
   "metadata": {}
  },
  {
   "cell_type": "code",
   "execution_count": 21,
   "source": [
    "# Compare Algorithms\r\n",
    "plt.boxplot(results, labels=names)\r\n",
    "plt.title('Algorithm Comparison')\r\n",
    "plt.show()"
   ],
   "outputs": [
    {
     "output_type": "display_data",
     "data": {
      "text/plain": [
       "<Figure size 432x288 with 1 Axes>"
      ],
      "image/png": "[encoded data removed]"
     },
     "metadata": {}
    }
   ],
   "metadata": {}
  },
  {
   "cell_type": "markdown",
   "source": [
    "### Bibliography\r\n",
    "\r\n",
    "- Chung C.F. & Agterberg F. P. (1980). Regression models for estimating resources from Geological Map Data. Mathematical Geology, Vol. 12 No. 5."
   ],
   "metadata": {}
  },
  {
   "cell_type": "markdown",
   "source": [],
   "metadata": {}
  }
 ],
 "metadata": {
  "interpreter": {
   "hash": "6b064fc685c52604badb0dc209731001517377f8aedb447138004ef620d05180"
  },
  "kernelspec": {
   "name": "python3",
   "display_name": "Python 3.8.5 64-bit ('base': conda)"
  },
  "language_info": {
   "codemirror_mode": {
    "name": "ipython",
    "version": 3
   },
   "file_extension": ".py",
   "mimetype": "text/x-python",
   "name": "python",
   "nbconvert_exporter": "python",
   "pygments_lexer": "ipython3",
   "version": "3.8.5"
  }
 },
 "nbformat": 4,
 "nbformat_minor": 5
}