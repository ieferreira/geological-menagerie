{
 "cells": [
  {
   "cell_type": "markdown",
   "source": [
    "### Saving image dataset and labels as npy. Train / Test ratio is 0.8/0.2\r\n",
    "\r\n",
    "Data are images from Shoji et al, 2018 converted to npy and loaded to test classifying them with algorithms different than neural network.\r\n",
    "\r\n",
    "- Thanks to Luis Pizano github.com/Luchopizano for the code with different algorithms implementation for classification.\r\n"
   ],
   "metadata": {}
  },
  {
   "cell_type": "code",
   "execution_count": 1,
   "source": [
    "import numpy as np \r\n",
    "import matplotlib.pyplot as plt \r\n",
    "import pandas as pd \r\n"
   ],
   "outputs": [],
   "metadata": {}
  },
  {
   "cell_type": "markdown",
   "source": [
    "### Loading data from npy"
   ],
   "metadata": {}
  },
  {
   "cell_type": "code",
   "execution_count": 2,
   "source": [
    "# no need to import as train - test sets as crossvalidation is applied\r\n",
    "\r\n",
    "(x_train, y_train), (x_test, y_test) = (np.load(\"train_imgs.npy\"), np.load(\"train_labels.npy\")), (np.load(\"test_imgs.npy\"), np.load(\"test_labels.npy\"))\r\n",
    "print(f\"x_train shape: {x_train.shape} - y_train shape: {y_train.shape}\")\r\n",
    "print(f\"x_test shape: {x_test.shape} - y_test shape: {y_test.shape}\")"
   ],
   "outputs": [
    {
     "output_type": "stream",
     "name": "stdout",
     "text": [
      "x_train shape: (781, 50, 50, 3) - y_train shape: (781,)\n",
      "x_test shape: (196, 50, 50, 3) - y_test shape: (196,)\n"
     ]
    }
   ],
   "metadata": {}
  },
  {
   "cell_type": "code",
   "execution_count": 4,
   "source": [
    "def convert_array(array): \r\n",
    "    \"\"\"Split numpy array into n subarrays to make single column.\r\n",
    "    For example, convert array of shape (781,50,50,3) to array of shape (781, 7500)\"\"\"\r\n",
    "    return array.reshape(array.shape[0], -1)"
   ],
   "outputs": [],
   "metadata": {}
  },
  {
   "cell_type": "code",
   "execution_count": 5,
   "source": [
    "X_train = convert_array(x_train)"
   ],
   "outputs": [],
   "metadata": {}
  },
  {
   "cell_type": "code",
   "execution_count": 6,
   "source": [
    "X_train.shape"
   ],
   "outputs": [
    {
     "output_type": "execute_result",
     "data": {
      "text/plain": [
       "(781, 7500)"
      ]
     },
     "metadata": {},
     "execution_count": 6
    }
   ],
   "metadata": {}
  },
  {
   "cell_type": "markdown",
   "source": [
    "## Algorithms to use\r\n"
   ],
   "metadata": {}
  },
  {
   "cell_type": "code",
   "execution_count": 7,
   "source": [
    "from sklearn.model_selection import train_test_split\r\n",
    "from sklearn.model_selection import cross_val_score\r\n",
    "from sklearn.model_selection import StratifiedKFold\r\n",
    "from sklearn.metrics import classification_report\r\n",
    "from sklearn.metrics import confusion_matrix\r\n",
    "from sklearn.metrics import accuracy_score\r\n",
    "from sklearn.linear_model import LogisticRegression\r\n",
    "from sklearn.tree import DecisionTreeClassifier\r\n",
    "from sklearn.neighbors import KNeighborsClassifier\r\n",
    "from sklearn.ensemble import RandomForestClassifier\r\n",
    "from sklearn.discriminant_analysis import LinearDiscriminantAnalysis\r\n",
    "from sklearn.naive_bayes import GaussianNB\r\n",
    "from sklearn.svm import SVC"
   ],
   "outputs": [],
   "metadata": {}
  },
  {
   "cell_type": "code",
   "execution_count": 8,
   "source": [
    "# Spot Check Algorithms\r\n",
    "models = []\r\n",
    "models.append(('LR', LogisticRegression(solver='liblinear', multi_class='ovr')))\r\n",
    "models.append(('LDA', LinearDiscriminantAnalysis()))\r\n",
    "models.append(('KNN', KNeighborsClassifier(n_neighbors=10,weights='distance')))\r\n",
    "models.append(('CART', DecisionTreeClassifier()))\r\n",
    "models.append(('NB', GaussianNB()))\r\n",
    "models.append(('SVM', SVC(kernel='linear',gamma='scale')))\r\n",
    "models.append(('RFC', RandomForestClassifier(n_estimators = 120, max_features=\"sqrt\")))\r\n",
    "# evaluate each model in turn\r\n",
    "results = []\r\n",
    "names = []\r\n",
    "for name, model in models:\r\n",
    "\tkfold = StratifiedKFold(n_splits=4, random_state=1, shuffle=True)\r\n",
    "\tcv_results = cross_val_score(model, X_train, y_train, cv=kfold, scoring='accuracy')\r\n",
    "\tresults.append(cv_results)\r\n",
    "\tnames.append(name)\r\n",
    "\tprint('%s: %f (%f)' % (name, cv_results.mean(), cv_results.std()))"
   ],
   "outputs": [
    {
     "output_type": "stream",
     "name": "stdout",
     "text": [
      "LR: 0.617196 (0.026611)\n",
      "LDA: 0.583850 (0.023032)\n",
      "KNN: 0.669656 (0.024694)\n",
      "CART: 0.558261 (0.009673)\n",
      "NB: 0.605658 (0.020960)\n",
      "SVM: 0.642805 (0.019530)\n",
      "RFC: 0.722187 (0.019745)\n"
     ]
    }
   ],
   "metadata": {}
  },
  {
   "cell_type": "markdown",
   "source": [
    "## Comparation of algorithms"
   ],
   "metadata": {}
  },
  {
   "cell_type": "code",
   "execution_count": 9,
   "source": [
    "\r\n",
    "plt.boxplot(results, labels=names)\r\n",
    "plt.title('Algorithm Comparison')\r\n",
    "plt.show()"
   ],
   "outputs": [
    {
     "output_type": "display_data",
     "data": {
      "text/plain": [
       "<Figure size 432x288 with 1 Axes>"
      ],
      "image/png": "[encoded data removed]"
     },
     "metadata": {
      "needs_background": "light"
     }
    }
   ],
   "metadata": {}
  },
  {
   "cell_type": "markdown",
   "source": [
    "## Best classifier is random forest so continue with that one"
   ],
   "metadata": {}
  },
  {
   "cell_type": "code",
   "execution_count": 10,
   "source": [
    "# convert x_test to valid format\r\n",
    "\r\n",
    "X_test = convert_array(x_test)"
   ],
   "outputs": [],
   "metadata": {}
  },
  {
   "cell_type": "code",
   "execution_count": 16,
   "source": [
    "from sklearn.ensemble import RandomForestClassifier\r\n",
    "\r\n",
    "\r\n",
    "\r\n",
    "# Instantiate model with 200 decision trees\r\n",
    "model4 = RandomForestClassifier(n_estimators = 120, max_features=\"sqrt\", random_state =42)\r\n",
    "clf = model4.fit(X_train, y_train)\r\n",
    "predictions4 = model4.predict(X_test)\r\n",
    "\r\n",
    "# Evaluate predictions of logistic regression model\r\n",
    "results4[L] = accuracy_score(y_test, predictions4)    \r\n",
    "print(str(np.argmax(results4)) + \" \" + str(np.max(results4)))\r\n"
   ],
   "outputs": [
    {
     "output_type": "stream",
     "name": "stdout",
     "text": [
      "0 0.7397959183673469\n"
     ]
    }
   ],
   "metadata": {}
  },
  {
   "cell_type": "code",
   "execution_count": null,
   "source": [],
   "outputs": [],
   "metadata": {}
  }
 ],
 "metadata": {
  "kernelspec": {
   "name": "python3",
   "display_name": "Python 3.8.5 64-bit ('base': conda)"
  },
  "language_info": {
   "codemirror_mode": {
    "name": "ipython",
    "version": 3
   },
   "file_extension": ".py",
   "mimetype": "text/x-python",
   "name": "python",
   "nbconvert_exporter": "python",
   "pygments_lexer": "ipython3",
   "version": "3.8.5"
  },
  "interpreter": {
   "hash": "6b064fc685c52604badb0dc209731001517377f8aedb447138004ef620d05180"
  }
 },
 "nbformat": 4,
 "nbformat_minor": 4
}