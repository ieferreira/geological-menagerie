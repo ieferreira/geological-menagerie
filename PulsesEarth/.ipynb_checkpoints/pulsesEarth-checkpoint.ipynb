{
 "cells": [
  {
   "cell_type": "markdown",
   "metadata": {},
   "source": [
    "### Code implementation - A pulse of the Earth: A 27.5-Myr underlying cycle in coordinated geological events over the last 260 Myr by Michael R. Rampino, Ken Caldeira and Yuhong Zhu\n"
   ]
  },
  {
   "cell_type": "code",
   "execution_count": 1,
   "metadata": {},
   "outputs": [],
   "source": [
    "import numpy as np\n",
    "import matplotlib.pyplot as plt \n",
    "import pandas as pd \n",
    "import seaborn as sns\n",
    "import amp_spec as spec"
   ]
  },
  {
   "cell_type": "markdown",
   "metadata": {},
   "source": [
    "### Columns in the dataset are main events in the geological record (compiled by Rampino et al, 2021) as provided in the paper"
   ]
  },
  {
   "cell_type": "markdown",
   "metadata": {},
   "source": [
    "## Data cleaning\n",
    "\n",
    "The idea is to leave a list of dates to see any recurrent pattern"
   ]
  },
  {
   "cell_type": "code",
   "execution_count": 2,
   "metadata": {},
   "outputs": [
    {
     "data": {
      "text/plain": [
       "Index(['IntervalMa', 'MarineExtinction', 'AnoxicEvent', 'ContinentalBasalt',\n",
       "       'SequenceBoundary', 'NonMarineExtinction', 'ChangesSpreadingRate',\n",
       "       'IntraPlateVolcanism'],\n",
       "      dtype='object')"
      ]
     },
     "execution_count": 2,
     "metadata": {},
     "output_type": "execute_result"
    }
   ],
   "source": [
    "df = pd.read_excel(\"geological_events.xlsx\")\n",
    "df.columns"
   ]
  },
  {
   "cell_type": "code",
   "execution_count": 3,
   "metadata": {},
   "outputs": [
    {
     "data": {
      "text/html": [
       "<div>\n",
       "<style scoped>\n",
       "    .dataframe tbody tr th:only-of-type {\n",
       "        vertical-align: middle;\n",
       "    }\n",
       "\n",
       "    .dataframe tbody tr th {\n",
       "        vertical-align: top;\n",
       "    }\n",
       "\n",
       "    .dataframe thead th {\n",
       "        text-align: right;\n",
       "    }\n",
       "</style>\n",
       "<table border=\"1\" class=\"dataframe\">\n",
       "  <thead>\n",
       "    <tr style=\"text-align: right;\">\n",
       "      <th></th>\n",
       "      <th>IntervalMa</th>\n",
       "      <th>MarineExtinction</th>\n",
       "      <th>AnoxicEvent</th>\n",
       "      <th>ContinentalBasalt</th>\n",
       "      <th>SequenceBoundary</th>\n",
       "      <th>NonMarineExtinction</th>\n",
       "      <th>ChangesSpreadingRate</th>\n",
       "      <th>IntraPlateVolcanism</th>\n",
       "    </tr>\n",
       "  </thead>\n",
       "  <tbody>\n",
       "    <tr>\n",
       "      <th>0</th>\n",
       "      <td>0–9</td>\n",
       "      <td>2.6</td>\n",
       "      <td>—</td>\n",
       "      <td>—</td>\n",
       "      <td>5.33</td>\n",
       "      <td>7.25</td>\n",
       "      <td>—</td>\n",
       "      <td>3</td>\n",
       "    </tr>\n",
       "    <tr>\n",
       "      <th>1</th>\n",
       "      <td>10–19</td>\n",
       "      <td>11.6</td>\n",
       "      <td>—</td>\n",
       "      <td>16.6 ± 0.03</td>\n",
       "      <td>11.63</td>\n",
       "      <td>—</td>\n",
       "      <td>—</td>\n",
       "      <td>10, 15</td>\n",
       "    </tr>\n",
       "    <tr>\n",
       "      <th>2</th>\n",
       "      <td>20–29</td>\n",
       "      <td>—</td>\n",
       "      <td>—</td>\n",
       "      <td>—</td>\n",
       "      <td>23.03</td>\n",
       "      <td>—</td>\n",
       "      <td>—</td>\n",
       "      <td>23</td>\n",
       "    </tr>\n",
       "    <tr>\n",
       "      <th>3</th>\n",
       "      <td>30–39</td>\n",
       "      <td>36.5</td>\n",
       "      <td>—</td>\n",
       "      <td>30.4 ± 0.4</td>\n",
       "      <td>33.9</td>\n",
       "      <td>33.9</td>\n",
       "      <td>—</td>\n",
       "      <td>30</td>\n",
       "    </tr>\n",
       "    <tr>\n",
       "      <th>4</th>\n",
       "      <td>40–49</td>\n",
       "      <td>—</td>\n",
       "      <td>—</td>\n",
       "      <td>41.2</td>\n",
       "      <td>—</td>\n",
       "      <td>—</td>\n",
       "      <td>40</td>\n",
       "      <td>NaN</td>\n",
       "    </tr>\n",
       "    <tr>\n",
       "      <th>5</th>\n",
       "      <td>50–59</td>\n",
       "      <td>—</td>\n",
       "      <td>56.0</td>\n",
       "      <td>56.6 ± 0.3</td>\n",
       "      <td>52.0</td>\n",
       "      <td>—</td>\n",
       "      <td>50, 58</td>\n",
       "      <td>—</td>\n",
       "    </tr>\n",
       "    <tr>\n",
       "      <th>6</th>\n",
       "      <td>60–69</td>\n",
       "      <td>66.04</td>\n",
       "      <td>66</td>\n",
       "      <td>61.9; 66.3</td>\n",
       "      <td>61.6; 68</td>\n",
       "      <td>66</td>\n",
       "      <td>—</td>\n",
       "      <td>60, 65</td>\n",
       "    </tr>\n",
       "    <tr>\n",
       "      <th>7</th>\n",
       "      <td>70–79</td>\n",
       "      <td>—</td>\n",
       "      <td>—</td>\n",
       "      <td>—</td>\n",
       "      <td>—</td>\n",
       "      <td>—</td>\n",
       "      <td>75</td>\n",
       "      <td>—</td>\n",
       "    </tr>\n",
       "    <tr>\n",
       "      <th>8</th>\n",
       "      <td>80–89</td>\n",
       "      <td>—</td>\n",
       "      <td>—</td>\n",
       "      <td>—</td>\n",
       "      <td>84.2</td>\n",
       "      <td>—</td>\n",
       "      <td>80</td>\n",
       "      <td>—</td>\n",
       "    </tr>\n",
       "    <tr>\n",
       "      <th>9</th>\n",
       "      <td>90–99</td>\n",
       "      <td>93.9</td>\n",
       "      <td>93.9</td>\n",
       "      <td>92.9 ± 3.8</td>\n",
       "      <td>93.9</td>\n",
       "      <td>—</td>\n",
       "      <td>—</td>\n",
       "      <td>—</td>\n",
       "    </tr>\n",
       "    <tr>\n",
       "      <th>10</th>\n",
       "      <td>100–109</td>\n",
       "      <td>—</td>\n",
       "      <td>—</td>\n",
       "      <td>—</td>\n",
       "      <td>100; 109</td>\n",
       "      <td>—</td>\n",
       "      <td>—</td>\n",
       "      <td>—</td>\n",
       "    </tr>\n",
       "    <tr>\n",
       "      <th>11</th>\n",
       "      <td>110–119</td>\n",
       "      <td>—</td>\n",
       "      <td>—</td>\n",
       "      <td>118 ± 1</td>\n",
       "      <td>—</td>\n",
       "      <td>—</td>\n",
       "      <td>—</td>\n",
       "      <td>—</td>\n",
       "    </tr>\n",
       "    <tr>\n",
       "      <th>12</th>\n",
       "      <td>120–129</td>\n",
       "      <td>124</td>\n",
       "      <td>124</td>\n",
       "      <td>123.5 ± 1.5</td>\n",
       "      <td>124; 129.4</td>\n",
       "      <td>—</td>\n",
       "      <td>120</td>\n",
       "      <td>—</td>\n",
       "    </tr>\n",
       "    <tr>\n",
       "      <th>13</th>\n",
       "      <td>130–139</td>\n",
       "      <td>—</td>\n",
       "      <td>132.6</td>\n",
       "      <td>134.7 ± 1</td>\n",
       "      <td>132.6; 139.8</td>\n",
       "      <td>—</td>\n",
       "      <td>—</td>\n",
       "      <td>NaN</td>\n",
       "    </tr>\n",
       "    <tr>\n",
       "      <th>14</th>\n",
       "      <td>140–149</td>\n",
       "      <td>143.1</td>\n",
       "      <td>—</td>\n",
       "      <td>—</td>\n",
       "      <td>149.2 ± 0.9</td>\n",
       "      <td>143.1</td>\n",
       "      <td>140</td>\n",
       "      <td>—</td>\n",
       "    </tr>\n",
       "    <tr>\n",
       "      <th>15</th>\n",
       "      <td>150–159</td>\n",
       "      <td>—</td>\n",
       "      <td>152</td>\n",
       "      <td>—</td>\n",
       "      <td>____</td>\n",
       "      <td>—</td>\n",
       "      <td>155</td>\n",
       "      <td>—</td>\n",
       "    </tr>\n",
       "    <tr>\n",
       "      <th>16</th>\n",
       "      <td>160–169</td>\n",
       "      <td>—</td>\n",
       "      <td>—</td>\n",
       "      <td>—</td>\n",
       "      <td>161.5 ± 1.0</td>\n",
       "      <td>—</td>\n",
       "      <td>—</td>\n",
       "      <td>—</td>\n",
       "    </tr>\n",
       "    <tr>\n",
       "      <th>17</th>\n",
       "      <td>170–179</td>\n",
       "      <td>—</td>\n",
       "      <td>—</td>\n",
       "      <td>—</td>\n",
       "      <td>170.3 ± 1.4</td>\n",
       "      <td>—</td>\n",
       "      <td>170</td>\n",
       "      <td>—</td>\n",
       "    </tr>\n",
       "    <tr>\n",
       "      <th>18</th>\n",
       "      <td>180–189</td>\n",
       "      <td>184.2 ± 0.7</td>\n",
       "      <td>184.2 ± 0.7</td>\n",
       "      <td>182.7 ± 0.03</td>\n",
       "      <td>184.2 ± 0.7</td>\n",
       "      <td>—</td>\n",
       "      <td>—</td>\n",
       "      <td>—</td>\n",
       "    </tr>\n",
       "    <tr>\n",
       "      <th>19</th>\n",
       "      <td>190–199</td>\n",
       "      <td>—</td>\n",
       "      <td>—</td>\n",
       "      <td>—</td>\n",
       "      <td>190.8 ± 1.0; 199</td>\n",
       "      <td>—</td>\n",
       "      <td>—</td>\n",
       "      <td>—</td>\n",
       "    </tr>\n",
       "    <tr>\n",
       "      <th>20</th>\n",
       "      <td>200–209</td>\n",
       "      <td>201.4 ± 0.2</td>\n",
       "      <td>201.4 ± 0.2</td>\n",
       "      <td>201.5 ± 0.05</td>\n",
       "      <td>205.7</td>\n",
       "      <td>201.4 ± 0.2</td>\n",
       "      <td>—</td>\n",
       "      <td>—</td>\n",
       "    </tr>\n",
       "    <tr>\n",
       "      <th>21</th>\n",
       "      <td>210–219</td>\n",
       "      <td>215</td>\n",
       "      <td>—</td>\n",
       "      <td>—</td>\n",
       "      <td>218</td>\n",
       "      <td>215</td>\n",
       "      <td>—</td>\n",
       "      <td>—</td>\n",
       "    </tr>\n",
       "    <tr>\n",
       "      <th>22</th>\n",
       "      <td>220–229</td>\n",
       "      <td>—</td>\n",
       "      <td>—</td>\n",
       "      <td>228</td>\n",
       "      <td>227.3</td>\n",
       "      <td>—</td>\n",
       "      <td>—</td>\n",
       "      <td>NaN</td>\n",
       "    </tr>\n",
       "    <tr>\n",
       "      <th>23</th>\n",
       "      <td>230–239</td>\n",
       "      <td>—</td>\n",
       "      <td>—</td>\n",
       "      <td>—</td>\n",
       "      <td>237</td>\n",
       "      <td>—</td>\n",
       "      <td>—</td>\n",
       "      <td>—</td>\n",
       "    </tr>\n",
       "    <tr>\n",
       "      <th>24</th>\n",
       "      <td>240–249</td>\n",
       "      <td>—</td>\n",
       "      <td>—</td>\n",
       "      <td>—</td>\n",
       "      <td>247</td>\n",
       "      <td>—</td>\n",
       "      <td>—</td>\n",
       "      <td>—</td>\n",
       "    </tr>\n",
       "    <tr>\n",
       "      <th>25</th>\n",
       "      <td>250–259</td>\n",
       "      <td>251.9 ± 0.02</td>\n",
       "      <td>251.9 ± 0.02</td>\n",
       "      <td>251.9 ± 0.07</td>\n",
       "      <td>252</td>\n",
       "      <td>251.9 ± 0.02</td>\n",
       "      <td>—</td>\n",
       "      <td>—</td>\n",
       "    </tr>\n",
       "    <tr>\n",
       "      <th>26</th>\n",
       "      <td>260–269</td>\n",
       "      <td>259.8 ± 0.5</td>\n",
       "      <td>259.8 ± 0.5</td>\n",
       "      <td>259.6 ± 0.5</td>\n",
       "      <td>260</td>\n",
       "      <td>259.8 ± 0.5</td>\n",
       "      <td>—</td>\n",
       "      <td>—</td>\n",
       "    </tr>\n",
       "  </tbody>\n",
       "</table>\n",
       "</div>"
      ],
      "text/plain": [
       "   IntervalMa MarineExtinction   AnoxicEvent ContinentalBasalt  \\\n",
       "0         0–9              2.6             —                 —   \n",
       "1       10–19             11.6             —       16.6 ± 0.03   \n",
       "2       20–29                —             —                 —   \n",
       "3       30–39             36.5             —        30.4 ± 0.4   \n",
       "4       40–49                —             —              41.2   \n",
       "5       50–59                —          56.0        56.6 ± 0.3   \n",
       "6       60–69            66.04            66        61.9; 66.3   \n",
       "7       70–79                —             —                 —   \n",
       "8       80–89                —             —                 —   \n",
       "9       90–99             93.9          93.9        92.9 ± 3.8   \n",
       "10    100–109                —             —                 —   \n",
       "11    110–119                —             —           118 ± 1   \n",
       "12    120–129              124           124       123.5 ± 1.5   \n",
       "13    130–139                —         132.6         134.7 ± 1   \n",
       "14    140–149            143.1             —                 —   \n",
       "15    150–159                —           152                 —   \n",
       "16    160–169                —             —                 —   \n",
       "17    170–179                —             —                 —   \n",
       "18    180–189      184.2 ± 0.7   184.2 ± 0.7      182.7 ± 0.03   \n",
       "19    190–199                —             —                 —   \n",
       "20    200–209      201.4 ± 0.2   201.4 ± 0.2      201.5 ± 0.05   \n",
       "21    210–219              215             —                 —   \n",
       "22    220–229                —             —               228   \n",
       "23    230–239                —             —                 —   \n",
       "24    240–249                —             —                 —   \n",
       "25    250–259     251.9 ± 0.02  251.9 ± 0.02      251.9 ± 0.07   \n",
       "26    260–269      259.8 ± 0.5   259.8 ± 0.5       259.6 ± 0.5   \n",
       "\n",
       "    SequenceBoundary NonMarineExtinction ChangesSpreadingRate  \\\n",
       "0               5.33                7.25                    —   \n",
       "1              11.63                   —                    —   \n",
       "2              23.03                   —                    —   \n",
       "3               33.9                33.9                    —   \n",
       "4                  —                   —                   40   \n",
       "5               52.0                   —               50, 58   \n",
       "6           61.6; 68                  66                    —   \n",
       "7                  —                   —                   75   \n",
       "8               84.2                   —                   80   \n",
       "9               93.9                   —                    —   \n",
       "10          100; 109                   —                    —   \n",
       "11                 —                   —                    —   \n",
       "12        124; 129.4                   —                  120   \n",
       "13      132.6; 139.8                   —                    —   \n",
       "14       149.2 ± 0.9               143.1                  140   \n",
       "15              ____                   —                  155   \n",
       "16       161.5 ± 1.0                   —                    —   \n",
       "17       170.3 ± 1.4                   —                  170   \n",
       "18       184.2 ± 0.7                   —                    —   \n",
       "19  190.8 ± 1.0; 199                   —                    —   \n",
       "20             205.7         201.4 ± 0.2                    —   \n",
       "21               218                 215                    —   \n",
       "22             227.3                   —                    —   \n",
       "23               237                   —                    —   \n",
       "24               247                   —                    —   \n",
       "25               252        251.9 ± 0.02                    —   \n",
       "26               260         259.8 ± 0.5                    —   \n",
       "\n",
       "   IntraPlateVolcanism  \n",
       "0                    3  \n",
       "1               10, 15  \n",
       "2                   23  \n",
       "3                   30  \n",
       "4                  NaN  \n",
       "5                    —  \n",
       "6               60, 65  \n",
       "7                    —  \n",
       "8                    —  \n",
       "9                    —  \n",
       "10                   —  \n",
       "11                   —  \n",
       "12                   —  \n",
       "13                 NaN  \n",
       "14                   —  \n",
       "15                   —  \n",
       "16                   —  \n",
       "17                   —  \n",
       "18                   —  \n",
       "19                   —  \n",
       "20                   —  \n",
       "21                   —  \n",
       "22                 NaN  \n",
       "23                   —  \n",
       "24                   —  \n",
       "25                   —  \n",
       "26                   —  "
      ]
     },
     "execution_count": 3,
     "metadata": {},
     "output_type": "execute_result"
    }
   ],
   "source": [
    "df # original dataframe as is in the paper"
   ]
  },
  {
   "cell_type": "code",
   "execution_count": 4,
   "metadata": {},
   "outputs": [],
   "source": [
    "# replace non numeric values with Nan\n",
    "df.replace(\"—\", np.nan, inplace=True)\n",
    "df.replace(\"____\", np.nan, inplace=True)\n",
    "df\n",
    "orig_df = df.copy()\n"
   ]
  },
  {
   "cell_type": "code",
   "execution_count": 5,
   "metadata": {},
   "outputs": [],
   "source": [
    "dates_df = pd.DataFrame()\n",
    "dates_df[[\"Start\", \"End\"]] = orig_df[\"IntervalMa\"].str.split(\"–\", expand=True)"
   ]
  },
  {
   "cell_type": "code",
   "execution_count": 6,
   "metadata": {},
   "outputs": [],
   "source": [
    "dates_df[\"Start\"] = pd.to_numeric(dates_df[\"Start\"])\n",
    "dates_df[\"End\"] = pd.to_numeric(dates_df[\"End\"])\n",
    "\n",
    "dates_df['Mid'] = dates_df.mean(axis=1)"
   ]
  },
  {
   "cell_type": "code",
   "execution_count": 7,
   "metadata": {},
   "outputs": [
    {
     "data": {
      "text/html": [
       "<div>\n",
       "<style scoped>\n",
       "    .dataframe tbody tr th:only-of-type {\n",
       "        vertical-align: middle;\n",
       "    }\n",
       "\n",
       "    .dataframe tbody tr th {\n",
       "        vertical-align: top;\n",
       "    }\n",
       "\n",
       "    .dataframe thead th {\n",
       "        text-align: right;\n",
       "    }\n",
       "</style>\n",
       "<table border=\"1\" class=\"dataframe\">\n",
       "  <thead>\n",
       "    <tr style=\"text-align: right;\">\n",
       "      <th></th>\n",
       "      <th>IntervalMa</th>\n",
       "      <th>MarineExtinction</th>\n",
       "      <th>AnoxicEvent</th>\n",
       "      <th>ContinentalBasalt</th>\n",
       "      <th>SequenceBoundary</th>\n",
       "      <th>NonMarineExtinction</th>\n",
       "      <th>ChangesSpreadingRate</th>\n",
       "      <th>IntraPlateVolcanism</th>\n",
       "    </tr>\n",
       "  </thead>\n",
       "  <tbody>\n",
       "    <tr>\n",
       "      <th>0</th>\n",
       "      <td>0–9</td>\n",
       "      <td>2.6</td>\n",
       "      <td>NaN</td>\n",
       "      <td>NaN</td>\n",
       "      <td>5.33</td>\n",
       "      <td>7.25</td>\n",
       "      <td>NaN</td>\n",
       "      <td>3</td>\n",
       "    </tr>\n",
       "    <tr>\n",
       "      <th>1</th>\n",
       "      <td>10–19</td>\n",
       "      <td>11.6</td>\n",
       "      <td>NaN</td>\n",
       "      <td>16.6 ± 0.03</td>\n",
       "      <td>11.63</td>\n",
       "      <td>NaN</td>\n",
       "      <td>NaN</td>\n",
       "      <td>10, 15</td>\n",
       "    </tr>\n",
       "    <tr>\n",
       "      <th>2</th>\n",
       "      <td>20–29</td>\n",
       "      <td>NaN</td>\n",
       "      <td>NaN</td>\n",
       "      <td>NaN</td>\n",
       "      <td>23.03</td>\n",
       "      <td>NaN</td>\n",
       "      <td>NaN</td>\n",
       "      <td>23</td>\n",
       "    </tr>\n",
       "    <tr>\n",
       "      <th>3</th>\n",
       "      <td>30–39</td>\n",
       "      <td>36.5</td>\n",
       "      <td>NaN</td>\n",
       "      <td>30.4 ± 0.4</td>\n",
       "      <td>33.9</td>\n",
       "      <td>33.9</td>\n",
       "      <td>NaN</td>\n",
       "      <td>30</td>\n",
       "    </tr>\n",
       "    <tr>\n",
       "      <th>4</th>\n",
       "      <td>40–49</td>\n",
       "      <td>NaN</td>\n",
       "      <td>NaN</td>\n",
       "      <td>41.2</td>\n",
       "      <td>NaN</td>\n",
       "      <td>NaN</td>\n",
       "      <td>40</td>\n",
       "      <td>NaN</td>\n",
       "    </tr>\n",
       "    <tr>\n",
       "      <th>5</th>\n",
       "      <td>50–59</td>\n",
       "      <td>NaN</td>\n",
       "      <td>56.0</td>\n",
       "      <td>56.6 ± 0.3</td>\n",
       "      <td>52.0</td>\n",
       "      <td>NaN</td>\n",
       "      <td>50, 58</td>\n",
       "      <td>NaN</td>\n",
       "    </tr>\n",
       "    <tr>\n",
       "      <th>6</th>\n",
       "      <td>60–69</td>\n",
       "      <td>66.04</td>\n",
       "      <td>66</td>\n",
       "      <td>61.9; 66.3</td>\n",
       "      <td>61.6; 68</td>\n",
       "      <td>66</td>\n",
       "      <td>NaN</td>\n",
       "      <td>60, 65</td>\n",
       "    </tr>\n",
       "    <tr>\n",
       "      <th>7</th>\n",
       "      <td>70–79</td>\n",
       "      <td>NaN</td>\n",
       "      <td>NaN</td>\n",
       "      <td>NaN</td>\n",
       "      <td>NaN</td>\n",
       "      <td>NaN</td>\n",
       "      <td>75</td>\n",
       "      <td>NaN</td>\n",
       "    </tr>\n",
       "    <tr>\n",
       "      <th>8</th>\n",
       "      <td>80–89</td>\n",
       "      <td>NaN</td>\n",
       "      <td>NaN</td>\n",
       "      <td>NaN</td>\n",
       "      <td>84.2</td>\n",
       "      <td>NaN</td>\n",
       "      <td>80</td>\n",
       "      <td>NaN</td>\n",
       "    </tr>\n",
       "    <tr>\n",
       "      <th>9</th>\n",
       "      <td>90–99</td>\n",
       "      <td>93.9</td>\n",
       "      <td>93.9</td>\n",
       "      <td>92.9 ± 3.8</td>\n",
       "      <td>93.9</td>\n",
       "      <td>NaN</td>\n",
       "      <td>NaN</td>\n",
       "      <td>NaN</td>\n",
       "    </tr>\n",
       "    <tr>\n",
       "      <th>10</th>\n",
       "      <td>100–109</td>\n",
       "      <td>NaN</td>\n",
       "      <td>NaN</td>\n",
       "      <td>NaN</td>\n",
       "      <td>100; 109</td>\n",
       "      <td>NaN</td>\n",
       "      <td>NaN</td>\n",
       "      <td>NaN</td>\n",
       "    </tr>\n",
       "    <tr>\n",
       "      <th>11</th>\n",
       "      <td>110–119</td>\n",
       "      <td>NaN</td>\n",
       "      <td>NaN</td>\n",
       "      <td>118 ± 1</td>\n",
       "      <td>NaN</td>\n",
       "      <td>NaN</td>\n",
       "      <td>NaN</td>\n",
       "      <td>NaN</td>\n",
       "    </tr>\n",
       "    <tr>\n",
       "      <th>12</th>\n",
       "      <td>120–129</td>\n",
       "      <td>124</td>\n",
       "      <td>124</td>\n",
       "      <td>123.5 ± 1.5</td>\n",
       "      <td>124; 129.4</td>\n",
       "      <td>NaN</td>\n",
       "      <td>120</td>\n",
       "      <td>NaN</td>\n",
       "    </tr>\n",
       "    <tr>\n",
       "      <th>13</th>\n",
       "      <td>130–139</td>\n",
       "      <td>NaN</td>\n",
       "      <td>132.6</td>\n",
       "      <td>134.7 ± 1</td>\n",
       "      <td>132.6; 139.8</td>\n",
       "      <td>NaN</td>\n",
       "      <td>NaN</td>\n",
       "      <td>NaN</td>\n",
       "    </tr>\n",
       "    <tr>\n",
       "      <th>14</th>\n",
       "      <td>140–149</td>\n",
       "      <td>143.1</td>\n",
       "      <td>NaN</td>\n",
       "      <td>NaN</td>\n",
       "      <td>149.2 ± 0.9</td>\n",
       "      <td>143.1</td>\n",
       "      <td>140</td>\n",
       "      <td>NaN</td>\n",
       "    </tr>\n",
       "    <tr>\n",
       "      <th>15</th>\n",
       "      <td>150–159</td>\n",
       "      <td>NaN</td>\n",
       "      <td>152</td>\n",
       "      <td>NaN</td>\n",
       "      <td>NaN</td>\n",
       "      <td>NaN</td>\n",
       "      <td>155</td>\n",
       "      <td>NaN</td>\n",
       "    </tr>\n",
       "    <tr>\n",
       "      <th>16</th>\n",
       "      <td>160–169</td>\n",
       "      <td>NaN</td>\n",
       "      <td>NaN</td>\n",
       "      <td>NaN</td>\n",
       "      <td>161.5 ± 1.0</td>\n",
       "      <td>NaN</td>\n",
       "      <td>NaN</td>\n",
       "      <td>NaN</td>\n",
       "    </tr>\n",
       "    <tr>\n",
       "      <th>17</th>\n",
       "      <td>170–179</td>\n",
       "      <td>NaN</td>\n",
       "      <td>NaN</td>\n",
       "      <td>NaN</td>\n",
       "      <td>170.3 ± 1.4</td>\n",
       "      <td>NaN</td>\n",
       "      <td>170</td>\n",
       "      <td>NaN</td>\n",
       "    </tr>\n",
       "    <tr>\n",
       "      <th>18</th>\n",
       "      <td>180–189</td>\n",
       "      <td>184.2 ± 0.7</td>\n",
       "      <td>184.2 ± 0.7</td>\n",
       "      <td>182.7 ± 0.03</td>\n",
       "      <td>184.2 ± 0.7</td>\n",
       "      <td>NaN</td>\n",
       "      <td>NaN</td>\n",
       "      <td>NaN</td>\n",
       "    </tr>\n",
       "    <tr>\n",
       "      <th>19</th>\n",
       "      <td>190–199</td>\n",
       "      <td>NaN</td>\n",
       "      <td>NaN</td>\n",
       "      <td>NaN</td>\n",
       "      <td>190.8 ± 1.0; 199</td>\n",
       "      <td>NaN</td>\n",
       "      <td>NaN</td>\n",
       "      <td>NaN</td>\n",
       "    </tr>\n",
       "    <tr>\n",
       "      <th>20</th>\n",
       "      <td>200–209</td>\n",
       "      <td>201.4 ± 0.2</td>\n",
       "      <td>201.4 ± 0.2</td>\n",
       "      <td>201.5 ± 0.05</td>\n",
       "      <td>205.7</td>\n",
       "      <td>201.4 ± 0.2</td>\n",
       "      <td>NaN</td>\n",
       "      <td>NaN</td>\n",
       "    </tr>\n",
       "    <tr>\n",
       "      <th>21</th>\n",
       "      <td>210–219</td>\n",
       "      <td>215</td>\n",
       "      <td>NaN</td>\n",
       "      <td>NaN</td>\n",
       "      <td>218</td>\n",
       "      <td>215</td>\n",
       "      <td>NaN</td>\n",
       "      <td>NaN</td>\n",
       "    </tr>\n",
       "    <tr>\n",
       "      <th>22</th>\n",
       "      <td>220–229</td>\n",
       "      <td>NaN</td>\n",
       "      <td>NaN</td>\n",
       "      <td>228</td>\n",
       "      <td>227.3</td>\n",
       "      <td>NaN</td>\n",
       "      <td>NaN</td>\n",
       "      <td>NaN</td>\n",
       "    </tr>\n",
       "    <tr>\n",
       "      <th>23</th>\n",
       "      <td>230–239</td>\n",
       "      <td>NaN</td>\n",
       "      <td>NaN</td>\n",
       "      <td>NaN</td>\n",
       "      <td>237</td>\n",
       "      <td>NaN</td>\n",
       "      <td>NaN</td>\n",
       "      <td>NaN</td>\n",
       "    </tr>\n",
       "    <tr>\n",
       "      <th>24</th>\n",
       "      <td>240–249</td>\n",
       "      <td>NaN</td>\n",
       "      <td>NaN</td>\n",
       "      <td>NaN</td>\n",
       "      <td>247</td>\n",
       "      <td>NaN</td>\n",
       "      <td>NaN</td>\n",
       "      <td>NaN</td>\n",
       "    </tr>\n",
       "    <tr>\n",
       "      <th>25</th>\n",
       "      <td>250–259</td>\n",
       "      <td>251.9 ± 0.02</td>\n",
       "      <td>251.9 ± 0.02</td>\n",
       "      <td>251.9 ± 0.07</td>\n",
       "      <td>252</td>\n",
       "      <td>251.9 ± 0.02</td>\n",
       "      <td>NaN</td>\n",
       "      <td>NaN</td>\n",
       "    </tr>\n",
       "    <tr>\n",
       "      <th>26</th>\n",
       "      <td>260–269</td>\n",
       "      <td>259.8 ± 0.5</td>\n",
       "      <td>259.8 ± 0.5</td>\n",
       "      <td>259.6 ± 0.5</td>\n",
       "      <td>260</td>\n",
       "      <td>259.8 ± 0.5</td>\n",
       "      <td>NaN</td>\n",
       "      <td>NaN</td>\n",
       "    </tr>\n",
       "  </tbody>\n",
       "</table>\n",
       "</div>"
      ],
      "text/plain": [
       "   IntervalMa MarineExtinction   AnoxicEvent ContinentalBasalt  \\\n",
       "0         0–9              2.6           NaN               NaN   \n",
       "1       10–19             11.6           NaN       16.6 ± 0.03   \n",
       "2       20–29              NaN           NaN               NaN   \n",
       "3       30–39             36.5           NaN        30.4 ± 0.4   \n",
       "4       40–49              NaN           NaN              41.2   \n",
       "5       50–59              NaN          56.0        56.6 ± 0.3   \n",
       "6       60–69            66.04            66        61.9; 66.3   \n",
       "7       70–79              NaN           NaN               NaN   \n",
       "8       80–89              NaN           NaN               NaN   \n",
       "9       90–99             93.9          93.9        92.9 ± 3.8   \n",
       "10    100–109              NaN           NaN               NaN   \n",
       "11    110–119              NaN           NaN           118 ± 1   \n",
       "12    120–129              124           124       123.5 ± 1.5   \n",
       "13    130–139              NaN         132.6         134.7 ± 1   \n",
       "14    140–149            143.1           NaN               NaN   \n",
       "15    150–159              NaN           152               NaN   \n",
       "16    160–169              NaN           NaN               NaN   \n",
       "17    170–179              NaN           NaN               NaN   \n",
       "18    180–189      184.2 ± 0.7   184.2 ± 0.7      182.7 ± 0.03   \n",
       "19    190–199              NaN           NaN               NaN   \n",
       "20    200–209      201.4 ± 0.2   201.4 ± 0.2      201.5 ± 0.05   \n",
       "21    210–219              215           NaN               NaN   \n",
       "22    220–229              NaN           NaN               228   \n",
       "23    230–239              NaN           NaN               NaN   \n",
       "24    240–249              NaN           NaN               NaN   \n",
       "25    250–259     251.9 ± 0.02  251.9 ± 0.02      251.9 ± 0.07   \n",
       "26    260–269      259.8 ± 0.5   259.8 ± 0.5       259.6 ± 0.5   \n",
       "\n",
       "    SequenceBoundary NonMarineExtinction ChangesSpreadingRate  \\\n",
       "0               5.33                7.25                  NaN   \n",
       "1              11.63                 NaN                  NaN   \n",
       "2              23.03                 NaN                  NaN   \n",
       "3               33.9                33.9                  NaN   \n",
       "4                NaN                 NaN                   40   \n",
       "5               52.0                 NaN               50, 58   \n",
       "6           61.6; 68                  66                  NaN   \n",
       "7                NaN                 NaN                   75   \n",
       "8               84.2                 NaN                   80   \n",
       "9               93.9                 NaN                  NaN   \n",
       "10          100; 109                 NaN                  NaN   \n",
       "11               NaN                 NaN                  NaN   \n",
       "12        124; 129.4                 NaN                  120   \n",
       "13      132.6; 139.8                 NaN                  NaN   \n",
       "14       149.2 ± 0.9               143.1                  140   \n",
       "15               NaN                 NaN                  155   \n",
       "16       161.5 ± 1.0                 NaN                  NaN   \n",
       "17       170.3 ± 1.4                 NaN                  170   \n",
       "18       184.2 ± 0.7                 NaN                  NaN   \n",
       "19  190.8 ± 1.0; 199                 NaN                  NaN   \n",
       "20             205.7         201.4 ± 0.2                  NaN   \n",
       "21               218                 215                  NaN   \n",
       "22             227.3                 NaN                  NaN   \n",
       "23               237                 NaN                  NaN   \n",
       "24               247                 NaN                  NaN   \n",
       "25               252        251.9 ± 0.02                  NaN   \n",
       "26               260         259.8 ± 0.5                  NaN   \n",
       "\n",
       "   IntraPlateVolcanism  \n",
       "0                    3  \n",
       "1               10, 15  \n",
       "2                   23  \n",
       "3                   30  \n",
       "4                  NaN  \n",
       "5                  NaN  \n",
       "6               60, 65  \n",
       "7                  NaN  \n",
       "8                  NaN  \n",
       "9                  NaN  \n",
       "10                 NaN  \n",
       "11                 NaN  \n",
       "12                 NaN  \n",
       "13                 NaN  \n",
       "14                 NaN  \n",
       "15                 NaN  \n",
       "16                 NaN  \n",
       "17                 NaN  \n",
       "18                 NaN  \n",
       "19                 NaN  \n",
       "20                 NaN  \n",
       "21                 NaN  \n",
       "22                 NaN  \n",
       "23                 NaN  \n",
       "24                 NaN  \n",
       "25                 NaN  \n",
       "26                 NaN  "
      ]
     },
     "execution_count": 7,
     "metadata": {},
     "output_type": "execute_result"
    }
   ],
   "source": [
    "orig_df"
   ]
  },
  {
   "cell_type": "code",
   "execution_count": 8,
   "metadata": {},
   "outputs": [],
   "source": [
    "marine_extinction = df[\"MarineExtinction\"]\n",
    "anoxic_event = df[\"AnoxicEvent\"]\n",
    "continental_basalt = df[\"ContinentalBasalt\"]\n",
    "sequence_boundary = df[\"SequenceBoundary\"]\n",
    "nonmarine_extinction = df[\"NonMarineExtinction\"]\n",
    "changes_spreading_rate = df[\"ChangesSpreadingRate\"]\n",
    "intraplate_volcanism = df[\"IntraPlateVolcanism\"]\n",
    "\n",
    "data_columns = [marine_extinction, anoxic_event, continental_basalt, sequence_boundary, nonmarine_extinction, changes_spreading_rate, intraplate_volcanism]"
   ]
  },
  {
   "cell_type": "code",
   "execution_count": 9,
   "metadata": {},
   "outputs": [],
   "source": [
    "data_cols = data_columns.copy()"
   ]
  },
  {
   "cell_type": "code",
   "execution_count": 10,
   "metadata": {},
   "outputs": [],
   "source": [
    "def cleanColumns(column: pd.Series) -> list:\n",
    "    \n",
    "    ls = list(column)\n",
    "    ls_temp = [] \n",
    "    for i in ls:\n",
    "        ls_temp += str(i).split(\";\")\n",
    "\n",
    "    ls_temp = [i.split(\"±\") for i in ls_temp]\n",
    "    \n",
    "\n",
    "\n",
    "    def extract(lst):\n",
    "        return [item[0] for item in lst if type(item)==list]\n",
    "\n",
    "    def convertFloat(lst):\n",
    "        return [float(item) for item in lst]\n",
    "\n",
    "    result = extract(ls_temp)\n",
    "    return list(result)"
   ]
  },
  {
   "cell_type": "code",
   "execution_count": 11,
   "metadata": {},
   "outputs": [],
   "source": [
    "temp_dates = []\n",
    "for i in data_columns:\n",
    "    i = cleanColumns(i)\n",
    "    \n",
    "    temp_dates.append(i)\n"
   ]
  },
  {
   "cell_type": "code",
   "execution_count": 12,
   "metadata": {},
   "outputs": [],
   "source": [
    "\n",
    "raw_dates = []\n",
    "for i in temp_dates:\n",
    "    i = [x.split(\",\") for x in i]\n",
    "    raw_dates.append(i)"
   ]
  },
  {
   "cell_type": "code",
   "execution_count": null,
   "metadata": {},
   "outputs": [],
   "source": []
  },
  {
   "cell_type": "code",
   "execution_count": 13,
   "metadata": {},
   "outputs": [],
   "source": [
    "def flatten_list(_2d_list):\n",
    "    flat_list = []\n",
    "    # Iterate through the outer list\n",
    "    for element in _2d_list:\n",
    "        if type(element) is list:\n",
    "            # If the element is of type list, iterate through the sublist\n",
    "            for item in element:\n",
    "                flat_list.append(item)\n",
    "        else:\n",
    "            flat_list.append(element)\n",
    "    return flat_list\n",
    "\n",
    "def convertFloat(lst):\n",
    "    return [float(item) for item in lst]\n",
    "\n",
    "\n",
    "# flatten_twice\n",
    "list_dates = flatten_list(flatten_list(raw_dates))\n",
    "# convert all elements to float\n",
    "float_dates = convertFloat(list_dates)\n",
    "# clean of Nans\n",
    "cleaned_dates = [x for x in float_dates if str(x) != 'nan']"
   ]
  },
  {
   "cell_type": "code",
   "execution_count": 14,
   "metadata": {},
   "outputs": [
    {
     "data": {
      "text/plain": [
       "89"
      ]
     },
     "execution_count": 14,
     "metadata": {},
     "output_type": "execute_result"
    }
   ],
   "source": [
    "len(cleaned_dates) # total of events is correct!"
   ]
  },
  {
   "cell_type": "code",
   "execution_count": 15,
   "metadata": {},
   "outputs": [
    {
     "data": {
      "text/plain": [
       "260.0"
      ]
     },
     "execution_count": 15,
     "metadata": {},
     "output_type": "execute_result"
    }
   ],
   "source": [
    "max(cleaned_dates)"
   ]
  },
  {
   "cell_type": "code",
   "execution_count": 16,
   "metadata": {},
   "outputs": [
    {
     "data": {
      "text/plain": [
       "<AxesSubplot:ylabel='Count'>"
      ]
     },
     "execution_count": 16,
     "metadata": {},
     "output_type": "execute_result"
    },
    {
     "data": {
      "image/png": "[encoded data removed]",
      "text/plain": [
       "<Figure size 432x288 with 1 Axes>"
      ]
     },
     "metadata": {
      "needs_background": "light"
     },
     "output_type": "display_data"
    }
   ],
   "source": [
    "sns.histplot(cleaned_dates, bins=89)"
   ]
  },
  {
   "cell_type": "markdown",
   "metadata": {},
   "source": [
    "## Data visualization"
   ]
  },
  {
   "cell_type": "code",
   "execution_count": 17,
   "metadata": {},
   "outputs": [
    {
     "data": {
      "text/html": [
       "<div>\n",
       "<style scoped>\n",
       "    .dataframe tbody tr th:only-of-type {\n",
       "        vertical-align: middle;\n",
       "    }\n",
       "\n",
       "    .dataframe tbody tr th {\n",
       "        vertical-align: top;\n",
       "    }\n",
       "\n",
       "    .dataframe thead th {\n",
       "        text-align: right;\n",
       "    }\n",
       "</style>\n",
       "<table border=\"1\" class=\"dataframe\">\n",
       "  <thead>\n",
       "    <tr style=\"text-align: right;\">\n",
       "      <th></th>\n",
       "      <th>IntervalMa</th>\n",
       "      <th>MarineExtinction</th>\n",
       "      <th>AnoxicEvent</th>\n",
       "      <th>ContinentalBasalt</th>\n",
       "      <th>SequenceBoundary</th>\n",
       "      <th>NonMarineExtinction</th>\n",
       "      <th>ChangesSpreadingRate</th>\n",
       "      <th>IntraPlateVolcanism</th>\n",
       "    </tr>\n",
       "  </thead>\n",
       "  <tbody>\n",
       "    <tr>\n",
       "      <th>0</th>\n",
       "      <td>0–9</td>\n",
       "      <td>2.6</td>\n",
       "      <td>NaN</td>\n",
       "      <td>NaN</td>\n",
       "      <td>5.33</td>\n",
       "      <td>7.25</td>\n",
       "      <td>NaN</td>\n",
       "      <td>3</td>\n",
       "    </tr>\n",
       "    <tr>\n",
       "      <th>1</th>\n",
       "      <td>10–19</td>\n",
       "      <td>11.6</td>\n",
       "      <td>NaN</td>\n",
       "      <td>16.6 ± 0.03</td>\n",
       "      <td>11.63</td>\n",
       "      <td>NaN</td>\n",
       "      <td>NaN</td>\n",
       "      <td>10, 15</td>\n",
       "    </tr>\n",
       "    <tr>\n",
       "      <th>2</th>\n",
       "      <td>20–29</td>\n",
       "      <td>NaN</td>\n",
       "      <td>NaN</td>\n",
       "      <td>NaN</td>\n",
       "      <td>23.03</td>\n",
       "      <td>NaN</td>\n",
       "      <td>NaN</td>\n",
       "      <td>23</td>\n",
       "    </tr>\n",
       "    <tr>\n",
       "      <th>3</th>\n",
       "      <td>30–39</td>\n",
       "      <td>36.5</td>\n",
       "      <td>NaN</td>\n",
       "      <td>30.4 ± 0.4</td>\n",
       "      <td>33.9</td>\n",
       "      <td>33.9</td>\n",
       "      <td>NaN</td>\n",
       "      <td>30</td>\n",
       "    </tr>\n",
       "    <tr>\n",
       "      <th>4</th>\n",
       "      <td>40–49</td>\n",
       "      <td>NaN</td>\n",
       "      <td>NaN</td>\n",
       "      <td>41.2</td>\n",
       "      <td>NaN</td>\n",
       "      <td>NaN</td>\n",
       "      <td>40</td>\n",
       "      <td>NaN</td>\n",
       "    </tr>\n",
       "  </tbody>\n",
       "</table>\n",
       "</div>"
      ],
      "text/plain": [
       "  IntervalMa MarineExtinction AnoxicEvent ContinentalBasalt SequenceBoundary  \\\n",
       "0        0–9              2.6         NaN               NaN             5.33   \n",
       "1      10–19             11.6         NaN       16.6 ± 0.03            11.63   \n",
       "2      20–29              NaN         NaN               NaN            23.03   \n",
       "3      30–39             36.5         NaN        30.4 ± 0.4             33.9   \n",
       "4      40–49              NaN         NaN              41.2              NaN   \n",
       "\n",
       "  NonMarineExtinction ChangesSpreadingRate IntraPlateVolcanism  \n",
       "0                7.25                  NaN                   3  \n",
       "1                 NaN                  NaN              10, 15  \n",
       "2                 NaN                  NaN                  23  \n",
       "3                33.9                  NaN                  30  \n",
       "4                 NaN                   40                 NaN  "
      ]
     },
     "execution_count": 17,
     "metadata": {},
     "output_type": "execute_result"
    }
   ],
   "source": [
    "df.head()"
   ]
  },
  {
   "cell_type": "code",
   "execution_count": 18,
   "metadata": {},
   "outputs": [],
   "source": [
    "df_num = df.copy()[[\"MarineExtinction\",\t\"AnoxicEvent\",\t\"ContinentalBasalt\",\t\"SequenceBoundary\",\t\"NonMarineExtinction\",\t\"ChangesSpreadingRate\",\t\"IntraPlateVolcanism\"]]"
   ]
  },
  {
   "cell_type": "code",
   "execution_count": 19,
   "metadata": {},
   "outputs": [],
   "source": [
    "# Create a dictionary of the cleaned events to make a dataframe \n",
    "\n",
    "dict_events = {}\n",
    "for i in data_columns:\n",
    "    col = cleanColumns(i)\n",
    "    dict_events[i.name] = col\n",
    "\n",
    "cleaned_dict = {}\n",
    "for k, v in dict_events.items():\n",
    "    v = [i.split(\",\") for i in v]\n",
    "    v = flatten_list(v)\n",
    "    v = [float(j) for j in v]\n",
    "    cleaned_dict[k] = v\n",
    "    \n",
    "names = []\n",
    "for i in data_cols:\n",
    "    names.append(i.name)\n"
   ]
  },
  {
   "cell_type": "code",
   "execution_count": 23,
   "metadata": {},
   "outputs": [],
   "source": [
    "# Make a dataframe of events\n",
    "df = pd.DataFrame(list(cleaned_dict.items()), columns=[\"Event\", \"Ages\"]) \n",
    "dfT = df.T\n",
    "dfT.columns= names\n",
    "df_events = dfT.iloc[1: , :]"
   ]
  },
  {
   "cell_type": "code",
   "execution_count": 27,
   "metadata": {},
   "outputs": [],
   "source": [
    "# Put each date on a row\n",
    "iterdf = pd.DataFrame()\n",
    "for i in [\"MarineExtinction\",\t\"AnoxicEvent\",\t\"ContinentalBasalt\",\t\"SequenceBoundary\",\t\"NonMarineExtinction\",\t\"ChangesSpreadingRate\",\t\"IntraPlateVolcanism\"]:\n",
    "    col = df_events.explode(i).reset_index(drop=True)[i]\n",
    "    iterdf[i] = col"
   ]
  },
  {
   "cell_type": "code",
   "execution_count": 30,
   "metadata": {},
   "outputs": [
    {
     "data": {
      "text/html": [
       "<div>\n",
       "<style scoped>\n",
       "    .dataframe tbody tr th:only-of-type {\n",
       "        vertical-align: middle;\n",
       "    }\n",
       "\n",
       "    .dataframe tbody tr th {\n",
       "        vertical-align: top;\n",
       "    }\n",
       "\n",
       "    .dataframe thead th {\n",
       "        text-align: right;\n",
       "    }\n",
       "</style>\n",
       "<table border=\"1\" class=\"dataframe\">\n",
       "  <thead>\n",
       "    <tr style=\"text-align: right;\">\n",
       "      <th></th>\n",
       "      <th>MarineExtinction</th>\n",
       "      <th>AnoxicEvent</th>\n",
       "      <th>ContinentalBasalt</th>\n",
       "      <th>SequenceBoundary</th>\n",
       "      <th>NonMarineExtinction</th>\n",
       "      <th>ChangesSpreadingRate</th>\n",
       "      <th>IntraPlateVolcanism</th>\n",
       "      <th>Mid</th>\n",
       "    </tr>\n",
       "  </thead>\n",
       "  <tbody>\n",
       "    <tr>\n",
       "      <th>0</th>\n",
       "      <td>2.6</td>\n",
       "      <td>NaN</td>\n",
       "      <td>NaN</td>\n",
       "      <td>5.33</td>\n",
       "      <td>7.25</td>\n",
       "      <td>NaN</td>\n",
       "      <td>3.0</td>\n",
       "      <td>4.5</td>\n",
       "    </tr>\n",
       "    <tr>\n",
       "      <th>1</th>\n",
       "      <td>11.6</td>\n",
       "      <td>NaN</td>\n",
       "      <td>16.6</td>\n",
       "      <td>11.63</td>\n",
       "      <td>NaN</td>\n",
       "      <td>NaN</td>\n",
       "      <td>10.0</td>\n",
       "      <td>14.5</td>\n",
       "    </tr>\n",
       "    <tr>\n",
       "      <th>2</th>\n",
       "      <td>NaN</td>\n",
       "      <td>NaN</td>\n",
       "      <td>NaN</td>\n",
       "      <td>23.03</td>\n",
       "      <td>NaN</td>\n",
       "      <td>NaN</td>\n",
       "      <td>15.0</td>\n",
       "      <td>24.5</td>\n",
       "    </tr>\n",
       "    <tr>\n",
       "      <th>3</th>\n",
       "      <td>36.5</td>\n",
       "      <td>NaN</td>\n",
       "      <td>30.4</td>\n",
       "      <td>33.9</td>\n",
       "      <td>33.9</td>\n",
       "      <td>NaN</td>\n",
       "      <td>23.0</td>\n",
       "      <td>34.5</td>\n",
       "    </tr>\n",
       "    <tr>\n",
       "      <th>4</th>\n",
       "      <td>NaN</td>\n",
       "      <td>NaN</td>\n",
       "      <td>41.2</td>\n",
       "      <td>NaN</td>\n",
       "      <td>NaN</td>\n",
       "      <td>40.0</td>\n",
       "      <td>30.0</td>\n",
       "      <td>44.5</td>\n",
       "    </tr>\n",
       "  </tbody>\n",
       "</table>\n",
       "</div>"
      ],
      "text/plain": [
       "  MarineExtinction AnoxicEvent ContinentalBasalt SequenceBoundary  \\\n",
       "0              2.6         NaN               NaN             5.33   \n",
       "1             11.6         NaN              16.6            11.63   \n",
       "2              NaN         NaN               NaN            23.03   \n",
       "3             36.5         NaN              30.4             33.9   \n",
       "4              NaN         NaN              41.2              NaN   \n",
       "\n",
       "  NonMarineExtinction ChangesSpreadingRate IntraPlateVolcanism   Mid  \n",
       "0                7.25                  NaN                 3.0   4.5  \n",
       "1                 NaN                  NaN                10.0  14.5  \n",
       "2                 NaN                  NaN                15.0  24.5  \n",
       "3                33.9                  NaN                23.0  34.5  \n",
       "4                 NaN                 40.0                30.0  44.5  "
      ]
     },
     "execution_count": 30,
     "metadata": {},
     "output_type": "execute_result"
    }
   ],
   "source": [
    "iterdf.head()"
   ]
  },
  {
   "cell_type": "code",
   "execution_count": 41,
   "metadata": {},
   "outputs": [
    {
     "data": {
      "text/html": [
       "<div>\n",
       "<style scoped>\n",
       "    .dataframe tbody tr th:only-of-type {\n",
       "        vertical-align: middle;\n",
       "    }\n",
       "\n",
       "    .dataframe tbody tr th {\n",
       "        vertical-align: top;\n",
       "    }\n",
       "\n",
       "    .dataframe thead th {\n",
       "        text-align: right;\n",
       "    }\n",
       "</style>\n",
       "<table border=\"1\" class=\"dataframe\">\n",
       "  <thead>\n",
       "    <tr style=\"text-align: right;\">\n",
       "      <th></th>\n",
       "      <th>MarineExtinction</th>\n",
       "      <th>AnoxicEvent</th>\n",
       "      <th>ContinentalBasalt</th>\n",
       "      <th>SequenceBoundary</th>\n",
       "      <th>NonMarineExtinction</th>\n",
       "      <th>ChangesSpreadingRate</th>\n",
       "      <th>IntraPlateVolcanism</th>\n",
       "      <th>Mya</th>\n",
       "    </tr>\n",
       "  </thead>\n",
       "  <tbody>\n",
       "    <tr>\n",
       "      <th>0</th>\n",
       "      <td>1</td>\n",
       "      <td>0</td>\n",
       "      <td>0</td>\n",
       "      <td>1</td>\n",
       "      <td>1</td>\n",
       "      <td>0</td>\n",
       "      <td>1</td>\n",
       "      <td>4.5</td>\n",
       "    </tr>\n",
       "    <tr>\n",
       "      <th>1</th>\n",
       "      <td>1</td>\n",
       "      <td>0</td>\n",
       "      <td>1</td>\n",
       "      <td>1</td>\n",
       "      <td>0</td>\n",
       "      <td>0</td>\n",
       "      <td>1</td>\n",
       "      <td>14.5</td>\n",
       "    </tr>\n",
       "    <tr>\n",
       "      <th>2</th>\n",
       "      <td>0</td>\n",
       "      <td>0</td>\n",
       "      <td>0</td>\n",
       "      <td>1</td>\n",
       "      <td>0</td>\n",
       "      <td>0</td>\n",
       "      <td>1</td>\n",
       "      <td>24.5</td>\n",
       "    </tr>\n",
       "    <tr>\n",
       "      <th>3</th>\n",
       "      <td>1</td>\n",
       "      <td>0</td>\n",
       "      <td>1</td>\n",
       "      <td>1</td>\n",
       "      <td>1</td>\n",
       "      <td>0</td>\n",
       "      <td>1</td>\n",
       "      <td>34.5</td>\n",
       "    </tr>\n",
       "    <tr>\n",
       "      <th>4</th>\n",
       "      <td>0</td>\n",
       "      <td>0</td>\n",
       "      <td>1</td>\n",
       "      <td>0</td>\n",
       "      <td>0</td>\n",
       "      <td>1</td>\n",
       "      <td>1</td>\n",
       "      <td>44.5</td>\n",
       "    </tr>\n",
       "  </tbody>\n",
       "</table>\n",
       "</div>"
      ],
      "text/plain": [
       "   MarineExtinction  AnoxicEvent  ContinentalBasalt  SequenceBoundary  \\\n",
       "0                 1            0                  0                 1   \n",
       "1                 1            0                  1                 1   \n",
       "2                 0            0                  0                 1   \n",
       "3                 1            0                  1                 1   \n",
       "4                 0            0                  1                 0   \n",
       "\n",
       "   NonMarineExtinction  ChangesSpreadingRate  IntraPlateVolcanism   Mya  \n",
       "0                    1                     0                    1   4.5  \n",
       "1                    0                     0                    1  14.5  \n",
       "2                    0                     0                    1  24.5  \n",
       "3                    1                     0                    1  34.5  \n",
       "4                    0                     1                    1  44.5  "
      ]
     },
     "execution_count": 41,
     "metadata": {},
     "output_type": "execute_result"
    }
   ],
   "source": [
    "# Count rows with events to group them in area plot\n",
    "count_events = iterdf.notnull().astype('int')\n",
    "\n",
    "# pick mid year as average of interval age (mya) given in paper\n",
    "count_events[\"Mid\"] = dates_df[\"Mid\"]\n",
    "count_events.rename(columns={\"Mid\": \"Mya\"}, inplace=True)\n",
    "count_events.head()"
   ]
  },
  {
   "cell_type": "code",
   "execution_count": 49,
   "metadata": {},
   "outputs": [
    {
     "data": {
      "text/plain": [
       "<AxesSubplot:title={'center':'Cummulative number of geological events'}, xlabel='Mya'>"
      ]
     },
     "execution_count": 49,
     "metadata": {},
     "output_type": "execute_result"
    },
    {
     "data": {
      "image/png": "[encoded data removed]",
      "text/plain": [
       "<Figure size 1080x432 with 1 Axes>"
      ]
     },
     "metadata": {
      "needs_background": "light"
     },
     "output_type": "display_data"
    }
   ],
   "source": [
    "count_events.plot.area(x=\"Mya\", title=\"Cummulative number of geological events\", figsize=(15,6))"
   ]
  },
  {
   "cell_type": "markdown",
   "metadata": {},
   "source": [
    "## Moving window analysis"
   ]
  },
  {
   "cell_type": "code",
   "execution_count": 13,
   "metadata": {},
   "outputs": [],
   "source": [
    "dates = pd.DataFrame(cleaned_dates)\n",
    "dates.columns = [\"events\"]\n"
   ]
  },
  {
   "cell_type": "code",
   "execution_count": 14,
   "metadata": {},
   "outputs": [],
   "source": [
    "dates_list = dates[\"events\"].tolist()\n",
    "dates_list = sorted(dates_list)\n"
   ]
  },
  {
   "cell_type": "code",
   "execution_count": 15,
   "metadata": {},
   "outputs": [],
   "source": [
    "resample = np.linspace(0,260,260)\n",
    "df_resampled = dates.reindex(dates.index.union(resample)).loc[resample]\n",
    "df_resampled = df_resampled.reset_index()\n",
    "df_resampled = df_resampled.round(1)\n",
    "df_resampled.drop(columns=[\"events\"], inplace=True)\n",
    "df_resampled[\"events\"] = 0\n",
    "df_resampled.rename(columns={\"index\": \"rate\"}, inplace=True)"
   ]
  },
  {
   "cell_type": "code",
   "execution_count": 16,
   "metadata": {
    "tags": []
   },
   "outputs": [
    {
     "name": "stdout",
     "output_type": "stream",
     "text": [
      "added 89 times\n"
     ]
    }
   ],
   "source": [
    "cnt = 0\n",
    "for index, row in df_resampled.iterrows():\n",
    "    \n",
    "    for i in list_dates:\n",
    "        \n",
    "            \n",
    "        if(0 <= (float(i) - row[\"rate\"]) < 1):\n",
    "            df_resampled.at[index, \"events\"] += 1\n",
    "            # row[\"events\"] = row[\"events\"] +1\n",
    "\n",
    "            cnt += 1\n",
    "print(f\"added {cnt} times\")"
   ]
  },
  {
   "cell_type": "code",
   "execution_count": 17,
   "metadata": {},
   "outputs": [
    {
     "data": {
      "text/plain": [
       "<AxesSubplot:>"
      ]
     },
     "execution_count": 17,
     "metadata": {},
     "output_type": "execute_result"
    },
    {
     "data": {
      "image/png": "[encoded data removed]",
      "text/plain": [
       "<Figure size 432x288 with 1 Axes>"
      ]
     },
     "metadata": {
      "needs_background": "light"
     },
     "output_type": "display_data"
    }
   ],
   "source": [
    "df_resampled.events.plot()"
   ]
  },
  {
   "cell_type": "markdown",
   "metadata": {},
   "source": [
    "## Gaussian Rolling Smoothing\n"
   ]
  },
  {
   "cell_type": "code",
   "execution_count": 18,
   "metadata": {},
   "outputs": [
    {
     "data": {
      "text/plain": [
       "<AxesSubplot:>"
      ]
     },
     "execution_count": 18,
     "metadata": {},
     "output_type": "execute_result"
    },
    {
     "data": {
      "image/png": "[encoded data removed]",
      "text/plain": [
       "<Figure size 432x288 with 1 Axes>"
      ]
     },
     "metadata": {
      "needs_background": "light"
     },
     "output_type": "display_data"
    }
   ],
   "source": [
    "# df_resampled.events.rolling(10, win_type='triang').sum().plot()\n",
    "df_resampled[\"gaussian\"] = df_resampled.events.rolling(10, win_type='gaussian').sum(std=5)\n",
    "df_resampled[\"gaussian\"].plot()"
   ]
  },
  {
   "cell_type": "code",
   "execution_count": 19,
   "metadata": {},
   "outputs": [
    {
     "data": {
      "text/html": [
       "<div>\n",
       "<style scoped>\n",
       "    .dataframe tbody tr th:only-of-type {\n",
       "        vertical-align: middle;\n",
       "    }\n",
       "\n",
       "    .dataframe tbody tr th {\n",
       "        vertical-align: top;\n",
       "    }\n",
       "\n",
       "    .dataframe thead th {\n",
       "        text-align: right;\n",
       "    }\n",
       "</style>\n",
       "<table border=\"1\" class=\"dataframe\">\n",
       "  <thead>\n",
       "    <tr style=\"text-align: right;\">\n",
       "      <th></th>\n",
       "      <th>rate</th>\n",
       "      <th>events</th>\n",
       "      <th>gaussian</th>\n",
       "    </tr>\n",
       "  </thead>\n",
       "  <tbody>\n",
       "    <tr>\n",
       "      <th>0</th>\n",
       "      <td>0.0</td>\n",
       "      <td>0</td>\n",
       "      <td>NaN</td>\n",
       "    </tr>\n",
       "    <tr>\n",
       "      <th>1</th>\n",
       "      <td>1.0</td>\n",
       "      <td>0</td>\n",
       "      <td>NaN</td>\n",
       "    </tr>\n",
       "    <tr>\n",
       "      <th>2</th>\n",
       "      <td>2.0</td>\n",
       "      <td>1</td>\n",
       "      <td>NaN</td>\n",
       "    </tr>\n",
       "    <tr>\n",
       "      <th>3</th>\n",
       "      <td>3.0</td>\n",
       "      <td>1</td>\n",
       "      <td>NaN</td>\n",
       "    </tr>\n",
       "    <tr>\n",
       "      <th>4</th>\n",
       "      <td>4.0</td>\n",
       "      <td>0</td>\n",
       "      <td>NaN</td>\n",
       "    </tr>\n",
       "    <tr>\n",
       "      <th>...</th>\n",
       "      <td>...</td>\n",
       "      <td>...</td>\n",
       "      <td>...</td>\n",
       "    </tr>\n",
       "    <tr>\n",
       "      <th>255</th>\n",
       "      <td>256.0</td>\n",
       "      <td>0</td>\n",
       "      <td>5.642039</td>\n",
       "    </tr>\n",
       "    <tr>\n",
       "      <th>256</th>\n",
       "      <td>257.0</td>\n",
       "      <td>0</td>\n",
       "      <td>4.819002</td>\n",
       "    </tr>\n",
       "    <tr>\n",
       "      <th>257</th>\n",
       "      <td>258.0</td>\n",
       "      <td>0</td>\n",
       "      <td>4.485985</td>\n",
       "    </tr>\n",
       "    <tr>\n",
       "      <th>258</th>\n",
       "      <td>259.0</td>\n",
       "      <td>4</td>\n",
       "      <td>6.681222</td>\n",
       "    </tr>\n",
       "    <tr>\n",
       "      <th>259</th>\n",
       "      <td>260.0</td>\n",
       "      <td>1</td>\n",
       "      <td>7.248407</td>\n",
       "    </tr>\n",
       "  </tbody>\n",
       "</table>\n",
       "<p>260 rows × 3 columns</p>\n",
       "</div>"
      ],
      "text/plain": [
       "      rate  events  gaussian\n",
       "0      0.0       0       NaN\n",
       "1      1.0       0       NaN\n",
       "2      2.0       1       NaN\n",
       "3      3.0       1       NaN\n",
       "4      4.0       0       NaN\n",
       "..     ...     ...       ...\n",
       "255  256.0       0  5.642039\n",
       "256  257.0       0  4.819002\n",
       "257  258.0       0  4.485985\n",
       "258  259.0       4  6.681222\n",
       "259  260.0       1  7.248407\n",
       "\n",
       "[260 rows x 3 columns]"
      ]
     },
     "execution_count": 19,
     "metadata": {},
     "output_type": "execute_result"
    }
   ],
   "source": [
    "df_resampled"
   ]
  },
  {
   "cell_type": "code",
   "execution_count": 20,
   "metadata": {},
   "outputs": [
    {
     "data": {
      "text/html": [
       "<div>\n",
       "<style scoped>\n",
       "    .dataframe tbody tr th:only-of-type {\n",
       "        vertical-align: middle;\n",
       "    }\n",
       "\n",
       "    .dataframe tbody tr th {\n",
       "        vertical-align: top;\n",
       "    }\n",
       "\n",
       "    .dataframe thead th {\n",
       "        text-align: right;\n",
       "    }\n",
       "</style>\n",
       "<table border=\"1\" class=\"dataframe\">\n",
       "  <thead>\n",
       "    <tr style=\"text-align: right;\">\n",
       "      <th></th>\n",
       "      <th>rate</th>\n",
       "      <th>events</th>\n",
       "      <th>gaussian</th>\n",
       "    </tr>\n",
       "  </thead>\n",
       "  <tbody>\n",
       "    <tr>\n",
       "      <th>0</th>\n",
       "      <td>0.0</td>\n",
       "      <td>0</td>\n",
       "      <td>NaN</td>\n",
       "    </tr>\n",
       "    <tr>\n",
       "      <th>1</th>\n",
       "      <td>1.0</td>\n",
       "      <td>0</td>\n",
       "      <td>NaN</td>\n",
       "    </tr>\n",
       "    <tr>\n",
       "      <th>2</th>\n",
       "      <td>2.0</td>\n",
       "      <td>1</td>\n",
       "      <td>NaN</td>\n",
       "    </tr>\n",
       "    <tr>\n",
       "      <th>3</th>\n",
       "      <td>3.0</td>\n",
       "      <td>1</td>\n",
       "      <td>NaN</td>\n",
       "    </tr>\n",
       "    <tr>\n",
       "      <th>4</th>\n",
       "      <td>4.0</td>\n",
       "      <td>0</td>\n",
       "      <td>NaN</td>\n",
       "    </tr>\n",
       "    <tr>\n",
       "      <th>...</th>\n",
       "      <td>...</td>\n",
       "      <td>...</td>\n",
       "      <td>...</td>\n",
       "    </tr>\n",
       "    <tr>\n",
       "      <th>255</th>\n",
       "      <td>256.0</td>\n",
       "      <td>0</td>\n",
       "      <td>5.642039</td>\n",
       "    </tr>\n",
       "    <tr>\n",
       "      <th>256</th>\n",
       "      <td>257.0</td>\n",
       "      <td>0</td>\n",
       "      <td>4.819002</td>\n",
       "    </tr>\n",
       "    <tr>\n",
       "      <th>257</th>\n",
       "      <td>258.0</td>\n",
       "      <td>0</td>\n",
       "      <td>4.485985</td>\n",
       "    </tr>\n",
       "    <tr>\n",
       "      <th>258</th>\n",
       "      <td>259.0</td>\n",
       "      <td>4</td>\n",
       "      <td>6.681222</td>\n",
       "    </tr>\n",
       "    <tr>\n",
       "      <th>259</th>\n",
       "      <td>260.0</td>\n",
       "      <td>1</td>\n",
       "      <td>7.248407</td>\n",
       "    </tr>\n",
       "  </tbody>\n",
       "</table>\n",
       "<p>260 rows × 3 columns</p>\n",
       "</div>"
      ],
      "text/plain": [
       "      rate  events  gaussian\n",
       "0      0.0       0       NaN\n",
       "1      1.0       0       NaN\n",
       "2      2.0       1       NaN\n",
       "3      3.0       1       NaN\n",
       "4      4.0       0       NaN\n",
       "..     ...     ...       ...\n",
       "255  256.0       0  5.642039\n",
       "256  257.0       0  4.819002\n",
       "257  258.0       0  4.485985\n",
       "258  259.0       4  6.681222\n",
       "259  260.0       1  7.248407\n",
       "\n",
       "[260 rows x 3 columns]"
      ]
     },
     "execution_count": 20,
     "metadata": {},
     "output_type": "execute_result"
    }
   ],
   "source": [
    "df_resampled"
   ]
  },
  {
   "cell_type": "code",
   "execution_count": 21,
   "metadata": {},
   "outputs": [
    {
     "data": {
      "text/plain": [
       "<AxesSubplot:>"
      ]
     },
     "execution_count": 21,
     "metadata": {},
     "output_type": "execute_result"
    },
    {
     "data": {
      "image/png": "[encoded data removed]",
      "text/plain": [
       "<Figure size 432x288 with 1 Axes>"
      ]
     },
     "metadata": {
      "needs_background": "light"
     },
     "output_type": "display_data"
    }
   ],
   "source": [
    "dates.events.hist(bins=89)"
   ]
  },
  {
   "cell_type": "markdown",
   "metadata": {},
   "source": [
    "## Fourier Analysis"
   ]
  },
  {
   "cell_type": "code",
   "execution_count": 22,
   "metadata": {},
   "outputs": [
    {
     "data": {
      "text/plain": [
       "0         NaN\n",
       "1         NaN\n",
       "2         NaN\n",
       "3         NaN\n",
       "4         NaN\n",
       "5         NaN\n",
       "6         NaN\n",
       "7         NaN\n",
       "8         NaN\n",
       "9    3.716004\n",
       "Name: gaussian, dtype: float64"
      ]
     },
     "execution_count": 22,
     "metadata": {},
     "output_type": "execute_result"
    }
   ],
   "source": [
    "df_resampled[\"gaussian\"].interpolate().head(10)"
   ]
  },
  {
   "cell_type": "code",
   "execution_count": 23,
   "metadata": {},
   "outputs": [],
   "source": [
    "from scipy.interpolate import interp1d"
   ]
  },
  {
   "cell_type": "code",
   "execution_count": 26,
   "metadata": {},
   "outputs": [
    {
     "data": {
      "text/plain": [
       "<AxesSubplot:>"
      ]
     },
     "execution_count": 26,
     "metadata": {},
     "output_type": "execute_result"
    },
    {
     "data": {
      "image/png": "[encoded data removed]",
      "text/plain": [
       "<Figure size 432x288 with 1 Axes>"
      ]
     },
     "metadata": {
      "needs_background": "light"
     },
     "output_type": "display_data"
    }
   ],
   "source": [
    "df_resampled[\"gaussian\"].plot()"
   ]
  },
  {
   "cell_type": "code",
   "execution_count": 27,
   "metadata": {},
   "outputs": [],
   "source": [
    "dt = 1\n",
    "freq, spectrum = spec.amp_spec(df_resampled.events.to_numpy(), dt)\n",
    "Per = np.zeros(len(freq))\n",
    "Per[1:] = 1/freq[1:]"
   ]
  },
  {
   "cell_type": "code",
   "execution_count": 28,
   "metadata": {},
   "outputs": [
    {
     "data": {
      "text/plain": [
       "Text(0, 0.5, 'Amplitud')"
      ]
     },
     "execution_count": 28,
     "metadata": {},
     "output_type": "execute_result"
    },
    {
     "data": {
      "image/png": "[encoded data removed]",
      "text/plain": [
       "<Figure size 432x288 with 1 Axes>"
      ]
     },
     "metadata": {
      "needs_background": "light"
     },
     "output_type": "display_data"
    }
   ],
   "source": [
    "# Figure de los datos\n",
    "fig, ax = plt.subplots()\n",
    "ax.plot(Per, spectrum, 'r')\n",
    "ax.set_xlabel('Periodo (años)')\n",
    "ax.set_xlim(0,100)\n",
    "ax.set_ylabel('Amplitud')"
   ]
  },
  {
   "cell_type": "code",
   "execution_count": 29,
   "metadata": {},
   "outputs": [
    {
     "data": {
      "text/plain": [
       "Text(0, 0.5, 'Amplitud')"
      ]
     },
     "execution_count": 29,
     "metadata": {},
     "output_type": "execute_result"
    },
    {
     "data": {
      "image/png": "[encoded data removed]",
      "text/plain": [
       "<Figure size 432x288 with 1 Axes>"
      ]
     },
     "metadata": {
      "needs_background": "light"
     },
     "output_type": "display_data"
    }
   ],
   "source": [
    "fig, ax = plt.subplots()\n",
    "\n",
    "ax.plot(np.linspace(0,260,260),df_resampled[\"gaussian\"], 'r')\n",
    "ax.set_xlabel('Periodo (años)')\n",
    "ax.set_ylabel('Amplitud')"
   ]
  },
  {
   "cell_type": "code",
   "execution_count": 30,
   "metadata": {},
   "outputs": [],
   "source": [
    "from scipy import signal\n",
    "freqs, times, spectrogram = signal.spectrogram(df_resampled[\"gaussian\"].bfill())"
   ]
  },
  {
   "cell_type": "code",
   "execution_count": 31,
   "metadata": {},
   "outputs": [
    {
     "data": {
      "image/png": "[encoded data removed]",
      "text/plain": [
       "<Figure size 360x288 with 1 Axes>"
      ]
     },
     "metadata": {
      "needs_background": "light"
     },
     "output_type": "display_data"
    }
   ],
   "source": [
    "freqs, psd = signal.welch(df_resampled[\"gaussian\"].bfill())\n",
    "\n",
    "plt.figure(figsize=(5, 4))\n",
    "plt.semilogx(freqs, psd)\n",
    "plt.title('PSD: power spectral density')\n",
    "plt.xlabel('Frequency')\n",
    "plt.ylabel('Power')\n",
    "plt.tight_layout()"
   ]
  },
  {
   "cell_type": "code",
   "execution_count": 32,
   "metadata": {},
   "outputs": [],
   "source": [
    "marine_extinction = df[\"MarineExtinction\"]\n",
    "nonmarine_extinction = df[\"NonMarineExtinction\"]\n",
    "\n",
    "\n",
    "data_columns_exts = [marine_extinction, nonmarine_extinction]"
   ]
  },
  {
   "cell_type": "code",
   "execution_count": 33,
   "metadata": {},
   "outputs": [],
   "source": [
    "anoxic_event = df[\"AnoxicEvent\"]\n",
    "continental_basalt = df[\"ContinentalBasalt\"]\n",
    "sequence_boundary = df[\"SequenceBoundary\"]\n",
    "changes_spreading_rate = df[\"ChangesSpreadingRate\"]\n",
    "intraplate_volcanism = df[\"IntraPlateVolcanism\"]\n",
    "\n",
    "data_columns_non_exts = [anoxic_event, continental_basalt, sequence_boundary,changes_spreading_rate, intraplate_volcanism]"
   ]
  },
  {
   "cell_type": "code",
   "execution_count": 34,
   "metadata": {},
   "outputs": [
    {
     "name": "stdout",
     "output_type": "stream",
     "text": [
      "added 69 times\n"
     ]
    }
   ],
   "source": [
    "temp_dates = []\n",
    "for i in data_columns_non_exts:\n",
    "    i = cleanColumns(i)\n",
    "    temp_dates.append(i)\n",
    "\n",
    "raw_dates = []\n",
    "for i in temp_dates:\n",
    "    i = [x.split(\",\") for x in i]\n",
    "    raw_dates.append(i)\n",
    "\n",
    "def flatten_list(_2d_list):\n",
    "    flat_list = []\n",
    "    # Iterate through the outer list\n",
    "    for element in _2d_list:\n",
    "        if type(element) is list:\n",
    "            # If the element is of type list, iterate through the sublist\n",
    "            for item in element:\n",
    "                flat_list.append(item)\n",
    "        else:\n",
    "            flat_list.append(element)\n",
    "    return flat_list\n",
    "\n",
    "def convertFloat(lst):\n",
    "    return [float(item) for item in lst]\n",
    "\n",
    "\n",
    "# flatten_twice\n",
    "list_dates = flatten_list(flatten_list(raw_dates))\n",
    "# convert all elements to float\n",
    "float_dates = convertFloat(list_dates)\n",
    "# clean of Nans\n",
    "cleaned_dates = [x for x in float_dates if str(x) != 'nan']\n",
    "\n",
    "dates = pd.DataFrame(cleaned_dates)\n",
    "dates.columns = [\"events\"]\n",
    "\n",
    "dates_list = dates[\"events\"].tolist()\n",
    "dates_list = sorted(dates_list)\n",
    "\n",
    "\n",
    "resample = np.linspace(0,260,260)\n",
    "df_resampled = dates.reindex(dates.index.union(resample)).loc[resample]\n",
    "df_resampled = df_resampled.reset_index()\n",
    "df_resampled = df_resampled.round(1)\n",
    "df_resampled.drop(columns=[\"events\"], inplace=True)\n",
    "df_resampled[\"events\"] = 0\n",
    "df_resampled.rename(columns={\"index\": \"rate\"}, inplace=True)\n",
    "\n",
    "cnt = 0\n",
    "for index, row in df_resampled.iterrows():\n",
    "    \n",
    "    for i in list_dates:\n",
    "        \n",
    "            \n",
    "        if(0 <= (float(i) - row[\"rate\"]) < 1):\n",
    "            df_resampled.at[index, \"events\"] += 1\n",
    "            # row[\"events\"] = row[\"events\"] +1\n",
    "\n",
    "            cnt += 1\n",
    "print(f\"added {cnt} times\")"
   ]
  },
  {
   "cell_type": "code",
   "execution_count": 35,
   "metadata": {},
   "outputs": [
    {
     "data": {
      "text/html": [
       "<div>\n",
       "<style scoped>\n",
       "    .dataframe tbody tr th:only-of-type {\n",
       "        vertical-align: middle;\n",
       "    }\n",
       "\n",
       "    .dataframe tbody tr th {\n",
       "        vertical-align: top;\n",
       "    }\n",
       "\n",
       "    .dataframe thead th {\n",
       "        text-align: right;\n",
       "    }\n",
       "</style>\n",
       "<table border=\"1\" class=\"dataframe\">\n",
       "  <thead>\n",
       "    <tr style=\"text-align: right;\">\n",
       "      <th></th>\n",
       "      <th>rate</th>\n",
       "      <th>events</th>\n",
       "    </tr>\n",
       "  </thead>\n",
       "  <tbody>\n",
       "    <tr>\n",
       "      <th>0</th>\n",
       "      <td>0.0</td>\n",
       "      <td>0</td>\n",
       "    </tr>\n",
       "    <tr>\n",
       "      <th>1</th>\n",
       "      <td>1.0</td>\n",
       "      <td>0</td>\n",
       "    </tr>\n",
       "    <tr>\n",
       "      <th>2</th>\n",
       "      <td>2.0</td>\n",
       "      <td>0</td>\n",
       "    </tr>\n",
       "    <tr>\n",
       "      <th>3</th>\n",
       "      <td>3.0</td>\n",
       "      <td>1</td>\n",
       "    </tr>\n",
       "    <tr>\n",
       "      <th>4</th>\n",
       "      <td>4.0</td>\n",
       "      <td>0</td>\n",
       "    </tr>\n",
       "    <tr>\n",
       "      <th>...</th>\n",
       "      <td>...</td>\n",
       "      <td>...</td>\n",
       "    </tr>\n",
       "    <tr>\n",
       "      <th>255</th>\n",
       "      <td>256.0</td>\n",
       "      <td>0</td>\n",
       "    </tr>\n",
       "    <tr>\n",
       "      <th>256</th>\n",
       "      <td>257.0</td>\n",
       "      <td>0</td>\n",
       "    </tr>\n",
       "    <tr>\n",
       "      <th>257</th>\n",
       "      <td>258.0</td>\n",
       "      <td>0</td>\n",
       "    </tr>\n",
       "    <tr>\n",
       "      <th>258</th>\n",
       "      <td>259.0</td>\n",
       "      <td>2</td>\n",
       "    </tr>\n",
       "    <tr>\n",
       "      <th>259</th>\n",
       "      <td>260.0</td>\n",
       "      <td>1</td>\n",
       "    </tr>\n",
       "  </tbody>\n",
       "</table>\n",
       "<p>260 rows × 2 columns</p>\n",
       "</div>"
      ],
      "text/plain": [
       "      rate  events\n",
       "0      0.0       0\n",
       "1      1.0       0\n",
       "2      2.0       0\n",
       "3      3.0       1\n",
       "4      4.0       0\n",
       "..     ...     ...\n",
       "255  256.0       0\n",
       "256  257.0       0\n",
       "257  258.0       0\n",
       "258  259.0       2\n",
       "259  260.0       1\n",
       "\n",
       "[260 rows x 2 columns]"
      ]
     },
     "execution_count": 35,
     "metadata": {},
     "output_type": "execute_result"
    }
   ],
   "source": [
    "df_resampled"
   ]
  },
  {
   "cell_type": "code",
   "execution_count": 36,
   "metadata": {},
   "outputs": [
    {
     "data": {
      "text/plain": [
       "<AxesSubplot:title={'center':'Only Non-Extinction Events'}>"
      ]
     },
     "execution_count": 36,
     "metadata": {},
     "output_type": "execute_result"
    },
    {
     "data": {
      "image/png": "[encoded data removed]",
      "text/plain": [
       "<Figure size 432x288 with 1 Axes>"
      ]
     },
     "metadata": {
      "needs_background": "light"
     },
     "output_type": "display_data"
    }
   ],
   "source": [
    "# df_resampled.events.rolling(10, win_type='triang').sum().plot()\n",
    "df_resampled[\"gaussian\"] = df_resampled.events.rolling(10, win_type='gaussian').sum(std=5)\n",
    "df_resampled[\"gaussian\"].plot(title=\"Only Non-Extinction Events\")\n"
   ]
  },
  {
   "cell_type": "code",
   "execution_count": 37,
   "metadata": {},
   "outputs": [
    {
     "data": {
      "text/plain": [
       "Text(0, 0.5, 'Amplitud')"
      ]
     },
     "execution_count": 37,
     "metadata": {},
     "output_type": "execute_result"
    },
    {
     "data": {
      "image/png": "[encoded data removed]",
      "text/plain": [
       "<Figure size 432x288 with 1 Axes>"
      ]
     },
     "metadata": {
      "needs_background": "light"
     },
     "output_type": "display_data"
    }
   ],
   "source": [
    "dt = 1\n",
    "freq, spectrum = spec.amp_spec(df_resampled.events.to_numpy(), dt)\n",
    "Per = np.zeros(len(freq))\n",
    "Per[1:] = 1/freq[1:]\n",
    "\n",
    "# Figure de los datos\n",
    "fig, ax = plt.subplots()\n",
    "ax.plot(Per, spectrum, 'r')\n",
    "ax.set_xlabel('Periodo (años)')\n",
    "ax.set_xlim(0,100)\n",
    "ax.set_ylabel('Amplitud')"
   ]
  },
  {
   "cell_type": "code",
   "execution_count": 38,
   "metadata": {},
   "outputs": [
    {
     "data": {
      "image/png": "[encoded data removed]",
      "text/plain": [
       "<Figure size 360x288 with 1 Axes>"
      ]
     },
     "metadata": {
      "needs_background": "light"
     },
     "output_type": "display_data"
    }
   ],
   "source": [
    "freqs, psd = signal.welch(df_resampled[\"gaussian\"].bfill())\n",
    "\n",
    "plt.figure(figsize=(5, 4))\n",
    "plt.semilogx(freqs, psd)\n",
    "plt.title('PSD: power spectral density')\n",
    "plt.xlabel('Frequency')\n",
    "plt.ylabel('Power')\n",
    "plt.tight_layout()"
   ]
  },
  {
   "cell_type": "code",
   "execution_count": null,
   "metadata": {},
   "outputs": [],
   "source": []
  },
  {
   "cell_type": "code",
   "execution_count": null,
   "metadata": {},
   "outputs": [],
   "source": []
  }
 ],
 "metadata": {
  "interpreter": {
   "hash": "6b064fc685c52604badb0dc209731001517377f8aedb447138004ef620d05180"
  },
  "kernelspec": {
   "display_name": "Python 3",
   "language": "python",
   "name": "python3"
  },
  "language_info": {
   "codemirror_mode": {
    "name": "ipython",
    "version": 3
   },
   "file_extension": ".py",
   "mimetype": "text/x-python",
   "name": "python",
   "nbconvert_exporter": "python",
   "pygments_lexer": "ipython3",
   "version": "3.8.5"
  }
 },
 "nbformat": 4,
 "nbformat_minor": 4
}
