{
 "metadata": {
  "language_info": {
   "codemirror_mode": {
    "name": "ipython",
    "version": 3
   },
   "file_extension": ".py",
   "mimetype": "text/x-python",
   "name": "python",
   "nbconvert_exporter": "python",
   "pygments_lexer": "ipython3",
   "version": "3.8.5"
  },
  "orig_nbformat": 4,
  "kernelspec": {
   "name": "python3",
   "display_name": "Python 3.8.5 64-bit ('base': conda)"
  },
  "interpreter": {
   "hash": "6b064fc685c52604badb0dc209731001517377f8aedb447138004ef620d05180"
  }
 },
 "nbformat": 4,
 "nbformat_minor": 2,
 "cells": [
  {
   "source": [
    "### Code implementation - A pulse of the Earth: A 27.5-Myr underlying cycle in coordinated geological events over the last 260 Myr by Michael R. Rampino, Ken Caldeira and Yuhong Zhu\n"
   ],
   "cell_type": "markdown",
   "metadata": {}
  },
  {
   "cell_type": "code",
   "execution_count": 259,
   "metadata": {},
   "outputs": [],
   "source": [
    "import numpy as np \n",
    "import matplotlib.pyplot as plt \n",
    "import pandas as pd \n",
    "import seaborn as sns"
   ]
  },
  {
   "source": [
    "### Columns in the dataset are main events in the geological record (compiled by Rampino et al, 2021) as provided in the paper"
   ],
   "cell_type": "markdown",
   "metadata": {}
  },
  {
   "source": [
    "## Data cleaning\n",
    "\n",
    "The idea is to leave a list of dates to see any recurrent pattern"
   ],
   "cell_type": "markdown",
   "metadata": {}
  },
  {
   "cell_type": "code",
   "execution_count": 260,
   "metadata": {},
   "outputs": [
    {
     "output_type": "execute_result",
     "data": {
      "text/plain": [
       "Index(['IntervalMa', 'MarineExtinction', 'AnoxicEvent', 'ContinentalBasalt',\n",
       "       'SequenceBoundary', 'NonMarineExtinction', 'ChangesSpreadingRate',\n",
       "       'IntraPlateVolcanism'],\n",
       "      dtype='object')"
      ]
     },
     "metadata": {},
     "execution_count": 260
    }
   ],
   "source": [
    "df = pd.read_excel(\"geological_events.xlsx\")\n",
    "df.columns"
   ]
  },
  {
   "cell_type": "code",
   "execution_count": 261,
   "metadata": {},
   "outputs": [
    {
     "output_type": "execute_result",
     "data": {
      "text/plain": [
       "   IntervalMa MarineExtinction   AnoxicEvent ContinentalBasalt  \\\n",
       "0         0–9              2.6             —                 —   \n",
       "1       10–19             11.6             —       16.6 ± 0.03   \n",
       "2       20–29                —             —                 —   \n",
       "3       30–39             36.5             —        30.4 ± 0.4   \n",
       "4       40–49                —             —              41.2   \n",
       "5       50–59                —          56.0        56.6 ± 0.3   \n",
       "6       60–69            66.04            66        61.9; 66.3   \n",
       "7       70–79                —             —                 —   \n",
       "8       80–89                —             —                 —   \n",
       "9       90–99             93.9          93.9        92.9 ± 3.8   \n",
       "10    100–109                —             —                 —   \n",
       "11    110–119                —             —           118 ± 1   \n",
       "12    120–129              124           124       123.5 ± 1.5   \n",
       "13    130–139                —         132.6         134.7 ± 1   \n",
       "14    140–149            143.1             —                 —   \n",
       "15    150–159                —           152                 —   \n",
       "16    160–169                —             —                 —   \n",
       "17    170–179                —             —                 —   \n",
       "18    180–189      184.2 ± 0.7   184.2 ± 0.7      182.7 ± 0.03   \n",
       "19    190–199                —             —                 —   \n",
       "20    200–209      201.4 ± 0.2   201.4 ± 0.2      201.5 ± 0.05   \n",
       "21    210–219              215             —                 —   \n",
       "22    220–229                —             —               228   \n",
       "23    230–239                —             —                 —   \n",
       "24    240–249                —             —                 —   \n",
       "25    250–259     251.9 ± 0.02  251.9 ± 0.02      251.9 ± 0.07   \n",
       "26    260–269      259.8 ± 0.5   259.8 ± 0.5       259.6 ± 0.5   \n",
       "\n",
       "    SequenceBoundary NonMarineExtinction ChangesSpreadingRate  \\\n",
       "0               5.33                7.25                    —   \n",
       "1              11.63                   —                    —   \n",
       "2              23.03                   —                    —   \n",
       "3               33.9                33.9                    —   \n",
       "4                  —                   —                   40   \n",
       "5               52.0                   —               50, 58   \n",
       "6           61.6; 68                  66                    —   \n",
       "7                  —                   —                   75   \n",
       "8               84.2                   —                   80   \n",
       "9               93.9                   —                    —   \n",
       "10          100; 109                   —                    —   \n",
       "11                 —                   —                    —   \n",
       "12        124; 129.4                   —                  120   \n",
       "13      132.6; 139.8                   —                    —   \n",
       "14       149.2 ± 0.9               143.1                  140   \n",
       "15              ____                   —                  155   \n",
       "16       161.5 ± 1.0                   —                    —   \n",
       "17       170.3 ± 1.4                   —                  170   \n",
       "18       184.2 ± 0.7                   —                    —   \n",
       "19  190.8 ± 1.0; 199                   —                    —   \n",
       "20             205.7         201.4 ± 0.2                    —   \n",
       "21               218                 215                    —   \n",
       "22             227.3                   —                    —   \n",
       "23               237                   —                    —   \n",
       "24               247                   —                    —   \n",
       "25               252        251.9 ± 0.02                    —   \n",
       "26               260         259.8 ± 0.5                    —   \n",
       "\n",
       "   IntraPlateVolcanism  \n",
       "0                    3  \n",
       "1               10, 15  \n",
       "2                   23  \n",
       "3                   30  \n",
       "4                  NaN  \n",
       "5                    —  \n",
       "6               60, 65  \n",
       "7                    —  \n",
       "8                    —  \n",
       "9                    —  \n",
       "10                   —  \n",
       "11                   —  \n",
       "12                   —  \n",
       "13                 NaN  \n",
       "14                   —  \n",
       "15                   —  \n",
       "16                   —  \n",
       "17                   —  \n",
       "18                   —  \n",
       "19                   —  \n",
       "20                   —  \n",
       "21                   —  \n",
       "22                 NaN  \n",
       "23                   —  \n",
       "24                   —  \n",
       "25                   —  \n",
       "26                   —  "
      ],
      "text/html": "<div>\n<style scoped>\n    .dataframe tbody tr th:only-of-type {\n        vertical-align: middle;\n    }\n\n    .dataframe tbody tr th {\n        vertical-align: top;\n    }\n\n    .dataframe thead th {\n        text-align: right;\n    }\n</style>\n<table border=\"1\" class=\"dataframe\">\n  <thead>\n    <tr style=\"text-align: right;\">\n      <th></th>\n      <th>IntervalMa</th>\n      <th>MarineExtinction</th>\n      <th>AnoxicEvent</th>\n      <th>ContinentalBasalt</th>\n      <th>SequenceBoundary</th>\n      <th>NonMarineExtinction</th>\n      <th>ChangesSpreadingRate</th>\n      <th>IntraPlateVolcanism</th>\n    </tr>\n  </thead>\n  <tbody>\n    <tr>\n      <th>0</th>\n      <td>0–9</td>\n      <td>2.6</td>\n      <td>—</td>\n      <td>—</td>\n      <td>5.33</td>\n      <td>7.25</td>\n      <td>—</td>\n      <td>3</td>\n    </tr>\n    <tr>\n      <th>1</th>\n      <td>10–19</td>\n      <td>11.6</td>\n      <td>—</td>\n      <td>16.6 ± 0.03</td>\n      <td>11.63</td>\n      <td>—</td>\n      <td>—</td>\n      <td>10, 15</td>\n    </tr>\n    <tr>\n      <th>2</th>\n      <td>20–29</td>\n      <td>—</td>\n      <td>—</td>\n      <td>—</td>\n      <td>23.03</td>\n      <td>—</td>\n      <td>—</td>\n      <td>23</td>\n    </tr>\n    <tr>\n      <th>3</th>\n      <td>30–39</td>\n      <td>36.5</td>\n      <td>—</td>\n      <td>30.4 ± 0.4</td>\n      <td>33.9</td>\n      <td>33.9</td>\n      <td>—</td>\n      <td>30</td>\n    </tr>\n    <tr>\n      <th>4</th>\n      <td>40–49</td>\n      <td>—</td>\n      <td>—</td>\n      <td>41.2</td>\n      <td>—</td>\n      <td>—</td>\n      <td>40</td>\n      <td>NaN</td>\n    </tr>\n    <tr>\n      <th>5</th>\n      <td>50–59</td>\n      <td>—</td>\n      <td>56.0</td>\n      <td>56.6 ± 0.3</td>\n      <td>52.0</td>\n      <td>—</td>\n      <td>50, 58</td>\n      <td>—</td>\n    </tr>\n    <tr>\n      <th>6</th>\n      <td>60–69</td>\n      <td>66.04</td>\n      <td>66</td>\n      <td>61.9; 66.3</td>\n      <td>61.6; 68</td>\n      <td>66</td>\n      <td>—</td>\n      <td>60, 65</td>\n    </tr>\n    <tr>\n      <th>7</th>\n      <td>70–79</td>\n      <td>—</td>\n      <td>—</td>\n      <td>—</td>\n      <td>—</td>\n      <td>—</td>\n      <td>75</td>\n      <td>—</td>\n    </tr>\n    <tr>\n      <th>8</th>\n      <td>80–89</td>\n      <td>—</td>\n      <td>—</td>\n      <td>—</td>\n      <td>84.2</td>\n      <td>—</td>\n      <td>80</td>\n      <td>—</td>\n    </tr>\n    <tr>\n      <th>9</th>\n      <td>90–99</td>\n      <td>93.9</td>\n      <td>93.9</td>\n      <td>92.9 ± 3.8</td>\n      <td>93.9</td>\n      <td>—</td>\n      <td>—</td>\n      <td>—</td>\n    </tr>\n    <tr>\n      <th>10</th>\n      <td>100–109</td>\n      <td>—</td>\n      <td>—</td>\n      <td>—</td>\n      <td>100; 109</td>\n      <td>—</td>\n      <td>—</td>\n      <td>—</td>\n    </tr>\n    <tr>\n      <th>11</th>\n      <td>110–119</td>\n      <td>—</td>\n      <td>—</td>\n      <td>118 ± 1</td>\n      <td>—</td>\n      <td>—</td>\n      <td>—</td>\n      <td>—</td>\n    </tr>\n    <tr>\n      <th>12</th>\n      <td>120–129</td>\n      <td>124</td>\n      <td>124</td>\n      <td>123.5 ± 1.5</td>\n      <td>124; 129.4</td>\n      <td>—</td>\n      <td>120</td>\n      <td>—</td>\n    </tr>\n    <tr>\n      <th>13</th>\n      <td>130–139</td>\n      <td>—</td>\n      <td>132.6</td>\n      <td>134.7 ± 1</td>\n      <td>132.6; 139.8</td>\n      <td>—</td>\n      <td>—</td>\n      <td>NaN</td>\n    </tr>\n    <tr>\n      <th>14</th>\n      <td>140–149</td>\n      <td>143.1</td>\n      <td>—</td>\n      <td>—</td>\n      <td>149.2 ± 0.9</td>\n      <td>143.1</td>\n      <td>140</td>\n      <td>—</td>\n    </tr>\n    <tr>\n      <th>15</th>\n      <td>150–159</td>\n      <td>—</td>\n      <td>152</td>\n      <td>—</td>\n      <td>____</td>\n      <td>—</td>\n      <td>155</td>\n      <td>—</td>\n    </tr>\n    <tr>\n      <th>16</th>\n      <td>160–169</td>\n      <td>—</td>\n      <td>—</td>\n      <td>—</td>\n      <td>161.5 ± 1.0</td>\n      <td>—</td>\n      <td>—</td>\n      <td>—</td>\n    </tr>\n    <tr>\n      <th>17</th>\n      <td>170–179</td>\n      <td>—</td>\n      <td>—</td>\n      <td>—</td>\n      <td>170.3 ± 1.4</td>\n      <td>—</td>\n      <td>170</td>\n      <td>—</td>\n    </tr>\n    <tr>\n      <th>18</th>\n      <td>180–189</td>\n      <td>184.2 ± 0.7</td>\n      <td>184.2 ± 0.7</td>\n      <td>182.7 ± 0.03</td>\n      <td>184.2 ± 0.7</td>\n      <td>—</td>\n      <td>—</td>\n      <td>—</td>\n    </tr>\n    <tr>\n      <th>19</th>\n      <td>190–199</td>\n      <td>—</td>\n      <td>—</td>\n      <td>—</td>\n      <td>190.8 ± 1.0; 199</td>\n      <td>—</td>\n      <td>—</td>\n      <td>—</td>\n    </tr>\n    <tr>\n      <th>20</th>\n      <td>200–209</td>\n      <td>201.4 ± 0.2</td>\n      <td>201.4 ± 0.2</td>\n      <td>201.5 ± 0.05</td>\n      <td>205.7</td>\n      <td>201.4 ± 0.2</td>\n      <td>—</td>\n      <td>—</td>\n    </tr>\n    <tr>\n      <th>21</th>\n      <td>210–219</td>\n      <td>215</td>\n      <td>—</td>\n      <td>—</td>\n      <td>218</td>\n      <td>215</td>\n      <td>—</td>\n      <td>—</td>\n    </tr>\n    <tr>\n      <th>22</th>\n      <td>220–229</td>\n      <td>—</td>\n      <td>—</td>\n      <td>228</td>\n      <td>227.3</td>\n      <td>—</td>\n      <td>—</td>\n      <td>NaN</td>\n    </tr>\n    <tr>\n      <th>23</th>\n      <td>230–239</td>\n      <td>—</td>\n      <td>—</td>\n      <td>—</td>\n      <td>237</td>\n      <td>—</td>\n      <td>—</td>\n      <td>—</td>\n    </tr>\n    <tr>\n      <th>24</th>\n      <td>240–249</td>\n      <td>—</td>\n      <td>—</td>\n      <td>—</td>\n      <td>247</td>\n      <td>—</td>\n      <td>—</td>\n      <td>—</td>\n    </tr>\n    <tr>\n      <th>25</th>\n      <td>250–259</td>\n      <td>251.9 ± 0.02</td>\n      <td>251.9 ± 0.02</td>\n      <td>251.9 ± 0.07</td>\n      <td>252</td>\n      <td>251.9 ± 0.02</td>\n      <td>—</td>\n      <td>—</td>\n    </tr>\n    <tr>\n      <th>26</th>\n      <td>260–269</td>\n      <td>259.8 ± 0.5</td>\n      <td>259.8 ± 0.5</td>\n      <td>259.6 ± 0.5</td>\n      <td>260</td>\n      <td>259.8 ± 0.5</td>\n      <td>—</td>\n      <td>—</td>\n    </tr>\n  </tbody>\n</table>\n</div>"
     },
     "metadata": {},
     "execution_count": 261
    }
   ],
   "source": [
    "df # original dataframe as is in the paper"
   ]
  },
  {
   "cell_type": "code",
   "execution_count": 262,
   "metadata": {},
   "outputs": [
    {
     "output_type": "execute_result",
     "data": {
      "text/plain": [
       "   IntervalMa MarineExtinction   AnoxicEvent ContinentalBasalt  \\\n",
       "0         0–9              2.6           NaN               NaN   \n",
       "1       10–19             11.6           NaN       16.6 ± 0.03   \n",
       "2       20–29              NaN           NaN               NaN   \n",
       "3       30–39             36.5           NaN        30.4 ± 0.4   \n",
       "4       40–49              NaN           NaN              41.2   \n",
       "5       50–59              NaN          56.0        56.6 ± 0.3   \n",
       "6       60–69            66.04            66        61.9; 66.3   \n",
       "7       70–79              NaN           NaN               NaN   \n",
       "8       80–89              NaN           NaN               NaN   \n",
       "9       90–99             93.9          93.9        92.9 ± 3.8   \n",
       "10    100–109              NaN           NaN               NaN   \n",
       "11    110–119              NaN           NaN           118 ± 1   \n",
       "12    120–129              124           124       123.5 ± 1.5   \n",
       "13    130–139              NaN         132.6         134.7 ± 1   \n",
       "14    140–149            143.1           NaN               NaN   \n",
       "15    150–159              NaN           152               NaN   \n",
       "16    160–169              NaN           NaN               NaN   \n",
       "17    170–179              NaN           NaN               NaN   \n",
       "18    180–189      184.2 ± 0.7   184.2 ± 0.7      182.7 ± 0.03   \n",
       "19    190–199              NaN           NaN               NaN   \n",
       "20    200–209      201.4 ± 0.2   201.4 ± 0.2      201.5 ± 0.05   \n",
       "21    210–219              215           NaN               NaN   \n",
       "22    220–229              NaN           NaN               228   \n",
       "23    230–239              NaN           NaN               NaN   \n",
       "24    240–249              NaN           NaN               NaN   \n",
       "25    250–259     251.9 ± 0.02  251.9 ± 0.02      251.9 ± 0.07   \n",
       "26    260–269      259.8 ± 0.5   259.8 ± 0.5       259.6 ± 0.5   \n",
       "\n",
       "    SequenceBoundary NonMarineExtinction ChangesSpreadingRate  \\\n",
       "0               5.33                7.25                  NaN   \n",
       "1              11.63                 NaN                  NaN   \n",
       "2              23.03                 NaN                  NaN   \n",
       "3               33.9                33.9                  NaN   \n",
       "4                NaN                 NaN                   40   \n",
       "5               52.0                 NaN               50, 58   \n",
       "6           61.6; 68                  66                  NaN   \n",
       "7                NaN                 NaN                   75   \n",
       "8               84.2                 NaN                   80   \n",
       "9               93.9                 NaN                  NaN   \n",
       "10          100; 109                 NaN                  NaN   \n",
       "11               NaN                 NaN                  NaN   \n",
       "12        124; 129.4                 NaN                  120   \n",
       "13      132.6; 139.8                 NaN                  NaN   \n",
       "14       149.2 ± 0.9               143.1                  140   \n",
       "15               NaN                 NaN                  155   \n",
       "16       161.5 ± 1.0                 NaN                  NaN   \n",
       "17       170.3 ± 1.4                 NaN                  170   \n",
       "18       184.2 ± 0.7                 NaN                  NaN   \n",
       "19  190.8 ± 1.0; 199                 NaN                  NaN   \n",
       "20             205.7         201.4 ± 0.2                  NaN   \n",
       "21               218                 215                  NaN   \n",
       "22             227.3                 NaN                  NaN   \n",
       "23               237                 NaN                  NaN   \n",
       "24               247                 NaN                  NaN   \n",
       "25               252        251.9 ± 0.02                  NaN   \n",
       "26               260         259.8 ± 0.5                  NaN   \n",
       "\n",
       "   IntraPlateVolcanism  \n",
       "0                    3  \n",
       "1               10, 15  \n",
       "2                   23  \n",
       "3                   30  \n",
       "4                  NaN  \n",
       "5                  NaN  \n",
       "6               60, 65  \n",
       "7                  NaN  \n",
       "8                  NaN  \n",
       "9                  NaN  \n",
       "10                 NaN  \n",
       "11                 NaN  \n",
       "12                 NaN  \n",
       "13                 NaN  \n",
       "14                 NaN  \n",
       "15                 NaN  \n",
       "16                 NaN  \n",
       "17                 NaN  \n",
       "18                 NaN  \n",
       "19                 NaN  \n",
       "20                 NaN  \n",
       "21                 NaN  \n",
       "22                 NaN  \n",
       "23                 NaN  \n",
       "24                 NaN  \n",
       "25                 NaN  \n",
       "26                 NaN  "
      ],
      "text/html": "<div>\n<style scoped>\n    .dataframe tbody tr th:only-of-type {\n        vertical-align: middle;\n    }\n\n    .dataframe tbody tr th {\n        vertical-align: top;\n    }\n\n    .dataframe thead th {\n        text-align: right;\n    }\n</style>\n<table border=\"1\" class=\"dataframe\">\n  <thead>\n    <tr style=\"text-align: right;\">\n      <th></th>\n      <th>IntervalMa</th>\n      <th>MarineExtinction</th>\n      <th>AnoxicEvent</th>\n      <th>ContinentalBasalt</th>\n      <th>SequenceBoundary</th>\n      <th>NonMarineExtinction</th>\n      <th>ChangesSpreadingRate</th>\n      <th>IntraPlateVolcanism</th>\n    </tr>\n  </thead>\n  <tbody>\n    <tr>\n      <th>0</th>\n      <td>0–9</td>\n      <td>2.6</td>\n      <td>NaN</td>\n      <td>NaN</td>\n      <td>5.33</td>\n      <td>7.25</td>\n      <td>NaN</td>\n      <td>3</td>\n    </tr>\n    <tr>\n      <th>1</th>\n      <td>10–19</td>\n      <td>11.6</td>\n      <td>NaN</td>\n      <td>16.6 ± 0.03</td>\n      <td>11.63</td>\n      <td>NaN</td>\n      <td>NaN</td>\n      <td>10, 15</td>\n    </tr>\n    <tr>\n      <th>2</th>\n      <td>20–29</td>\n      <td>NaN</td>\n      <td>NaN</td>\n      <td>NaN</td>\n      <td>23.03</td>\n      <td>NaN</td>\n      <td>NaN</td>\n      <td>23</td>\n    </tr>\n    <tr>\n      <th>3</th>\n      <td>30–39</td>\n      <td>36.5</td>\n      <td>NaN</td>\n      <td>30.4 ± 0.4</td>\n      <td>33.9</td>\n      <td>33.9</td>\n      <td>NaN</td>\n      <td>30</td>\n    </tr>\n    <tr>\n      <th>4</th>\n      <td>40–49</td>\n      <td>NaN</td>\n      <td>NaN</td>\n      <td>41.2</td>\n      <td>NaN</td>\n      <td>NaN</td>\n      <td>40</td>\n      <td>NaN</td>\n    </tr>\n    <tr>\n      <th>5</th>\n      <td>50–59</td>\n      <td>NaN</td>\n      <td>56.0</td>\n      <td>56.6 ± 0.3</td>\n      <td>52.0</td>\n      <td>NaN</td>\n      <td>50, 58</td>\n      <td>NaN</td>\n    </tr>\n    <tr>\n      <th>6</th>\n      <td>60–69</td>\n      <td>66.04</td>\n      <td>66</td>\n      <td>61.9; 66.3</td>\n      <td>61.6; 68</td>\n      <td>66</td>\n      <td>NaN</td>\n      <td>60, 65</td>\n    </tr>\n    <tr>\n      <th>7</th>\n      <td>70–79</td>\n      <td>NaN</td>\n      <td>NaN</td>\n      <td>NaN</td>\n      <td>NaN</td>\n      <td>NaN</td>\n      <td>75</td>\n      <td>NaN</td>\n    </tr>\n    <tr>\n      <th>8</th>\n      <td>80–89</td>\n      <td>NaN</td>\n      <td>NaN</td>\n      <td>NaN</td>\n      <td>84.2</td>\n      <td>NaN</td>\n      <td>80</td>\n      <td>NaN</td>\n    </tr>\n    <tr>\n      <th>9</th>\n      <td>90–99</td>\n      <td>93.9</td>\n      <td>93.9</td>\n      <td>92.9 ± 3.8</td>\n      <td>93.9</td>\n      <td>NaN</td>\n      <td>NaN</td>\n      <td>NaN</td>\n    </tr>\n    <tr>\n      <th>10</th>\n      <td>100–109</td>\n      <td>NaN</td>\n      <td>NaN</td>\n      <td>NaN</td>\n      <td>100; 109</td>\n      <td>NaN</td>\n      <td>NaN</td>\n      <td>NaN</td>\n    </tr>\n    <tr>\n      <th>11</th>\n      <td>110–119</td>\n      <td>NaN</td>\n      <td>NaN</td>\n      <td>118 ± 1</td>\n      <td>NaN</td>\n      <td>NaN</td>\n      <td>NaN</td>\n      <td>NaN</td>\n    </tr>\n    <tr>\n      <th>12</th>\n      <td>120–129</td>\n      <td>124</td>\n      <td>124</td>\n      <td>123.5 ± 1.5</td>\n      <td>124; 129.4</td>\n      <td>NaN</td>\n      <td>120</td>\n      <td>NaN</td>\n    </tr>\n    <tr>\n      <th>13</th>\n      <td>130–139</td>\n      <td>NaN</td>\n      <td>132.6</td>\n      <td>134.7 ± 1</td>\n      <td>132.6; 139.8</td>\n      <td>NaN</td>\n      <td>NaN</td>\n      <td>NaN</td>\n    </tr>\n    <tr>\n      <th>14</th>\n      <td>140–149</td>\n      <td>143.1</td>\n      <td>NaN</td>\n      <td>NaN</td>\n      <td>149.2 ± 0.9</td>\n      <td>143.1</td>\n      <td>140</td>\n      <td>NaN</td>\n    </tr>\n    <tr>\n      <th>15</th>\n      <td>150–159</td>\n      <td>NaN</td>\n      <td>152</td>\n      <td>NaN</td>\n      <td>NaN</td>\n      <td>NaN</td>\n      <td>155</td>\n      <td>NaN</td>\n    </tr>\n    <tr>\n      <th>16</th>\n      <td>160–169</td>\n      <td>NaN</td>\n      <td>NaN</td>\n      <td>NaN</td>\n      <td>161.5 ± 1.0</td>\n      <td>NaN</td>\n      <td>NaN</td>\n      <td>NaN</td>\n    </tr>\n    <tr>\n      <th>17</th>\n      <td>170–179</td>\n      <td>NaN</td>\n      <td>NaN</td>\n      <td>NaN</td>\n      <td>170.3 ± 1.4</td>\n      <td>NaN</td>\n      <td>170</td>\n      <td>NaN</td>\n    </tr>\n    <tr>\n      <th>18</th>\n      <td>180–189</td>\n      <td>184.2 ± 0.7</td>\n      <td>184.2 ± 0.7</td>\n      <td>182.7 ± 0.03</td>\n      <td>184.2 ± 0.7</td>\n      <td>NaN</td>\n      <td>NaN</td>\n      <td>NaN</td>\n    </tr>\n    <tr>\n      <th>19</th>\n      <td>190–199</td>\n      <td>NaN</td>\n      <td>NaN</td>\n      <td>NaN</td>\n      <td>190.8 ± 1.0; 199</td>\n      <td>NaN</td>\n      <td>NaN</td>\n      <td>NaN</td>\n    </tr>\n    <tr>\n      <th>20</th>\n      <td>200–209</td>\n      <td>201.4 ± 0.2</td>\n      <td>201.4 ± 0.2</td>\n      <td>201.5 ± 0.05</td>\n      <td>205.7</td>\n      <td>201.4 ± 0.2</td>\n      <td>NaN</td>\n      <td>NaN</td>\n    </tr>\n    <tr>\n      <th>21</th>\n      <td>210–219</td>\n      <td>215</td>\n      <td>NaN</td>\n      <td>NaN</td>\n      <td>218</td>\n      <td>215</td>\n      <td>NaN</td>\n      <td>NaN</td>\n    </tr>\n    <tr>\n      <th>22</th>\n      <td>220–229</td>\n      <td>NaN</td>\n      <td>NaN</td>\n      <td>228</td>\n      <td>227.3</td>\n      <td>NaN</td>\n      <td>NaN</td>\n      <td>NaN</td>\n    </tr>\n    <tr>\n      <th>23</th>\n      <td>230–239</td>\n      <td>NaN</td>\n      <td>NaN</td>\n      <td>NaN</td>\n      <td>237</td>\n      <td>NaN</td>\n      <td>NaN</td>\n      <td>NaN</td>\n    </tr>\n    <tr>\n      <th>24</th>\n      <td>240–249</td>\n      <td>NaN</td>\n      <td>NaN</td>\n      <td>NaN</td>\n      <td>247</td>\n      <td>NaN</td>\n      <td>NaN</td>\n      <td>NaN</td>\n    </tr>\n    <tr>\n      <th>25</th>\n      <td>250–259</td>\n      <td>251.9 ± 0.02</td>\n      <td>251.9 ± 0.02</td>\n      <td>251.9 ± 0.07</td>\n      <td>252</td>\n      <td>251.9 ± 0.02</td>\n      <td>NaN</td>\n      <td>NaN</td>\n    </tr>\n    <tr>\n      <th>26</th>\n      <td>260–269</td>\n      <td>259.8 ± 0.5</td>\n      <td>259.8 ± 0.5</td>\n      <td>259.6 ± 0.5</td>\n      <td>260</td>\n      <td>259.8 ± 0.5</td>\n      <td>NaN</td>\n      <td>NaN</td>\n    </tr>\n  </tbody>\n</table>\n</div>"
     },
     "metadata": {},
     "execution_count": 262
    }
   ],
   "source": [
    "# replace non numeric values with Nan\n",
    "df.replace(\"—\", np.nan, inplace=True)\n",
    "df.replace(\"____\", np.nan, inplace=True)\n",
    "df\n",
    "\n"
   ]
  },
  {
   "cell_type": "code",
   "execution_count": 263,
   "metadata": {},
   "outputs": [],
   "source": [
    "marine_extinction = df[\"MarineExtinction\"]\n",
    "anoxic_event = df[\"AnoxicEvent\"]\n",
    "continental_basalt = df[\"ContinentalBasalt\"]\n",
    "sequence_boundary = df[\"SequenceBoundary\"]\n",
    "nonmarine_extinction = df[\"NonMarineExtinction\"]\n",
    "changes_spreading_rate = df[\"ChangesSpreadingRate\"]\n",
    "intraplate_volcanism = df[\"IntraPlateVolcanism\"]\n",
    "\n",
    "data_columns = [marine_extinction, anoxic_event, continental_basalt, sequence_boundary, nonmarine_extinction, changes_spreading_rate, intraplate_volcanism]"
   ]
  },
  {
   "cell_type": "code",
   "execution_count": 264,
   "metadata": {},
   "outputs": [],
   "source": [
    "def cleanColumns(column: pd.Series) -> list:\n",
    "    \n",
    "    ls = list(column)\n",
    "    ls_temp = [] \n",
    "    for i in ls:\n",
    "        ls_temp += str(i).split(\";\")\n",
    "\n",
    "    ls_temp = [i.split(\"±\") for i in ls_temp]\n",
    "    \n",
    "\n",
    "\n",
    "    def extract(lst):\n",
    "        return [item[0] for item in lst if type(item)==list]\n",
    "\n",
    "    def convertFloat(lst):\n",
    "        return [float(item) for item in lst]\n",
    "\n",
    "    result = extract(ls_temp)\n",
    "    return list(result)"
   ]
  },
  {
   "cell_type": "code",
   "execution_count": 265,
   "metadata": {},
   "outputs": [],
   "source": [
    "temp_dates = []\n",
    "for i in data_columns:\n",
    "    i = cleanColumns(i)\n",
    "    temp_dates.append(i)\n"
   ]
  },
  {
   "cell_type": "code",
   "execution_count": 266,
   "metadata": {},
   "outputs": [],
   "source": [
    "raw_dates = []\n",
    "for i in temp_dates:\n",
    "    i = [x.split(\",\") for x in i]\n",
    "    raw_dates.append(i)"
   ]
  },
  {
   "cell_type": "code",
   "execution_count": 269,
   "metadata": {},
   "outputs": [],
   "source": [
    "def flatten_list(_2d_list):\n",
    "    flat_list = []\n",
    "    # Iterate through the outer list\n",
    "    for element in _2d_list:\n",
    "        if type(element) is list:\n",
    "            # If the element is of type list, iterate through the sublist\n",
    "            for item in element:\n",
    "                flat_list.append(item)\n",
    "        else:\n",
    "            flat_list.append(element)\n",
    "    return flat_list\n",
    "\n",
    "def convertFloat(lst):\n",
    "    return [float(item) for item in lst]\n",
    "marine_exts = convertFloat(extract(mext))\n",
    "\n",
    "# flatten_twice\n",
    "list_dates = flatten_list(flatten_list(raw_dates))\n",
    "# convert all elements to float\n",
    "float_dates = convertFloat(list_dates)\n",
    "# clean of Nans\n",
    "cleaned_dates = [x for x in float_dates if str(x) != 'nan']"
   ]
  },
  {
   "cell_type": "code",
   "execution_count": 274,
   "metadata": {},
   "outputs": [
    {
     "output_type": "execute_result",
     "data": {
      "text/plain": [
       "89"
      ]
     },
     "metadata": {},
     "execution_count": 274
    }
   ],
   "source": [
    "len(cleaned_dates) # total of events is correct!"
   ]
  },
  {
   "cell_type": "code",
   "execution_count": 278,
   "metadata": {},
   "outputs": [
    {
     "output_type": "execute_result",
     "data": {
      "text/plain": [
       "(array([2., 2., 1., 2., 1., 1., 0., 2., 0., 0., 2., 0., 2., 1., 2., 0., 0.,\n",
       "        0., 1., 1., 2., 1., 2., 1., 5., 1., 0., 0., 1., 0., 1., 1., 0., 0.,\n",
       "        0., 4., 0., 1., 0., 0., 0., 1., 0., 0., 1., 1., 1., 3., 0., 1., 2.,\n",
       "        1., 0., 2., 2., 0., 1., 0., 1., 1., 0., 1., 0., 0., 0., 2., 0., 0.,\n",
       "        0., 1., 3., 0., 0., 1., 0., 0., 1., 4., 1., 0., 0., 0., 2., 1., 0.,\n",
       "        0., 0., 2., 0., 0., 0., 1., 0., 0., 1., 0., 5., 0., 0., 5.]),\n",
       " array([  2.6  ,   5.174,   7.748,  10.322,  12.896,  15.47 ,  18.044,\n",
       "         20.618,  23.192,  25.766,  28.34 ,  30.914,  33.488,  36.062,\n",
       "         38.636,  41.21 ,  43.784,  46.358,  48.932,  51.506,  54.08 ,\n",
       "         56.654,  59.228,  61.802,  64.376,  66.95 ,  69.524,  72.098,\n",
       "         74.672,  77.246,  79.82 ,  82.394,  84.968,  87.542,  90.116,\n",
       "         92.69 ,  95.264,  97.838, 100.412, 102.986, 105.56 , 108.134,\n",
       "        110.708, 113.282, 115.856, 118.43 , 121.004, 123.578, 126.152,\n",
       "        128.726, 131.3  , 133.874, 136.448, 139.022, 141.596, 144.17 ,\n",
       "        146.744, 149.318, 151.892, 154.466, 157.04 , 159.614, 162.188,\n",
       "        164.762, 167.336, 169.91 , 172.484, 175.058, 177.632, 180.206,\n",
       "        182.78 , 185.354, 187.928, 190.502, 193.076, 195.65 , 198.224,\n",
       "        200.798, 203.372, 205.946, 208.52 , 211.094, 213.668, 216.242,\n",
       "        218.816, 221.39 , 223.964, 226.538, 229.112, 231.686, 234.26 ,\n",
       "        236.834, 239.408, 241.982, 244.556, 247.13 , 249.704, 252.278,\n",
       "        254.852, 257.426, 260.   ]),\n",
       " <BarContainer object of 100 artists>)"
      ]
     },
     "metadata": {},
     "execution_count": 278
    },
    {
     "output_type": "display_data",
     "data": {
      "text/plain": "<Figure size 432x288 with 1 Axes>",
      "image/svg+xml": "<?xml version=\"1.0\" encoding=\"utf-8\" standalone=\"no\"?>\r\n<!DOCTYPE svg PUBLIC \"-//W3C//DTD SVG 1.1//EN\"\r\n  \"http://www.w3.org/Graphics/SVG/1.1/DTD/svg11.dtd\">\r\n<svg height=\"248.518125pt\" version=\"1.1\" viewBox=\"0 0 362.5625 248.518125\" width=\"362.5625pt\" xmlns=\"http://www.w3.org/2000/svg\" xmlns:xlink=\"http://www.w3.org/1999/xlink\">\r\n <metadata>\r\n  <rdf:RDF xmlns:cc=\"http://creativecommons.org/ns#\" xmlns:dc=\"http://purl.org/dc/elements/1.1/\" xmlns:rdf=\"http://www.w3.org/1999/02/22-rdf-syntax-ns#\">\r\n   <cc:Work>\r\n    <dc:type rdf:resource=\"http://purl.org/dc/dcmitype/StillImage\"/>\r\n    <dc:date>2021-06-19T15:57:18.809466</dc:date>\r\n    <dc:format>image/svg+xml</dc:format>\r\n    <dc:creator>\r\n     <cc:Agent>\r\n      <dc:title>Matplotlib v3.4.1, https://matplotlib.org/</dc:title>\r\n     </cc:Agent>\r\n    </dc:creator>\r\n   </cc:Work>\r\n  </rdf:RDF>\r\n </metadata>\r\n <defs>\r\n  <style type=\"text/css\">*{stroke-linecap:butt;stroke-linejoin:round;}</style>\r\n </defs>\r\n <g id=\"figure_1\">\r\n  <g id=\"patch_1\">\r\n   <path d=\"M 0 248.518125 \r\nL 362.5625 248.518125 \r\nL 362.5625 0 \r\nL 0 0 \r\nz\r\n\" style=\"fill:none;\"/>\r\n  </g>\r\n  <g id=\"axes_1\">\r\n   <g id=\"patch_2\">\r\n    <path d=\"M 20.5625 224.64 \r\nL 355.3625 224.64 \r\nL 355.3625 7.2 \r\nL 20.5625 7.2 \r\nz\r\n\" style=\"fill:#ffffff;\"/>\r\n   </g>\r\n   <g id=\"patch_3\">\r\n    <path clip-path=\"url(#p603d966edc)\" d=\"M 35.780682 224.64 \r\nL 38.824318 224.64 \r\nL 38.824318 141.805714 \r\nL 35.780682 141.805714 \r\nz\r\n\" style=\"fill:#1f77b4;\"/>\r\n   </g>\r\n   <g id=\"patch_4\">\r\n    <path clip-path=\"url(#p603d966edc)\" d=\"M 38.824318 224.64 \r\nL 41.867955 224.64 \r\nL 41.867955 141.805714 \r\nL 38.824318 141.805714 \r\nz\r\n\" style=\"fill:#1f77b4;\"/>\r\n   </g>\r\n   <g id=\"patch_5\">\r\n    <path clip-path=\"url(#p603d966edc)\" d=\"M 41.867955 224.64 \r\nL 44.911591 224.64 \r\nL 44.911591 183.222857 \r\nL 41.867955 183.222857 \r\nz\r\n\" style=\"fill:#1f77b4;\"/>\r\n   </g>\r\n   <g id=\"patch_6\">\r\n    <path clip-path=\"url(#p603d966edc)\" d=\"M 44.911591 224.64 \r\nL 47.955227 224.64 \r\nL 47.955227 141.805714 \r\nL 44.911591 141.805714 \r\nz\r\n\" style=\"fill:#1f77b4;\"/>\r\n   </g>\r\n   <g id=\"patch_7\">\r\n    <path clip-path=\"url(#p603d966edc)\" d=\"M 47.955227 224.64 \r\nL 50.998864 224.64 \r\nL 50.998864 183.222857 \r\nL 47.955227 183.222857 \r\nz\r\n\" style=\"fill:#1f77b4;\"/>\r\n   </g>\r\n   <g id=\"patch_8\">\r\n    <path clip-path=\"url(#p603d966edc)\" d=\"M 50.998864 224.64 \r\nL 54.0425 224.64 \r\nL 54.0425 183.222857 \r\nL 50.998864 183.222857 \r\nz\r\n\" style=\"fill:#1f77b4;\"/>\r\n   </g>\r\n   <g id=\"patch_9\">\r\n    <path clip-path=\"url(#p603d966edc)\" d=\"M 54.0425 224.64 \r\nL 57.086136 224.64 \r\nL 57.086136 224.64 \r\nL 54.0425 224.64 \r\nz\r\n\" style=\"fill:#1f77b4;\"/>\r\n   </g>\r\n   <g id=\"patch_10\">\r\n    <path clip-path=\"url(#p603d966edc)\" d=\"M 57.086136 224.64 \r\nL 60.129773 224.64 \r\nL 60.129773 141.805714 \r\nL 57.086136 141.805714 \r\nz\r\n\" style=\"fill:#1f77b4;\"/>\r\n   </g>\r\n   <g id=\"patch_11\">\r\n    <path clip-path=\"url(#p603d966edc)\" d=\"M 60.129773 224.64 \r\nL 63.173409 224.64 \r\nL 63.173409 224.64 \r\nL 60.129773 224.64 \r\nz\r\n\" style=\"fill:#1f77b4;\"/>\r\n   </g>\r\n   <g id=\"patch_12\">\r\n    <path clip-path=\"url(#p603d966edc)\" d=\"M 63.173409 224.64 \r\nL 66.217045 224.64 \r\nL 66.217045 224.64 \r\nL 63.173409 224.64 \r\nz\r\n\" style=\"fill:#1f77b4;\"/>\r\n   </g>\r\n   <g id=\"patch_13\">\r\n    <path clip-path=\"url(#p603d966edc)\" d=\"M 66.217045 224.64 \r\nL 69.260682 224.64 \r\nL 69.260682 141.805714 \r\nL 66.217045 141.805714 \r\nz\r\n\" style=\"fill:#1f77b4;\"/>\r\n   </g>\r\n   <g id=\"patch_14\">\r\n    <path clip-path=\"url(#p603d966edc)\" d=\"M 69.260682 224.64 \r\nL 72.304318 224.64 \r\nL 72.304318 224.64 \r\nL 69.260682 224.64 \r\nz\r\n\" style=\"fill:#1f77b4;\"/>\r\n   </g>\r\n   <g id=\"patch_15\">\r\n    <path clip-path=\"url(#p603d966edc)\" d=\"M 72.304318 224.64 \r\nL 75.347955 224.64 \r\nL 75.347955 141.805714 \r\nL 72.304318 141.805714 \r\nz\r\n\" style=\"fill:#1f77b4;\"/>\r\n   </g>\r\n   <g id=\"patch_16\">\r\n    <path clip-path=\"url(#p603d966edc)\" d=\"M 75.347955 224.64 \r\nL 78.391591 224.64 \r\nL 78.391591 183.222857 \r\nL 75.347955 183.222857 \r\nz\r\n\" style=\"fill:#1f77b4;\"/>\r\n   </g>\r\n   <g id=\"patch_17\">\r\n    <path clip-path=\"url(#p603d966edc)\" d=\"M 78.391591 224.64 \r\nL 81.435227 224.64 \r\nL 81.435227 141.805714 \r\nL 78.391591 141.805714 \r\nz\r\n\" style=\"fill:#1f77b4;\"/>\r\n   </g>\r\n   <g id=\"patch_18\">\r\n    <path clip-path=\"url(#p603d966edc)\" d=\"M 81.435227 224.64 \r\nL 84.478864 224.64 \r\nL 84.478864 224.64 \r\nL 81.435227 224.64 \r\nz\r\n\" style=\"fill:#1f77b4;\"/>\r\n   </g>\r\n   <g id=\"patch_19\">\r\n    <path clip-path=\"url(#p603d966edc)\" d=\"M 84.478864 224.64 \r\nL 87.5225 224.64 \r\nL 87.5225 224.64 \r\nL 84.478864 224.64 \r\nz\r\n\" style=\"fill:#1f77b4;\"/>\r\n   </g>\r\n   <g id=\"patch_20\">\r\n    <path clip-path=\"url(#p603d966edc)\" d=\"M 87.5225 224.64 \r\nL 90.566136 224.64 \r\nL 90.566136 224.64 \r\nL 87.5225 224.64 \r\nz\r\n\" style=\"fill:#1f77b4;\"/>\r\n   </g>\r\n   <g id=\"patch_21\">\r\n    <path clip-path=\"url(#p603d966edc)\" d=\"M 90.566136 224.64 \r\nL 93.609773 224.64 \r\nL 93.609773 183.222857 \r\nL 90.566136 183.222857 \r\nz\r\n\" style=\"fill:#1f77b4;\"/>\r\n   </g>\r\n   <g id=\"patch_22\">\r\n    <path clip-path=\"url(#p603d966edc)\" d=\"M 93.609773 224.64 \r\nL 96.653409 224.64 \r\nL 96.653409 183.222857 \r\nL 93.609773 183.222857 \r\nz\r\n\" style=\"fill:#1f77b4;\"/>\r\n   </g>\r\n   <g id=\"patch_23\">\r\n    <path clip-path=\"url(#p603d966edc)\" d=\"M 96.653409 224.64 \r\nL 99.697045 224.64 \r\nL 99.697045 141.805714 \r\nL 96.653409 141.805714 \r\nz\r\n\" style=\"fill:#1f77b4;\"/>\r\n   </g>\r\n   <g id=\"patch_24\">\r\n    <path clip-path=\"url(#p603d966edc)\" d=\"M 99.697045 224.64 \r\nL 102.740682 224.64 \r\nL 102.740682 183.222857 \r\nL 99.697045 183.222857 \r\nz\r\n\" style=\"fill:#1f77b4;\"/>\r\n   </g>\r\n   <g id=\"patch_25\">\r\n    <path clip-path=\"url(#p603d966edc)\" d=\"M 102.740682 224.64 \r\nL 105.784318 224.64 \r\nL 105.784318 141.805714 \r\nL 102.740682 141.805714 \r\nz\r\n\" style=\"fill:#1f77b4;\"/>\r\n   </g>\r\n   <g id=\"patch_26\">\r\n    <path clip-path=\"url(#p603d966edc)\" d=\"M 105.784318 224.64 \r\nL 108.827955 224.64 \r\nL 108.827955 183.222857 \r\nL 105.784318 183.222857 \r\nz\r\n\" style=\"fill:#1f77b4;\"/>\r\n   </g>\r\n   <g id=\"patch_27\">\r\n    <path clip-path=\"url(#p603d966edc)\" d=\"M 108.827955 224.64 \r\nL 111.871591 224.64 \r\nL 111.871591 17.554286 \r\nL 108.827955 17.554286 \r\nz\r\n\" style=\"fill:#1f77b4;\"/>\r\n   </g>\r\n   <g id=\"patch_28\">\r\n    <path clip-path=\"url(#p603d966edc)\" d=\"M 111.871591 224.64 \r\nL 114.915227 224.64 \r\nL 114.915227 183.222857 \r\nL 111.871591 183.222857 \r\nz\r\n\" style=\"fill:#1f77b4;\"/>\r\n   </g>\r\n   <g id=\"patch_29\">\r\n    <path clip-path=\"url(#p603d966edc)\" d=\"M 114.915227 224.64 \r\nL 117.958864 224.64 \r\nL 117.958864 224.64 \r\nL 114.915227 224.64 \r\nz\r\n\" style=\"fill:#1f77b4;\"/>\r\n   </g>\r\n   <g id=\"patch_30\">\r\n    <path clip-path=\"url(#p603d966edc)\" d=\"M 117.958864 224.64 \r\nL 121.0025 224.64 \r\nL 121.0025 224.64 \r\nL 117.958864 224.64 \r\nz\r\n\" style=\"fill:#1f77b4;\"/>\r\n   </g>\r\n   <g id=\"patch_31\">\r\n    <path clip-path=\"url(#p603d966edc)\" d=\"M 121.0025 224.64 \r\nL 124.046136 224.64 \r\nL 124.046136 183.222857 \r\nL 121.0025 183.222857 \r\nz\r\n\" style=\"fill:#1f77b4;\"/>\r\n   </g>\r\n   <g id=\"patch_32\">\r\n    <path clip-path=\"url(#p603d966edc)\" d=\"M 124.046136 224.64 \r\nL 127.089773 224.64 \r\nL 127.089773 224.64 \r\nL 124.046136 224.64 \r\nz\r\n\" style=\"fill:#1f77b4;\"/>\r\n   </g>\r\n   <g id=\"patch_33\">\r\n    <path clip-path=\"url(#p603d966edc)\" d=\"M 127.089773 224.64 \r\nL 130.133409 224.64 \r\nL 130.133409 183.222857 \r\nL 127.089773 183.222857 \r\nz\r\n\" style=\"fill:#1f77b4;\"/>\r\n   </g>\r\n   <g id=\"patch_34\">\r\n    <path clip-path=\"url(#p603d966edc)\" d=\"M 130.133409 224.64 \r\nL 133.177045 224.64 \r\nL 133.177045 183.222857 \r\nL 130.133409 183.222857 \r\nz\r\n\" style=\"fill:#1f77b4;\"/>\r\n   </g>\r\n   <g id=\"patch_35\">\r\n    <path clip-path=\"url(#p603d966edc)\" d=\"M 133.177045 224.64 \r\nL 136.220682 224.64 \r\nL 136.220682 224.64 \r\nL 133.177045 224.64 \r\nz\r\n\" style=\"fill:#1f77b4;\"/>\r\n   </g>\r\n   <g id=\"patch_36\">\r\n    <path clip-path=\"url(#p603d966edc)\" d=\"M 136.220682 224.64 \r\nL 139.264318 224.64 \r\nL 139.264318 224.64 \r\nL 136.220682 224.64 \r\nz\r\n\" style=\"fill:#1f77b4;\"/>\r\n   </g>\r\n   <g id=\"patch_37\">\r\n    <path clip-path=\"url(#p603d966edc)\" d=\"M 139.264318 224.64 \r\nL 142.307955 224.64 \r\nL 142.307955 224.64 \r\nL 139.264318 224.64 \r\nz\r\n\" style=\"fill:#1f77b4;\"/>\r\n   </g>\r\n   <g id=\"patch_38\">\r\n    <path clip-path=\"url(#p603d966edc)\" d=\"M 142.307955 224.64 \r\nL 145.351591 224.64 \r\nL 145.351591 58.971429 \r\nL 142.307955 58.971429 \r\nz\r\n\" style=\"fill:#1f77b4;\"/>\r\n   </g>\r\n   <g id=\"patch_39\">\r\n    <path clip-path=\"url(#p603d966edc)\" d=\"M 145.351591 224.64 \r\nL 148.395227 224.64 \r\nL 148.395227 224.64 \r\nL 145.351591 224.64 \r\nz\r\n\" style=\"fill:#1f77b4;\"/>\r\n   </g>\r\n   <g id=\"patch_40\">\r\n    <path clip-path=\"url(#p603d966edc)\" d=\"M 148.395227 224.64 \r\nL 151.438864 224.64 \r\nL 151.438864 183.222857 \r\nL 148.395227 183.222857 \r\nz\r\n\" style=\"fill:#1f77b4;\"/>\r\n   </g>\r\n   <g id=\"patch_41\">\r\n    <path clip-path=\"url(#p603d966edc)\" d=\"M 151.438864 224.64 \r\nL 154.4825 224.64 \r\nL 154.4825 224.64 \r\nL 151.438864 224.64 \r\nz\r\n\" style=\"fill:#1f77b4;\"/>\r\n   </g>\r\n   <g id=\"patch_42\">\r\n    <path clip-path=\"url(#p603d966edc)\" d=\"M 154.4825 224.64 \r\nL 157.526136 224.64 \r\nL 157.526136 224.64 \r\nL 154.4825 224.64 \r\nz\r\n\" style=\"fill:#1f77b4;\"/>\r\n   </g>\r\n   <g id=\"patch_43\">\r\n    <path clip-path=\"url(#p603d966edc)\" d=\"M 157.526136 224.64 \r\nL 160.569773 224.64 \r\nL 160.569773 224.64 \r\nL 157.526136 224.64 \r\nz\r\n\" style=\"fill:#1f77b4;\"/>\r\n   </g>\r\n   <g id=\"patch_44\">\r\n    <path clip-path=\"url(#p603d966edc)\" d=\"M 160.569773 224.64 \r\nL 163.613409 224.64 \r\nL 163.613409 183.222857 \r\nL 160.569773 183.222857 \r\nz\r\n\" style=\"fill:#1f77b4;\"/>\r\n   </g>\r\n   <g id=\"patch_45\">\r\n    <path clip-path=\"url(#p603d966edc)\" d=\"M 163.613409 224.64 \r\nL 166.657045 224.64 \r\nL 166.657045 224.64 \r\nL 163.613409 224.64 \r\nz\r\n\" style=\"fill:#1f77b4;\"/>\r\n   </g>\r\n   <g id=\"patch_46\">\r\n    <path clip-path=\"url(#p603d966edc)\" d=\"M 166.657045 224.64 \r\nL 169.700682 224.64 \r\nL 169.700682 224.64 \r\nL 166.657045 224.64 \r\nz\r\n\" style=\"fill:#1f77b4;\"/>\r\n   </g>\r\n   <g id=\"patch_47\">\r\n    <path clip-path=\"url(#p603d966edc)\" d=\"M 169.700682 224.64 \r\nL 172.744318 224.64 \r\nL 172.744318 183.222857 \r\nL 169.700682 183.222857 \r\nz\r\n\" style=\"fill:#1f77b4;\"/>\r\n   </g>\r\n   <g id=\"patch_48\">\r\n    <path clip-path=\"url(#p603d966edc)\" d=\"M 172.744318 224.64 \r\nL 175.787955 224.64 \r\nL 175.787955 183.222857 \r\nL 172.744318 183.222857 \r\nz\r\n\" style=\"fill:#1f77b4;\"/>\r\n   </g>\r\n   <g id=\"patch_49\">\r\n    <path clip-path=\"url(#p603d966edc)\" d=\"M 175.787955 224.64 \r\nL 178.831591 224.64 \r\nL 178.831591 183.222857 \r\nL 175.787955 183.222857 \r\nz\r\n\" style=\"fill:#1f77b4;\"/>\r\n   </g>\r\n   <g id=\"patch_50\">\r\n    <path clip-path=\"url(#p603d966edc)\" d=\"M 178.831591 224.64 \r\nL 181.875227 224.64 \r\nL 181.875227 100.388571 \r\nL 178.831591 100.388571 \r\nz\r\n\" style=\"fill:#1f77b4;\"/>\r\n   </g>\r\n   <g id=\"patch_51\">\r\n    <path clip-path=\"url(#p603d966edc)\" d=\"M 181.875227 224.64 \r\nL 184.918864 224.64 \r\nL 184.918864 224.64 \r\nL 181.875227 224.64 \r\nz\r\n\" style=\"fill:#1f77b4;\"/>\r\n   </g>\r\n   <g id=\"patch_52\">\r\n    <path clip-path=\"url(#p603d966edc)\" d=\"M 184.918864 224.64 \r\nL 187.9625 224.64 \r\nL 187.9625 183.222857 \r\nL 184.918864 183.222857 \r\nz\r\n\" style=\"fill:#1f77b4;\"/>\r\n   </g>\r\n   <g id=\"patch_53\">\r\n    <path clip-path=\"url(#p603d966edc)\" d=\"M 187.9625 224.64 \r\nL 191.006136 224.64 \r\nL 191.006136 141.805714 \r\nL 187.9625 141.805714 \r\nz\r\n\" style=\"fill:#1f77b4;\"/>\r\n   </g>\r\n   <g id=\"patch_54\">\r\n    <path clip-path=\"url(#p603d966edc)\" d=\"M 191.006136 224.64 \r\nL 194.049773 224.64 \r\nL 194.049773 183.222857 \r\nL 191.006136 183.222857 \r\nz\r\n\" style=\"fill:#1f77b4;\"/>\r\n   </g>\r\n   <g id=\"patch_55\">\r\n    <path clip-path=\"url(#p603d966edc)\" d=\"M 194.049773 224.64 \r\nL 197.093409 224.64 \r\nL 197.093409 224.64 \r\nL 194.049773 224.64 \r\nz\r\n\" style=\"fill:#1f77b4;\"/>\r\n   </g>\r\n   <g id=\"patch_56\">\r\n    <path clip-path=\"url(#p603d966edc)\" d=\"M 197.093409 224.64 \r\nL 200.137045 224.64 \r\nL 200.137045 141.805714 \r\nL 197.093409 141.805714 \r\nz\r\n\" style=\"fill:#1f77b4;\"/>\r\n   </g>\r\n   <g id=\"patch_57\">\r\n    <path clip-path=\"url(#p603d966edc)\" d=\"M 200.137045 224.64 \r\nL 203.180682 224.64 \r\nL 203.180682 141.805714 \r\nL 200.137045 141.805714 \r\nz\r\n\" style=\"fill:#1f77b4;\"/>\r\n   </g>\r\n   <g id=\"patch_58\">\r\n    <path clip-path=\"url(#p603d966edc)\" d=\"M 203.180682 224.64 \r\nL 206.224318 224.64 \r\nL 206.224318 224.64 \r\nL 203.180682 224.64 \r\nz\r\n\" style=\"fill:#1f77b4;\"/>\r\n   </g>\r\n   <g id=\"patch_59\">\r\n    <path clip-path=\"url(#p603d966edc)\" d=\"M 206.224318 224.64 \r\nL 209.267955 224.64 \r\nL 209.267955 183.222857 \r\nL 206.224318 183.222857 \r\nz\r\n\" style=\"fill:#1f77b4;\"/>\r\n   </g>\r\n   <g id=\"patch_60\">\r\n    <path clip-path=\"url(#p603d966edc)\" d=\"M 209.267955 224.64 \r\nL 212.311591 224.64 \r\nL 212.311591 224.64 \r\nL 209.267955 224.64 \r\nz\r\n\" style=\"fill:#1f77b4;\"/>\r\n   </g>\r\n   <g id=\"patch_61\">\r\n    <path clip-path=\"url(#p603d966edc)\" d=\"M 212.311591 224.64 \r\nL 215.355227 224.64 \r\nL 215.355227 183.222857 \r\nL 212.311591 183.222857 \r\nz\r\n\" style=\"fill:#1f77b4;\"/>\r\n   </g>\r\n   <g id=\"patch_62\">\r\n    <path clip-path=\"url(#p603d966edc)\" d=\"M 215.355227 224.64 \r\nL 218.398864 224.64 \r\nL 218.398864 183.222857 \r\nL 215.355227 183.222857 \r\nz\r\n\" style=\"fill:#1f77b4;\"/>\r\n   </g>\r\n   <g id=\"patch_63\">\r\n    <path clip-path=\"url(#p603d966edc)\" d=\"M 218.398864 224.64 \r\nL 221.4425 224.64 \r\nL 221.4425 224.64 \r\nL 218.398864 224.64 \r\nz\r\n\" style=\"fill:#1f77b4;\"/>\r\n   </g>\r\n   <g id=\"patch_64\">\r\n    <path clip-path=\"url(#p603d966edc)\" d=\"M 221.4425 224.64 \r\nL 224.486136 224.64 \r\nL 224.486136 183.222857 \r\nL 221.4425 183.222857 \r\nz\r\n\" style=\"fill:#1f77b4;\"/>\r\n   </g>\r\n   <g id=\"patch_65\">\r\n    <path clip-path=\"url(#p603d966edc)\" d=\"M 224.486136 224.64 \r\nL 227.529773 224.64 \r\nL 227.529773 224.64 \r\nL 224.486136 224.64 \r\nz\r\n\" style=\"fill:#1f77b4;\"/>\r\n   </g>\r\n   <g id=\"patch_66\">\r\n    <path clip-path=\"url(#p603d966edc)\" d=\"M 227.529773 224.64 \r\nL 230.573409 224.64 \r\nL 230.573409 224.64 \r\nL 227.529773 224.64 \r\nz\r\n\" style=\"fill:#1f77b4;\"/>\r\n   </g>\r\n   <g id=\"patch_67\">\r\n    <path clip-path=\"url(#p603d966edc)\" d=\"M 230.573409 224.64 \r\nL 233.617045 224.64 \r\nL 233.617045 224.64 \r\nL 230.573409 224.64 \r\nz\r\n\" style=\"fill:#1f77b4;\"/>\r\n   </g>\r\n   <g id=\"patch_68\">\r\n    <path clip-path=\"url(#p603d966edc)\" d=\"M 233.617045 224.64 \r\nL 236.660682 224.64 \r\nL 236.660682 141.805714 \r\nL 233.617045 141.805714 \r\nz\r\n\" style=\"fill:#1f77b4;\"/>\r\n   </g>\r\n   <g id=\"patch_69\">\r\n    <path clip-path=\"url(#p603d966edc)\" d=\"M 236.660682 224.64 \r\nL 239.704318 224.64 \r\nL 239.704318 224.64 \r\nL 236.660682 224.64 \r\nz\r\n\" style=\"fill:#1f77b4;\"/>\r\n   </g>\r\n   <g id=\"patch_70\">\r\n    <path clip-path=\"url(#p603d966edc)\" d=\"M 239.704318 224.64 \r\nL 242.747955 224.64 \r\nL 242.747955 224.64 \r\nL 239.704318 224.64 \r\nz\r\n\" style=\"fill:#1f77b4;\"/>\r\n   </g>\r\n   <g id=\"patch_71\">\r\n    <path clip-path=\"url(#p603d966edc)\" d=\"M 242.747955 224.64 \r\nL 245.791591 224.64 \r\nL 245.791591 224.64 \r\nL 242.747955 224.64 \r\nz\r\n\" style=\"fill:#1f77b4;\"/>\r\n   </g>\r\n   <g id=\"patch_72\">\r\n    <path clip-path=\"url(#p603d966edc)\" d=\"M 245.791591 224.64 \r\nL 248.835227 224.64 \r\nL 248.835227 183.222857 \r\nL 245.791591 183.222857 \r\nz\r\n\" style=\"fill:#1f77b4;\"/>\r\n   </g>\r\n   <g id=\"patch_73\">\r\n    <path clip-path=\"url(#p603d966edc)\" d=\"M 248.835227 224.64 \r\nL 251.878864 224.64 \r\nL 251.878864 100.388571 \r\nL 248.835227 100.388571 \r\nz\r\n\" style=\"fill:#1f77b4;\"/>\r\n   </g>\r\n   <g id=\"patch_74\">\r\n    <path clip-path=\"url(#p603d966edc)\" d=\"M 251.878864 224.64 \r\nL 254.9225 224.64 \r\nL 254.9225 224.64 \r\nL 251.878864 224.64 \r\nz\r\n\" style=\"fill:#1f77b4;\"/>\r\n   </g>\r\n   <g id=\"patch_75\">\r\n    <path clip-path=\"url(#p603d966edc)\" d=\"M 254.9225 224.64 \r\nL 257.966136 224.64 \r\nL 257.966136 224.64 \r\nL 254.9225 224.64 \r\nz\r\n\" style=\"fill:#1f77b4;\"/>\r\n   </g>\r\n   <g id=\"patch_76\">\r\n    <path clip-path=\"url(#p603d966edc)\" d=\"M 257.966136 224.64 \r\nL 261.009773 224.64 \r\nL 261.009773 183.222857 \r\nL 257.966136 183.222857 \r\nz\r\n\" style=\"fill:#1f77b4;\"/>\r\n   </g>\r\n   <g id=\"patch_77\">\r\n    <path clip-path=\"url(#p603d966edc)\" d=\"M 261.009773 224.64 \r\nL 264.053409 224.64 \r\nL 264.053409 224.64 \r\nL 261.009773 224.64 \r\nz\r\n\" style=\"fill:#1f77b4;\"/>\r\n   </g>\r\n   <g id=\"patch_78\">\r\n    <path clip-path=\"url(#p603d966edc)\" d=\"M 264.053409 224.64 \r\nL 267.097045 224.64 \r\nL 267.097045 224.64 \r\nL 264.053409 224.64 \r\nz\r\n\" style=\"fill:#1f77b4;\"/>\r\n   </g>\r\n   <g id=\"patch_79\">\r\n    <path clip-path=\"url(#p603d966edc)\" d=\"M 267.097045 224.64 \r\nL 270.140682 224.64 \r\nL 270.140682 183.222857 \r\nL 267.097045 183.222857 \r\nz\r\n\" style=\"fill:#1f77b4;\"/>\r\n   </g>\r\n   <g id=\"patch_80\">\r\n    <path clip-path=\"url(#p603d966edc)\" d=\"M 270.140682 224.64 \r\nL 273.184318 224.64 \r\nL 273.184318 58.971429 \r\nL 270.140682 58.971429 \r\nz\r\n\" style=\"fill:#1f77b4;\"/>\r\n   </g>\r\n   <g id=\"patch_81\">\r\n    <path clip-path=\"url(#p603d966edc)\" d=\"M 273.184318 224.64 \r\nL 276.227955 224.64 \r\nL 276.227955 183.222857 \r\nL 273.184318 183.222857 \r\nz\r\n\" style=\"fill:#1f77b4;\"/>\r\n   </g>\r\n   <g id=\"patch_82\">\r\n    <path clip-path=\"url(#p603d966edc)\" d=\"M 276.227955 224.64 \r\nL 279.271591 224.64 \r\nL 279.271591 224.64 \r\nL 276.227955 224.64 \r\nz\r\n\" style=\"fill:#1f77b4;\"/>\r\n   </g>\r\n   <g id=\"patch_83\">\r\n    <path clip-path=\"url(#p603d966edc)\" d=\"M 279.271591 224.64 \r\nL 282.315227 224.64 \r\nL 282.315227 224.64 \r\nL 279.271591 224.64 \r\nz\r\n\" style=\"fill:#1f77b4;\"/>\r\n   </g>\r\n   <g id=\"patch_84\">\r\n    <path clip-path=\"url(#p603d966edc)\" d=\"M 282.315227 224.64 \r\nL 285.358864 224.64 \r\nL 285.358864 224.64 \r\nL 282.315227 224.64 \r\nz\r\n\" style=\"fill:#1f77b4;\"/>\r\n   </g>\r\n   <g id=\"patch_85\">\r\n    <path clip-path=\"url(#p603d966edc)\" d=\"M 285.358864 224.64 \r\nL 288.4025 224.64 \r\nL 288.4025 141.805714 \r\nL 285.358864 141.805714 \r\nz\r\n\" style=\"fill:#1f77b4;\"/>\r\n   </g>\r\n   <g id=\"patch_86\">\r\n    <path clip-path=\"url(#p603d966edc)\" d=\"M 288.4025 224.64 \r\nL 291.446136 224.64 \r\nL 291.446136 183.222857 \r\nL 288.4025 183.222857 \r\nz\r\n\" style=\"fill:#1f77b4;\"/>\r\n   </g>\r\n   <g id=\"patch_87\">\r\n    <path clip-path=\"url(#p603d966edc)\" d=\"M 291.446136 224.64 \r\nL 294.489773 224.64 \r\nL 294.489773 224.64 \r\nL 291.446136 224.64 \r\nz\r\n\" style=\"fill:#1f77b4;\"/>\r\n   </g>\r\n   <g id=\"patch_88\">\r\n    <path clip-path=\"url(#p603d966edc)\" d=\"M 294.489773 224.64 \r\nL 297.533409 224.64 \r\nL 297.533409 224.64 \r\nL 294.489773 224.64 \r\nz\r\n\" style=\"fill:#1f77b4;\"/>\r\n   </g>\r\n   <g id=\"patch_89\">\r\n    <path clip-path=\"url(#p603d966edc)\" d=\"M 297.533409 224.64 \r\nL 300.577045 224.64 \r\nL 300.577045 224.64 \r\nL 297.533409 224.64 \r\nz\r\n\" style=\"fill:#1f77b4;\"/>\r\n   </g>\r\n   <g id=\"patch_90\">\r\n    <path clip-path=\"url(#p603d966edc)\" d=\"M 300.577045 224.64 \r\nL 303.620682 224.64 \r\nL 303.620682 141.805714 \r\nL 300.577045 141.805714 \r\nz\r\n\" style=\"fill:#1f77b4;\"/>\r\n   </g>\r\n   <g id=\"patch_91\">\r\n    <path clip-path=\"url(#p603d966edc)\" d=\"M 303.620682 224.64 \r\nL 306.664318 224.64 \r\nL 306.664318 224.64 \r\nL 303.620682 224.64 \r\nz\r\n\" style=\"fill:#1f77b4;\"/>\r\n   </g>\r\n   <g id=\"patch_92\">\r\n    <path clip-path=\"url(#p603d966edc)\" d=\"M 306.664318 224.64 \r\nL 309.707955 224.64 \r\nL 309.707955 224.64 \r\nL 306.664318 224.64 \r\nz\r\n\" style=\"fill:#1f77b4;\"/>\r\n   </g>\r\n   <g id=\"patch_93\">\r\n    <path clip-path=\"url(#p603d966edc)\" d=\"M 309.707955 224.64 \r\nL 312.751591 224.64 \r\nL 312.751591 224.64 \r\nL 309.707955 224.64 \r\nz\r\n\" style=\"fill:#1f77b4;\"/>\r\n   </g>\r\n   <g id=\"patch_94\">\r\n    <path clip-path=\"url(#p603d966edc)\" d=\"M 312.751591 224.64 \r\nL 315.795227 224.64 \r\nL 315.795227 183.222857 \r\nL 312.751591 183.222857 \r\nz\r\n\" style=\"fill:#1f77b4;\"/>\r\n   </g>\r\n   <g id=\"patch_95\">\r\n    <path clip-path=\"url(#p603d966edc)\" d=\"M 315.795227 224.64 \r\nL 318.838864 224.64 \r\nL 318.838864 224.64 \r\nL 315.795227 224.64 \r\nz\r\n\" style=\"fill:#1f77b4;\"/>\r\n   </g>\r\n   <g id=\"patch_96\">\r\n    <path clip-path=\"url(#p603d966edc)\" d=\"M 318.838864 224.64 \r\nL 321.8825 224.64 \r\nL 321.8825 224.64 \r\nL 318.838864 224.64 \r\nz\r\n\" style=\"fill:#1f77b4;\"/>\r\n   </g>\r\n   <g id=\"patch_97\">\r\n    <path clip-path=\"url(#p603d966edc)\" d=\"M 321.8825 224.64 \r\nL 324.926136 224.64 \r\nL 324.926136 183.222857 \r\nL 321.8825 183.222857 \r\nz\r\n\" style=\"fill:#1f77b4;\"/>\r\n   </g>\r\n   <g id=\"patch_98\">\r\n    <path clip-path=\"url(#p603d966edc)\" d=\"M 324.926136 224.64 \r\nL 327.969773 224.64 \r\nL 327.969773 224.64 \r\nL 324.926136 224.64 \r\nz\r\n\" style=\"fill:#1f77b4;\"/>\r\n   </g>\r\n   <g id=\"patch_99\">\r\n    <path clip-path=\"url(#p603d966edc)\" d=\"M 327.969773 224.64 \r\nL 331.013409 224.64 \r\nL 331.013409 17.554286 \r\nL 327.969773 17.554286 \r\nz\r\n\" style=\"fill:#1f77b4;\"/>\r\n   </g>\r\n   <g id=\"patch_100\">\r\n    <path clip-path=\"url(#p603d966edc)\" d=\"M 331.013409 224.64 \r\nL 334.057045 224.64 \r\nL 334.057045 224.64 \r\nL 331.013409 224.64 \r\nz\r\n\" style=\"fill:#1f77b4;\"/>\r\n   </g>\r\n   <g id=\"patch_101\">\r\n    <path clip-path=\"url(#p603d966edc)\" d=\"M 334.057045 224.64 \r\nL 337.100682 224.64 \r\nL 337.100682 224.64 \r\nL 334.057045 224.64 \r\nz\r\n\" style=\"fill:#1f77b4;\"/>\r\n   </g>\r\n   <g id=\"patch_102\">\r\n    <path clip-path=\"url(#p603d966edc)\" d=\"M 337.100682 224.64 \r\nL 340.144318 224.64 \r\nL 340.144318 17.554286 \r\nL 337.100682 17.554286 \r\nz\r\n\" style=\"fill:#1f77b4;\"/>\r\n   </g>\r\n   <g id=\"matplotlib.axis_1\">\r\n    <g id=\"xtick_1\">\r\n     <g id=\"line2d_1\">\r\n      <defs>\r\n       <path d=\"M 0 0 \r\nL 0 3.5 \r\n\" id=\"m51b183ad9e\" style=\"stroke:#000000;stroke-width:0.8;\"/>\r\n      </defs>\r\n      <g>\r\n       <use style=\"stroke:#000000;stroke-width:0.8;\" x=\"32.706302\" xlink:href=\"#m51b183ad9e\" y=\"224.64\"/>\r\n      </g>\r\n     </g>\r\n     <g id=\"text_1\">\r\n      <!-- 0 -->\r\n      <g transform=\"translate(29.525052 239.238437)scale(0.1 -0.1)\">\r\n       <defs>\r\n        <path d=\"M 2034 4250 \r\nQ 1547 4250 1301 3770 \r\nQ 1056 3291 1056 2328 \r\nQ 1056 1369 1301 889 \r\nQ 1547 409 2034 409 \r\nQ 2525 409 2770 889 \r\nQ 3016 1369 3016 2328 \r\nQ 3016 3291 2770 3770 \r\nQ 2525 4250 2034 4250 \r\nz\r\nM 2034 4750 \r\nQ 2819 4750 3233 4129 \r\nQ 3647 3509 3647 2328 \r\nQ 3647 1150 3233 529 \r\nQ 2819 -91 2034 -91 \r\nQ 1250 -91 836 529 \r\nQ 422 1150 422 2328 \r\nQ 422 3509 836 4129 \r\nQ 1250 4750 2034 4750 \r\nz\r\n\" id=\"DejaVuSans-30\" transform=\"scale(0.015625)\"/>\r\n       </defs>\r\n       <use xlink:href=\"#DejaVuSans-30\"/>\r\n      </g>\r\n     </g>\r\n    </g>\r\n    <g id=\"xtick_2\">\r\n     <g id=\"line2d_2\">\r\n      <g>\r\n       <use style=\"stroke:#000000;stroke-width:0.8;\" x=\"91.828997\" xlink:href=\"#m51b183ad9e\" y=\"224.64\"/>\r\n      </g>\r\n     </g>\r\n     <g id=\"text_2\">\r\n      <!-- 50 -->\r\n      <g transform=\"translate(85.466497 239.238437)scale(0.1 -0.1)\">\r\n       <defs>\r\n        <path d=\"M 691 4666 \r\nL 3169 4666 \r\nL 3169 4134 \r\nL 1269 4134 \r\nL 1269 2991 \r\nQ 1406 3038 1543 3061 \r\nQ 1681 3084 1819 3084 \r\nQ 2600 3084 3056 2656 \r\nQ 3513 2228 3513 1497 \r\nQ 3513 744 3044 326 \r\nQ 2575 -91 1722 -91 \r\nQ 1428 -91 1123 -41 \r\nQ 819 9 494 109 \r\nL 494 744 \r\nQ 775 591 1075 516 \r\nQ 1375 441 1709 441 \r\nQ 2250 441 2565 725 \r\nQ 2881 1009 2881 1497 \r\nQ 2881 1984 2565 2268 \r\nQ 2250 2553 1709 2553 \r\nQ 1456 2553 1204 2497 \r\nQ 953 2441 691 2322 \r\nL 691 4666 \r\nz\r\n\" id=\"DejaVuSans-35\" transform=\"scale(0.015625)\"/>\r\n       </defs>\r\n       <use xlink:href=\"#DejaVuSans-35\"/>\r\n       <use x=\"63.623047\" xlink:href=\"#DejaVuSans-30\"/>\r\n      </g>\r\n     </g>\r\n    </g>\r\n    <g id=\"xtick_3\">\r\n     <g id=\"line2d_3\">\r\n      <g>\r\n       <use style=\"stroke:#000000;stroke-width:0.8;\" x=\"150.951693\" xlink:href=\"#m51b183ad9e\" y=\"224.64\"/>\r\n      </g>\r\n     </g>\r\n     <g id=\"text_3\">\r\n      <!-- 100 -->\r\n      <g transform=\"translate(141.407943 239.238437)scale(0.1 -0.1)\">\r\n       <defs>\r\n        <path d=\"M 794 531 \r\nL 1825 531 \r\nL 1825 4091 \r\nL 703 3866 \r\nL 703 4441 \r\nL 1819 4666 \r\nL 2450 4666 \r\nL 2450 531 \r\nL 3481 531 \r\nL 3481 0 \r\nL 794 0 \r\nL 794 531 \r\nz\r\n\" id=\"DejaVuSans-31\" transform=\"scale(0.015625)\"/>\r\n       </defs>\r\n       <use xlink:href=\"#DejaVuSans-31\"/>\r\n       <use x=\"63.623047\" xlink:href=\"#DejaVuSans-30\"/>\r\n       <use x=\"127.246094\" xlink:href=\"#DejaVuSans-30\"/>\r\n      </g>\r\n     </g>\r\n    </g>\r\n    <g id=\"xtick_4\">\r\n     <g id=\"line2d_4\">\r\n      <g>\r\n       <use style=\"stroke:#000000;stroke-width:0.8;\" x=\"210.074388\" xlink:href=\"#m51b183ad9e\" y=\"224.64\"/>\r\n      </g>\r\n     </g>\r\n     <g id=\"text_4\">\r\n      <!-- 150 -->\r\n      <g transform=\"translate(200.530638 239.238437)scale(0.1 -0.1)\">\r\n       <use xlink:href=\"#DejaVuSans-31\"/>\r\n       <use x=\"63.623047\" xlink:href=\"#DejaVuSans-35\"/>\r\n       <use x=\"127.246094\" xlink:href=\"#DejaVuSans-30\"/>\r\n      </g>\r\n     </g>\r\n    </g>\r\n    <g id=\"xtick_5\">\r\n     <g id=\"line2d_5\">\r\n      <g>\r\n       <use style=\"stroke:#000000;stroke-width:0.8;\" x=\"269.197084\" xlink:href=\"#m51b183ad9e\" y=\"224.64\"/>\r\n      </g>\r\n     </g>\r\n     <g id=\"text_5\">\r\n      <!-- 200 -->\r\n      <g transform=\"translate(259.653334 239.238437)scale(0.1 -0.1)\">\r\n       <defs>\r\n        <path d=\"M 1228 531 \r\nL 3431 531 \r\nL 3431 0 \r\nL 469 0 \r\nL 469 531 \r\nQ 828 903 1448 1529 \r\nQ 2069 2156 2228 2338 \r\nQ 2531 2678 2651 2914 \r\nQ 2772 3150 2772 3378 \r\nQ 2772 3750 2511 3984 \r\nQ 2250 4219 1831 4219 \r\nQ 1534 4219 1204 4116 \r\nQ 875 4013 500 3803 \r\nL 500 4441 \r\nQ 881 4594 1212 4672 \r\nQ 1544 4750 1819 4750 \r\nQ 2544 4750 2975 4387 \r\nQ 3406 4025 3406 3419 \r\nQ 3406 3131 3298 2873 \r\nQ 3191 2616 2906 2266 \r\nQ 2828 2175 2409 1742 \r\nQ 1991 1309 1228 531 \r\nz\r\n\" id=\"DejaVuSans-32\" transform=\"scale(0.015625)\"/>\r\n       </defs>\r\n       <use xlink:href=\"#DejaVuSans-32\"/>\r\n       <use x=\"63.623047\" xlink:href=\"#DejaVuSans-30\"/>\r\n       <use x=\"127.246094\" xlink:href=\"#DejaVuSans-30\"/>\r\n      </g>\r\n     </g>\r\n    </g>\r\n    <g id=\"xtick_6\">\r\n     <g id=\"line2d_6\">\r\n      <g>\r\n       <use style=\"stroke:#000000;stroke-width:0.8;\" x=\"328.319779\" xlink:href=\"#m51b183ad9e\" y=\"224.64\"/>\r\n      </g>\r\n     </g>\r\n     <g id=\"text_6\">\r\n      <!-- 250 -->\r\n      <g transform=\"translate(318.776029 239.238437)scale(0.1 -0.1)\">\r\n       <use xlink:href=\"#DejaVuSans-32\"/>\r\n       <use x=\"63.623047\" xlink:href=\"#DejaVuSans-35\"/>\r\n       <use x=\"127.246094\" xlink:href=\"#DejaVuSans-30\"/>\r\n      </g>\r\n     </g>\r\n    </g>\r\n   </g>\r\n   <g id=\"matplotlib.axis_2\">\r\n    <g id=\"ytick_1\">\r\n     <g id=\"line2d_7\">\r\n      <defs>\r\n       <path d=\"M 0 0 \r\nL -3.5 0 \r\n\" id=\"m0a334ba34d\" style=\"stroke:#000000;stroke-width:0.8;\"/>\r\n      </defs>\r\n      <g>\r\n       <use style=\"stroke:#000000;stroke-width:0.8;\" x=\"20.5625\" xlink:href=\"#m0a334ba34d\" y=\"224.64\"/>\r\n      </g>\r\n     </g>\r\n     <g id=\"text_7\">\r\n      <!-- 0 -->\r\n      <g transform=\"translate(7.2 228.439219)scale(0.1 -0.1)\">\r\n       <use xlink:href=\"#DejaVuSans-30\"/>\r\n      </g>\r\n     </g>\r\n    </g>\r\n    <g id=\"ytick_2\">\r\n     <g id=\"line2d_8\">\r\n      <g>\r\n       <use style=\"stroke:#000000;stroke-width:0.8;\" x=\"20.5625\" xlink:href=\"#m0a334ba34d\" y=\"183.222857\"/>\r\n      </g>\r\n     </g>\r\n     <g id=\"text_8\">\r\n      <!-- 1 -->\r\n      <g transform=\"translate(7.2 187.022076)scale(0.1 -0.1)\">\r\n       <use xlink:href=\"#DejaVuSans-31\"/>\r\n      </g>\r\n     </g>\r\n    </g>\r\n    <g id=\"ytick_3\">\r\n     <g id=\"line2d_9\">\r\n      <g>\r\n       <use style=\"stroke:#000000;stroke-width:0.8;\" x=\"20.5625\" xlink:href=\"#m0a334ba34d\" y=\"141.805714\"/>\r\n      </g>\r\n     </g>\r\n     <g id=\"text_9\">\r\n      <!-- 2 -->\r\n      <g transform=\"translate(7.2 145.604933)scale(0.1 -0.1)\">\r\n       <use xlink:href=\"#DejaVuSans-32\"/>\r\n      </g>\r\n     </g>\r\n    </g>\r\n    <g id=\"ytick_4\">\r\n     <g id=\"line2d_10\">\r\n      <g>\r\n       <use style=\"stroke:#000000;stroke-width:0.8;\" x=\"20.5625\" xlink:href=\"#m0a334ba34d\" y=\"100.388571\"/>\r\n      </g>\r\n     </g>\r\n     <g id=\"text_10\">\r\n      <!-- 3 -->\r\n      <g transform=\"translate(7.2 104.18779)scale(0.1 -0.1)\">\r\n       <defs>\r\n        <path d=\"M 2597 2516 \r\nQ 3050 2419 3304 2112 \r\nQ 3559 1806 3559 1356 \r\nQ 3559 666 3084 287 \r\nQ 2609 -91 1734 -91 \r\nQ 1441 -91 1130 -33 \r\nQ 819 25 488 141 \r\nL 488 750 \r\nQ 750 597 1062 519 \r\nQ 1375 441 1716 441 \r\nQ 2309 441 2620 675 \r\nQ 2931 909 2931 1356 \r\nQ 2931 1769 2642 2001 \r\nQ 2353 2234 1838 2234 \r\nL 1294 2234 \r\nL 1294 2753 \r\nL 1863 2753 \r\nQ 2328 2753 2575 2939 \r\nQ 2822 3125 2822 3475 \r\nQ 2822 3834 2567 4026 \r\nQ 2313 4219 1838 4219 \r\nQ 1578 4219 1281 4162 \r\nQ 984 4106 628 3988 \r\nL 628 4550 \r\nQ 988 4650 1302 4700 \r\nQ 1616 4750 1894 4750 \r\nQ 2613 4750 3031 4423 \r\nQ 3450 4097 3450 3541 \r\nQ 3450 3153 3228 2886 \r\nQ 3006 2619 2597 2516 \r\nz\r\n\" id=\"DejaVuSans-33\" transform=\"scale(0.015625)\"/>\r\n       </defs>\r\n       <use xlink:href=\"#DejaVuSans-33\"/>\r\n      </g>\r\n     </g>\r\n    </g>\r\n    <g id=\"ytick_5\">\r\n     <g id=\"line2d_11\">\r\n      <g>\r\n       <use style=\"stroke:#000000;stroke-width:0.8;\" x=\"20.5625\" xlink:href=\"#m0a334ba34d\" y=\"58.971429\"/>\r\n      </g>\r\n     </g>\r\n     <g id=\"text_11\">\r\n      <!-- 4 -->\r\n      <g transform=\"translate(7.2 62.770647)scale(0.1 -0.1)\">\r\n       <defs>\r\n        <path d=\"M 2419 4116 \r\nL 825 1625 \r\nL 2419 1625 \r\nL 2419 4116 \r\nz\r\nM 2253 4666 \r\nL 3047 4666 \r\nL 3047 1625 \r\nL 3713 1625 \r\nL 3713 1100 \r\nL 3047 1100 \r\nL 3047 0 \r\nL 2419 0 \r\nL 2419 1100 \r\nL 313 1100 \r\nL 313 1709 \r\nL 2253 4666 \r\nz\r\n\" id=\"DejaVuSans-34\" transform=\"scale(0.015625)\"/>\r\n       </defs>\r\n       <use xlink:href=\"#DejaVuSans-34\"/>\r\n      </g>\r\n     </g>\r\n    </g>\r\n    <g id=\"ytick_6\">\r\n     <g id=\"line2d_12\">\r\n      <g>\r\n       <use style=\"stroke:#000000;stroke-width:0.8;\" x=\"20.5625\" xlink:href=\"#m0a334ba34d\" y=\"17.554286\"/>\r\n      </g>\r\n     </g>\r\n     <g id=\"text_12\">\r\n      <!-- 5 -->\r\n      <g transform=\"translate(7.2 21.353504)scale(0.1 -0.1)\">\r\n       <use xlink:href=\"#DejaVuSans-35\"/>\r\n      </g>\r\n     </g>\r\n    </g>\r\n   </g>\r\n   <g id=\"patch_103\">\r\n    <path d=\"M 20.5625 224.64 \r\nL 20.5625 7.2 \r\n\" style=\"fill:none;stroke:#000000;stroke-linecap:square;stroke-linejoin:miter;stroke-width:0.8;\"/>\r\n   </g>\r\n   <g id=\"patch_104\">\r\n    <path d=\"M 355.3625 224.64 \r\nL 355.3625 7.2 \r\n\" style=\"fill:none;stroke:#000000;stroke-linecap:square;stroke-linejoin:miter;stroke-width:0.8;\"/>\r\n   </g>\r\n   <g id=\"patch_105\">\r\n    <path d=\"M 20.5625 224.64 \r\nL 355.3625 224.64 \r\n\" style=\"fill:none;stroke:#000000;stroke-linecap:square;stroke-linejoin:miter;stroke-width:0.8;\"/>\r\n   </g>\r\n   <g id=\"patch_106\">\r\n    <path d=\"M 20.5625 7.2 \r\nL 355.3625 7.2 \r\n\" style=\"fill:none;stroke:#000000;stroke-linecap:square;stroke-linejoin:miter;stroke-width:0.8;\"/>\r\n   </g>\r\n  </g>\r\n </g>\r\n <defs>\r\n  <clipPath id=\"p603d966edc\">\r\n   <rect height=\"217.44\" width=\"334.8\" x=\"20.5625\" y=\"7.2\"/>\r\n  </clipPath>\r\n </defs>\r\n</svg>\r\n",
      "image/png": "[encoded data removed]"
     },
     "metadata": {
      "needs_background": "light"
     }
    }
   ],
   "source": [
    "plt.hist(cleaned_dates, bins=100)"
   ]
  },
  {
   "cell_type": "code",
   "execution_count": 279,
   "metadata": {},
   "outputs": [
    {
     "output_type": "stream",
     "name": "stderr",
     "text": [
      "warning: LF will be replaced by CRLF in PulsesEarth/pulsesEarth.ipynb.\nThe file will have its original line endings in your working directory\n"
     ]
    }
   ],
   "source": [
    "!git add ."
   ]
  },
  {
   "cell_type": "code",
   "execution_count": null,
   "metadata": {},
   "outputs": [],
   "source": [
    "!git commit -m \"added preprocessing\""
   ]
  }
 ]
}