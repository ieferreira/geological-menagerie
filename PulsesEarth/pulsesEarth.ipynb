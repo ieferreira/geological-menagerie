{
 "metadata": {
  "language_info": {
   "codemirror_mode": {
    "name": "ipython",
    "version": 3
   },
   "file_extension": ".py",
   "mimetype": "text/x-python",
   "name": "python",
   "nbconvert_exporter": "python",
   "pygments_lexer": "ipython3",
   "version": "3.8.5"
  },
  "orig_nbformat": 4,
  "kernelspec": {
   "name": "python3",
   "display_name": "Python 3.8.5 64-bit ('base': conda)"
  },
  "interpreter": {
   "hash": "6b064fc685c52604badb0dc209731001517377f8aedb447138004ef620d05180"
  }
 },
 "nbformat": 4,
 "nbformat_minor": 2,
 "cells": [
  {
   "source": [
    "### Code implementation - A pulse of the Earth: A 27.5-Myr underlying cycle in coordinated geological events over the last 260 Myr by Michael R. Rampino, Ken Caldeira and Yuhong Zhu\n"
   ],
   "cell_type": "markdown",
   "metadata": {}
  },
  {
   "cell_type": "code",
   "execution_count": 1,
   "metadata": {},
   "outputs": [],
   "source": [
    "import numpy as np \n",
    "import matplotlib.pyplot as plt \n",
    "import pandas as pd \n",
    "import seaborn as sns"
   ]
  },
  {
   "source": [
    "### Columns in the dataset are main events in the geological record (compiled by Rampino et al, 2021) as provided in the paper"
   ],
   "cell_type": "markdown",
   "metadata": {}
  },
  {
   "source": [
    "## Data cleaning\n",
    "\n",
    "The idea is to leave a list of dates to see any recurrent pattern"
   ],
   "cell_type": "markdown",
   "metadata": {}
  },
  {
   "cell_type": "code",
   "execution_count": 2,
   "metadata": {},
   "outputs": [
    {
     "output_type": "execute_result",
     "data": {
      "text/plain": [
       "Index(['IntervalMa', 'MarineExtinction', 'AnoxicEvent', 'ContinentalBasalt',\n",
       "       'SequenceBoundary', 'NonMarineExtinction', 'ChangesSpreadingRate',\n",
       "       'IntraPlateVolcanism'],\n",
       "      dtype='object')"
      ]
     },
     "metadata": {},
     "execution_count": 2
    }
   ],
   "source": [
    "df = pd.read_excel(\"geological_events.xlsx\")\n",
    "df.columns"
   ]
  },
  {
   "cell_type": "code",
   "execution_count": 3,
   "metadata": {},
   "outputs": [
    {
     "output_type": "execute_result",
     "data": {
      "text/plain": [
       "   IntervalMa MarineExtinction   AnoxicEvent ContinentalBasalt  \\\n",
       "0         0–9              2.6             —                 —   \n",
       "1       10–19             11.6             —       16.6 ± 0.03   \n",
       "2       20–29                —             —                 —   \n",
       "3       30–39             36.5             —        30.4 ± 0.4   \n",
       "4       40–49                —             —              41.2   \n",
       "5       50–59                —          56.0        56.6 ± 0.3   \n",
       "6       60–69            66.04            66        61.9; 66.3   \n",
       "7       70–79                —             —                 —   \n",
       "8       80–89                —             —                 —   \n",
       "9       90–99             93.9          93.9        92.9 ± 3.8   \n",
       "10    100–109                —             —                 —   \n",
       "11    110–119                —             —           118 ± 1   \n",
       "12    120–129              124           124       123.5 ± 1.5   \n",
       "13    130–139                —         132.6         134.7 ± 1   \n",
       "14    140–149            143.1             —                 —   \n",
       "15    150–159                —           152                 —   \n",
       "16    160–169                —             —                 —   \n",
       "17    170–179                —             —                 —   \n",
       "18    180–189      184.2 ± 0.7   184.2 ± 0.7      182.7 ± 0.03   \n",
       "19    190–199                —             —                 —   \n",
       "20    200–209      201.4 ± 0.2   201.4 ± 0.2      201.5 ± 0.05   \n",
       "21    210–219              215             —                 —   \n",
       "22    220–229                —             —               228   \n",
       "23    230–239                —             —                 —   \n",
       "24    240–249                —             —                 —   \n",
       "25    250–259     251.9 ± 0.02  251.9 ± 0.02      251.9 ± 0.07   \n",
       "26    260–269      259.8 ± 0.5   259.8 ± 0.5       259.6 ± 0.5   \n",
       "\n",
       "    SequenceBoundary NonMarineExtinction ChangesSpreadingRate  \\\n",
       "0               5.33                7.25                    —   \n",
       "1              11.63                   —                    —   \n",
       "2              23.03                   —                    —   \n",
       "3               33.9                33.9                    —   \n",
       "4                  —                   —                   40   \n",
       "5               52.0                   —               50, 58   \n",
       "6           61.6; 68                  66                    —   \n",
       "7                  —                   —                   75   \n",
       "8               84.2                   —                   80   \n",
       "9               93.9                   —                    —   \n",
       "10          100; 109                   —                    —   \n",
       "11                 —                   —                    —   \n",
       "12        124; 129.4                   —                  120   \n",
       "13      132.6; 139.8                   —                    —   \n",
       "14       149.2 ± 0.9               143.1                  140   \n",
       "15              ____                   —                  155   \n",
       "16       161.5 ± 1.0                   —                    —   \n",
       "17       170.3 ± 1.4                   —                  170   \n",
       "18       184.2 ± 0.7                   —                    —   \n",
       "19  190.8 ± 1.0; 199                   —                    —   \n",
       "20             205.7         201.4 ± 0.2                    —   \n",
       "21               218                 215                    —   \n",
       "22             227.3                   —                    —   \n",
       "23               237                   —                    —   \n",
       "24               247                   —                    —   \n",
       "25               252        251.9 ± 0.02                    —   \n",
       "26               260         259.8 ± 0.5                    —   \n",
       "\n",
       "   IntraPlateVolcanism  \n",
       "0                    3  \n",
       "1               10, 15  \n",
       "2                   23  \n",
       "3                   30  \n",
       "4                  NaN  \n",
       "5                    —  \n",
       "6               60, 65  \n",
       "7                    —  \n",
       "8                    —  \n",
       "9                    —  \n",
       "10                   —  \n",
       "11                   —  \n",
       "12                   —  \n",
       "13                 NaN  \n",
       "14                   —  \n",
       "15                   —  \n",
       "16                   —  \n",
       "17                   —  \n",
       "18                   —  \n",
       "19                   —  \n",
       "20                   —  \n",
       "21                   —  \n",
       "22                 NaN  \n",
       "23                   —  \n",
       "24                   —  \n",
       "25                   —  \n",
       "26                   —  "
      ],
      "text/html": "<div>\n<style scoped>\n    .dataframe tbody tr th:only-of-type {\n        vertical-align: middle;\n    }\n\n    .dataframe tbody tr th {\n        vertical-align: top;\n    }\n\n    .dataframe thead th {\n        text-align: right;\n    }\n</style>\n<table border=\"1\" class=\"dataframe\">\n  <thead>\n    <tr style=\"text-align: right;\">\n      <th></th>\n      <th>IntervalMa</th>\n      <th>MarineExtinction</th>\n      <th>AnoxicEvent</th>\n      <th>ContinentalBasalt</th>\n      <th>SequenceBoundary</th>\n      <th>NonMarineExtinction</th>\n      <th>ChangesSpreadingRate</th>\n      <th>IntraPlateVolcanism</th>\n    </tr>\n  </thead>\n  <tbody>\n    <tr>\n      <th>0</th>\n      <td>0–9</td>\n      <td>2.6</td>\n      <td>—</td>\n      <td>—</td>\n      <td>5.33</td>\n      <td>7.25</td>\n      <td>—</td>\n      <td>3</td>\n    </tr>\n    <tr>\n      <th>1</th>\n      <td>10–19</td>\n      <td>11.6</td>\n      <td>—</td>\n      <td>16.6 ± 0.03</td>\n      <td>11.63</td>\n      <td>—</td>\n      <td>—</td>\n      <td>10, 15</td>\n    </tr>\n    <tr>\n      <th>2</th>\n      <td>20–29</td>\n      <td>—</td>\n      <td>—</td>\n      <td>—</td>\n      <td>23.03</td>\n      <td>—</td>\n      <td>—</td>\n      <td>23</td>\n    </tr>\n    <tr>\n      <th>3</th>\n      <td>30–39</td>\n      <td>36.5</td>\n      <td>—</td>\n      <td>30.4 ± 0.4</td>\n      <td>33.9</td>\n      <td>33.9</td>\n      <td>—</td>\n      <td>30</td>\n    </tr>\n    <tr>\n      <th>4</th>\n      <td>40–49</td>\n      <td>—</td>\n      <td>—</td>\n      <td>41.2</td>\n      <td>—</td>\n      <td>—</td>\n      <td>40</td>\n      <td>NaN</td>\n    </tr>\n    <tr>\n      <th>5</th>\n      <td>50–59</td>\n      <td>—</td>\n      <td>56.0</td>\n      <td>56.6 ± 0.3</td>\n      <td>52.0</td>\n      <td>—</td>\n      <td>50, 58</td>\n      <td>—</td>\n    </tr>\n    <tr>\n      <th>6</th>\n      <td>60–69</td>\n      <td>66.04</td>\n      <td>66</td>\n      <td>61.9; 66.3</td>\n      <td>61.6; 68</td>\n      <td>66</td>\n      <td>—</td>\n      <td>60, 65</td>\n    </tr>\n    <tr>\n      <th>7</th>\n      <td>70–79</td>\n      <td>—</td>\n      <td>—</td>\n      <td>—</td>\n      <td>—</td>\n      <td>—</td>\n      <td>75</td>\n      <td>—</td>\n    </tr>\n    <tr>\n      <th>8</th>\n      <td>80–89</td>\n      <td>—</td>\n      <td>—</td>\n      <td>—</td>\n      <td>84.2</td>\n      <td>—</td>\n      <td>80</td>\n      <td>—</td>\n    </tr>\n    <tr>\n      <th>9</th>\n      <td>90–99</td>\n      <td>93.9</td>\n      <td>93.9</td>\n      <td>92.9 ± 3.8</td>\n      <td>93.9</td>\n      <td>—</td>\n      <td>—</td>\n      <td>—</td>\n    </tr>\n    <tr>\n      <th>10</th>\n      <td>100–109</td>\n      <td>—</td>\n      <td>—</td>\n      <td>—</td>\n      <td>100; 109</td>\n      <td>—</td>\n      <td>—</td>\n      <td>—</td>\n    </tr>\n    <tr>\n      <th>11</th>\n      <td>110–119</td>\n      <td>—</td>\n      <td>—</td>\n      <td>118 ± 1</td>\n      <td>—</td>\n      <td>—</td>\n      <td>—</td>\n      <td>—</td>\n    </tr>\n    <tr>\n      <th>12</th>\n      <td>120–129</td>\n      <td>124</td>\n      <td>124</td>\n      <td>123.5 ± 1.5</td>\n      <td>124; 129.4</td>\n      <td>—</td>\n      <td>120</td>\n      <td>—</td>\n    </tr>\n    <tr>\n      <th>13</th>\n      <td>130–139</td>\n      <td>—</td>\n      <td>132.6</td>\n      <td>134.7 ± 1</td>\n      <td>132.6; 139.8</td>\n      <td>—</td>\n      <td>—</td>\n      <td>NaN</td>\n    </tr>\n    <tr>\n      <th>14</th>\n      <td>140–149</td>\n      <td>143.1</td>\n      <td>—</td>\n      <td>—</td>\n      <td>149.2 ± 0.9</td>\n      <td>143.1</td>\n      <td>140</td>\n      <td>—</td>\n    </tr>\n    <tr>\n      <th>15</th>\n      <td>150–159</td>\n      <td>—</td>\n      <td>152</td>\n      <td>—</td>\n      <td>____</td>\n      <td>—</td>\n      <td>155</td>\n      <td>—</td>\n    </tr>\n    <tr>\n      <th>16</th>\n      <td>160–169</td>\n      <td>—</td>\n      <td>—</td>\n      <td>—</td>\n      <td>161.5 ± 1.0</td>\n      <td>—</td>\n      <td>—</td>\n      <td>—</td>\n    </tr>\n    <tr>\n      <th>17</th>\n      <td>170–179</td>\n      <td>—</td>\n      <td>—</td>\n      <td>—</td>\n      <td>170.3 ± 1.4</td>\n      <td>—</td>\n      <td>170</td>\n      <td>—</td>\n    </tr>\n    <tr>\n      <th>18</th>\n      <td>180–189</td>\n      <td>184.2 ± 0.7</td>\n      <td>184.2 ± 0.7</td>\n      <td>182.7 ± 0.03</td>\n      <td>184.2 ± 0.7</td>\n      <td>—</td>\n      <td>—</td>\n      <td>—</td>\n    </tr>\n    <tr>\n      <th>19</th>\n      <td>190–199</td>\n      <td>—</td>\n      <td>—</td>\n      <td>—</td>\n      <td>190.8 ± 1.0; 199</td>\n      <td>—</td>\n      <td>—</td>\n      <td>—</td>\n    </tr>\n    <tr>\n      <th>20</th>\n      <td>200–209</td>\n      <td>201.4 ± 0.2</td>\n      <td>201.4 ± 0.2</td>\n      <td>201.5 ± 0.05</td>\n      <td>205.7</td>\n      <td>201.4 ± 0.2</td>\n      <td>—</td>\n      <td>—</td>\n    </tr>\n    <tr>\n      <th>21</th>\n      <td>210–219</td>\n      <td>215</td>\n      <td>—</td>\n      <td>—</td>\n      <td>218</td>\n      <td>215</td>\n      <td>—</td>\n      <td>—</td>\n    </tr>\n    <tr>\n      <th>22</th>\n      <td>220–229</td>\n      <td>—</td>\n      <td>—</td>\n      <td>228</td>\n      <td>227.3</td>\n      <td>—</td>\n      <td>—</td>\n      <td>NaN</td>\n    </tr>\n    <tr>\n      <th>23</th>\n      <td>230–239</td>\n      <td>—</td>\n      <td>—</td>\n      <td>—</td>\n      <td>237</td>\n      <td>—</td>\n      <td>—</td>\n      <td>—</td>\n    </tr>\n    <tr>\n      <th>24</th>\n      <td>240–249</td>\n      <td>—</td>\n      <td>—</td>\n      <td>—</td>\n      <td>247</td>\n      <td>—</td>\n      <td>—</td>\n      <td>—</td>\n    </tr>\n    <tr>\n      <th>25</th>\n      <td>250–259</td>\n      <td>251.9 ± 0.02</td>\n      <td>251.9 ± 0.02</td>\n      <td>251.9 ± 0.07</td>\n      <td>252</td>\n      <td>251.9 ± 0.02</td>\n      <td>—</td>\n      <td>—</td>\n    </tr>\n    <tr>\n      <th>26</th>\n      <td>260–269</td>\n      <td>259.8 ± 0.5</td>\n      <td>259.8 ± 0.5</td>\n      <td>259.6 ± 0.5</td>\n      <td>260</td>\n      <td>259.8 ± 0.5</td>\n      <td>—</td>\n      <td>—</td>\n    </tr>\n  </tbody>\n</table>\n</div>"
     },
     "metadata": {},
     "execution_count": 3
    }
   ],
   "source": [
    "df # original dataframe as is in the paper"
   ]
  },
  {
   "cell_type": "code",
   "execution_count": 4,
   "metadata": {},
   "outputs": [
    {
     "output_type": "execute_result",
     "data": {
      "text/plain": [
       "   IntervalMa MarineExtinction   AnoxicEvent ContinentalBasalt  \\\n",
       "0         0–9              2.6           NaN               NaN   \n",
       "1       10–19             11.6           NaN       16.6 ± 0.03   \n",
       "2       20–29              NaN           NaN               NaN   \n",
       "3       30–39             36.5           NaN        30.4 ± 0.4   \n",
       "4       40–49              NaN           NaN              41.2   \n",
       "5       50–59              NaN          56.0        56.6 ± 0.3   \n",
       "6       60–69            66.04            66        61.9; 66.3   \n",
       "7       70–79              NaN           NaN               NaN   \n",
       "8       80–89              NaN           NaN               NaN   \n",
       "9       90–99             93.9          93.9        92.9 ± 3.8   \n",
       "10    100–109              NaN           NaN               NaN   \n",
       "11    110–119              NaN           NaN           118 ± 1   \n",
       "12    120–129              124           124       123.5 ± 1.5   \n",
       "13    130–139              NaN         132.6         134.7 ± 1   \n",
       "14    140–149            143.1           NaN               NaN   \n",
       "15    150–159              NaN           152               NaN   \n",
       "16    160–169              NaN           NaN               NaN   \n",
       "17    170–179              NaN           NaN               NaN   \n",
       "18    180–189      184.2 ± 0.7   184.2 ± 0.7      182.7 ± 0.03   \n",
       "19    190–199              NaN           NaN               NaN   \n",
       "20    200–209      201.4 ± 0.2   201.4 ± 0.2      201.5 ± 0.05   \n",
       "21    210–219              215           NaN               NaN   \n",
       "22    220–229              NaN           NaN               228   \n",
       "23    230–239              NaN           NaN               NaN   \n",
       "24    240–249              NaN           NaN               NaN   \n",
       "25    250–259     251.9 ± 0.02  251.9 ± 0.02      251.9 ± 0.07   \n",
       "26    260–269      259.8 ± 0.5   259.8 ± 0.5       259.6 ± 0.5   \n",
       "\n",
       "    SequenceBoundary NonMarineExtinction ChangesSpreadingRate  \\\n",
       "0               5.33                7.25                  NaN   \n",
       "1              11.63                 NaN                  NaN   \n",
       "2              23.03                 NaN                  NaN   \n",
       "3               33.9                33.9                  NaN   \n",
       "4                NaN                 NaN                   40   \n",
       "5               52.0                 NaN               50, 58   \n",
       "6           61.6; 68                  66                  NaN   \n",
       "7                NaN                 NaN                   75   \n",
       "8               84.2                 NaN                   80   \n",
       "9               93.9                 NaN                  NaN   \n",
       "10          100; 109                 NaN                  NaN   \n",
       "11               NaN                 NaN                  NaN   \n",
       "12        124; 129.4                 NaN                  120   \n",
       "13      132.6; 139.8                 NaN                  NaN   \n",
       "14       149.2 ± 0.9               143.1                  140   \n",
       "15               NaN                 NaN                  155   \n",
       "16       161.5 ± 1.0                 NaN                  NaN   \n",
       "17       170.3 ± 1.4                 NaN                  170   \n",
       "18       184.2 ± 0.7                 NaN                  NaN   \n",
       "19  190.8 ± 1.0; 199                 NaN                  NaN   \n",
       "20             205.7         201.4 ± 0.2                  NaN   \n",
       "21               218                 215                  NaN   \n",
       "22             227.3                 NaN                  NaN   \n",
       "23               237                 NaN                  NaN   \n",
       "24               247                 NaN                  NaN   \n",
       "25               252        251.9 ± 0.02                  NaN   \n",
       "26               260         259.8 ± 0.5                  NaN   \n",
       "\n",
       "   IntraPlateVolcanism  \n",
       "0                    3  \n",
       "1               10, 15  \n",
       "2                   23  \n",
       "3                   30  \n",
       "4                  NaN  \n",
       "5                  NaN  \n",
       "6               60, 65  \n",
       "7                  NaN  \n",
       "8                  NaN  \n",
       "9                  NaN  \n",
       "10                 NaN  \n",
       "11                 NaN  \n",
       "12                 NaN  \n",
       "13                 NaN  \n",
       "14                 NaN  \n",
       "15                 NaN  \n",
       "16                 NaN  \n",
       "17                 NaN  \n",
       "18                 NaN  \n",
       "19                 NaN  \n",
       "20                 NaN  \n",
       "21                 NaN  \n",
       "22                 NaN  \n",
       "23                 NaN  \n",
       "24                 NaN  \n",
       "25                 NaN  \n",
       "26                 NaN  "
      ],
      "text/html": "<div>\n<style scoped>\n    .dataframe tbody tr th:only-of-type {\n        vertical-align: middle;\n    }\n\n    .dataframe tbody tr th {\n        vertical-align: top;\n    }\n\n    .dataframe thead th {\n        text-align: right;\n    }\n</style>\n<table border=\"1\" class=\"dataframe\">\n  <thead>\n    <tr style=\"text-align: right;\">\n      <th></th>\n      <th>IntervalMa</th>\n      <th>MarineExtinction</th>\n      <th>AnoxicEvent</th>\n      <th>ContinentalBasalt</th>\n      <th>SequenceBoundary</th>\n      <th>NonMarineExtinction</th>\n      <th>ChangesSpreadingRate</th>\n      <th>IntraPlateVolcanism</th>\n    </tr>\n  </thead>\n  <tbody>\n    <tr>\n      <th>0</th>\n      <td>0–9</td>\n      <td>2.6</td>\n      <td>NaN</td>\n      <td>NaN</td>\n      <td>5.33</td>\n      <td>7.25</td>\n      <td>NaN</td>\n      <td>3</td>\n    </tr>\n    <tr>\n      <th>1</th>\n      <td>10–19</td>\n      <td>11.6</td>\n      <td>NaN</td>\n      <td>16.6 ± 0.03</td>\n      <td>11.63</td>\n      <td>NaN</td>\n      <td>NaN</td>\n      <td>10, 15</td>\n    </tr>\n    <tr>\n      <th>2</th>\n      <td>20–29</td>\n      <td>NaN</td>\n      <td>NaN</td>\n      <td>NaN</td>\n      <td>23.03</td>\n      <td>NaN</td>\n      <td>NaN</td>\n      <td>23</td>\n    </tr>\n    <tr>\n      <th>3</th>\n      <td>30–39</td>\n      <td>36.5</td>\n      <td>NaN</td>\n      <td>30.4 ± 0.4</td>\n      <td>33.9</td>\n      <td>33.9</td>\n      <td>NaN</td>\n      <td>30</td>\n    </tr>\n    <tr>\n      <th>4</th>\n      <td>40–49</td>\n      <td>NaN</td>\n      <td>NaN</td>\n      <td>41.2</td>\n      <td>NaN</td>\n      <td>NaN</td>\n      <td>40</td>\n      <td>NaN</td>\n    </tr>\n    <tr>\n      <th>5</th>\n      <td>50–59</td>\n      <td>NaN</td>\n      <td>56.0</td>\n      <td>56.6 ± 0.3</td>\n      <td>52.0</td>\n      <td>NaN</td>\n      <td>50, 58</td>\n      <td>NaN</td>\n    </tr>\n    <tr>\n      <th>6</th>\n      <td>60–69</td>\n      <td>66.04</td>\n      <td>66</td>\n      <td>61.9; 66.3</td>\n      <td>61.6; 68</td>\n      <td>66</td>\n      <td>NaN</td>\n      <td>60, 65</td>\n    </tr>\n    <tr>\n      <th>7</th>\n      <td>70–79</td>\n      <td>NaN</td>\n      <td>NaN</td>\n      <td>NaN</td>\n      <td>NaN</td>\n      <td>NaN</td>\n      <td>75</td>\n      <td>NaN</td>\n    </tr>\n    <tr>\n      <th>8</th>\n      <td>80–89</td>\n      <td>NaN</td>\n      <td>NaN</td>\n      <td>NaN</td>\n      <td>84.2</td>\n      <td>NaN</td>\n      <td>80</td>\n      <td>NaN</td>\n    </tr>\n    <tr>\n      <th>9</th>\n      <td>90–99</td>\n      <td>93.9</td>\n      <td>93.9</td>\n      <td>92.9 ± 3.8</td>\n      <td>93.9</td>\n      <td>NaN</td>\n      <td>NaN</td>\n      <td>NaN</td>\n    </tr>\n    <tr>\n      <th>10</th>\n      <td>100–109</td>\n      <td>NaN</td>\n      <td>NaN</td>\n      <td>NaN</td>\n      <td>100; 109</td>\n      <td>NaN</td>\n      <td>NaN</td>\n      <td>NaN</td>\n    </tr>\n    <tr>\n      <th>11</th>\n      <td>110–119</td>\n      <td>NaN</td>\n      <td>NaN</td>\n      <td>118 ± 1</td>\n      <td>NaN</td>\n      <td>NaN</td>\n      <td>NaN</td>\n      <td>NaN</td>\n    </tr>\n    <tr>\n      <th>12</th>\n      <td>120–129</td>\n      <td>124</td>\n      <td>124</td>\n      <td>123.5 ± 1.5</td>\n      <td>124; 129.4</td>\n      <td>NaN</td>\n      <td>120</td>\n      <td>NaN</td>\n    </tr>\n    <tr>\n      <th>13</th>\n      <td>130–139</td>\n      <td>NaN</td>\n      <td>132.6</td>\n      <td>134.7 ± 1</td>\n      <td>132.6; 139.8</td>\n      <td>NaN</td>\n      <td>NaN</td>\n      <td>NaN</td>\n    </tr>\n    <tr>\n      <th>14</th>\n      <td>140–149</td>\n      <td>143.1</td>\n      <td>NaN</td>\n      <td>NaN</td>\n      <td>149.2 ± 0.9</td>\n      <td>143.1</td>\n      <td>140</td>\n      <td>NaN</td>\n    </tr>\n    <tr>\n      <th>15</th>\n      <td>150–159</td>\n      <td>NaN</td>\n      <td>152</td>\n      <td>NaN</td>\n      <td>NaN</td>\n      <td>NaN</td>\n      <td>155</td>\n      <td>NaN</td>\n    </tr>\n    <tr>\n      <th>16</th>\n      <td>160–169</td>\n      <td>NaN</td>\n      <td>NaN</td>\n      <td>NaN</td>\n      <td>161.5 ± 1.0</td>\n      <td>NaN</td>\n      <td>NaN</td>\n      <td>NaN</td>\n    </tr>\n    <tr>\n      <th>17</th>\n      <td>170–179</td>\n      <td>NaN</td>\n      <td>NaN</td>\n      <td>NaN</td>\n      <td>170.3 ± 1.4</td>\n      <td>NaN</td>\n      <td>170</td>\n      <td>NaN</td>\n    </tr>\n    <tr>\n      <th>18</th>\n      <td>180–189</td>\n      <td>184.2 ± 0.7</td>\n      <td>184.2 ± 0.7</td>\n      <td>182.7 ± 0.03</td>\n      <td>184.2 ± 0.7</td>\n      <td>NaN</td>\n      <td>NaN</td>\n      <td>NaN</td>\n    </tr>\n    <tr>\n      <th>19</th>\n      <td>190–199</td>\n      <td>NaN</td>\n      <td>NaN</td>\n      <td>NaN</td>\n      <td>190.8 ± 1.0; 199</td>\n      <td>NaN</td>\n      <td>NaN</td>\n      <td>NaN</td>\n    </tr>\n    <tr>\n      <th>20</th>\n      <td>200–209</td>\n      <td>201.4 ± 0.2</td>\n      <td>201.4 ± 0.2</td>\n      <td>201.5 ± 0.05</td>\n      <td>205.7</td>\n      <td>201.4 ± 0.2</td>\n      <td>NaN</td>\n      <td>NaN</td>\n    </tr>\n    <tr>\n      <th>21</th>\n      <td>210–219</td>\n      <td>215</td>\n      <td>NaN</td>\n      <td>NaN</td>\n      <td>218</td>\n      <td>215</td>\n      <td>NaN</td>\n      <td>NaN</td>\n    </tr>\n    <tr>\n      <th>22</th>\n      <td>220–229</td>\n      <td>NaN</td>\n      <td>NaN</td>\n      <td>228</td>\n      <td>227.3</td>\n      <td>NaN</td>\n      <td>NaN</td>\n      <td>NaN</td>\n    </tr>\n    <tr>\n      <th>23</th>\n      <td>230–239</td>\n      <td>NaN</td>\n      <td>NaN</td>\n      <td>NaN</td>\n      <td>237</td>\n      <td>NaN</td>\n      <td>NaN</td>\n      <td>NaN</td>\n    </tr>\n    <tr>\n      <th>24</th>\n      <td>240–249</td>\n      <td>NaN</td>\n      <td>NaN</td>\n      <td>NaN</td>\n      <td>247</td>\n      <td>NaN</td>\n      <td>NaN</td>\n      <td>NaN</td>\n    </tr>\n    <tr>\n      <th>25</th>\n      <td>250–259</td>\n      <td>251.9 ± 0.02</td>\n      <td>251.9 ± 0.02</td>\n      <td>251.9 ± 0.07</td>\n      <td>252</td>\n      <td>251.9 ± 0.02</td>\n      <td>NaN</td>\n      <td>NaN</td>\n    </tr>\n    <tr>\n      <th>26</th>\n      <td>260–269</td>\n      <td>259.8 ± 0.5</td>\n      <td>259.8 ± 0.5</td>\n      <td>259.6 ± 0.5</td>\n      <td>260</td>\n      <td>259.8 ± 0.5</td>\n      <td>NaN</td>\n      <td>NaN</td>\n    </tr>\n  </tbody>\n</table>\n</div>"
     },
     "metadata": {},
     "execution_count": 4
    }
   ],
   "source": [
    "# replace non numeric values with Nan\n",
    "df.replace(\"—\", np.nan, inplace=True)\n",
    "df.replace(\"____\", np.nan, inplace=True)\n",
    "df\n",
    "\n"
   ]
  },
  {
   "cell_type": "code",
   "execution_count": 5,
   "metadata": {},
   "outputs": [],
   "source": [
    "marine_extinction = df[\"MarineExtinction\"]\n",
    "anoxic_event = df[\"AnoxicEvent\"]\n",
    "continental_basalt = df[\"ContinentalBasalt\"]\n",
    "sequence_boundary = df[\"SequenceBoundary\"]\n",
    "nonmarine_extinction = df[\"NonMarineExtinction\"]\n",
    "changes_spreading_rate = df[\"ChangesSpreadingRate\"]\n",
    "intraplate_volcanism = df[\"IntraPlateVolcanism\"]\n",
    "\n",
    "data_columns = [marine_extinction, anoxic_event, continental_basalt, sequence_boundary, nonmarine_extinction, changes_spreading_rate, intraplate_volcanism]"
   ]
  },
  {
   "cell_type": "code",
   "execution_count": 6,
   "metadata": {},
   "outputs": [],
   "source": [
    "def cleanColumns(column: pd.Series) -> list:\n",
    "    \n",
    "    ls = list(column)\n",
    "    ls_temp = [] \n",
    "    for i in ls:\n",
    "        ls_temp += str(i).split(\";\")\n",
    "\n",
    "    ls_temp = [i.split(\"±\") for i in ls_temp]\n",
    "    \n",
    "\n",
    "\n",
    "    def extract(lst):\n",
    "        return [item[0] for item in lst if type(item)==list]\n",
    "\n",
    "    def convertFloat(lst):\n",
    "        return [float(item) for item in lst]\n",
    "\n",
    "    result = extract(ls_temp)\n",
    "    return list(result)"
   ]
  },
  {
   "cell_type": "code",
   "execution_count": 7,
   "metadata": {},
   "outputs": [],
   "source": [
    "temp_dates = []\n",
    "for i in data_columns:\n",
    "    i = cleanColumns(i)\n",
    "    temp_dates.append(i)\n"
   ]
  },
  {
   "cell_type": "code",
   "execution_count": 8,
   "metadata": {},
   "outputs": [],
   "source": [
    "raw_dates = []\n",
    "for i in temp_dates:\n",
    "    i = [x.split(\",\") for x in i]\n",
    "    raw_dates.append(i)"
   ]
  },
  {
   "cell_type": "code",
   "execution_count": 11,
   "metadata": {},
   "outputs": [],
   "source": [
    "def flatten_list(_2d_list):\n",
    "    flat_list = []\n",
    "    # Iterate through the outer list\n",
    "    for element in _2d_list:\n",
    "        if type(element) is list:\n",
    "            # If the element is of type list, iterate through the sublist\n",
    "            for item in element:\n",
    "                flat_list.append(item)\n",
    "        else:\n",
    "            flat_list.append(element)\n",
    "    return flat_list\n",
    "\n",
    "def convertFloat(lst):\n",
    "    return [float(item) for item in lst]\n",
    "\n",
    "\n",
    "# flatten_twice\n",
    "list_dates = flatten_list(flatten_list(raw_dates))\n",
    "# convert all elements to float\n",
    "float_dates = convertFloat(list_dates)\n",
    "# clean of Nans\n",
    "cleaned_dates = [x for x in float_dates if str(x) != 'nan']"
   ]
  },
  {
   "cell_type": "code",
   "execution_count": 12,
   "metadata": {},
   "outputs": [
    {
     "output_type": "execute_result",
     "data": {
      "text/plain": [
       "89"
      ]
     },
     "metadata": {},
     "execution_count": 12
    }
   ],
   "source": [
    "len(cleaned_dates) # total of events is correct!"
   ]
  },
  {
   "cell_type": "code",
   "execution_count": 74,
   "metadata": {},
   "outputs": [
    {
     "output_type": "execute_result",
     "data": {
      "text/plain": [
       "260.0"
      ]
     },
     "metadata": {},
     "execution_count": 74
    }
   ],
   "source": [
    "max(cleaned_dates)"
   ]
  },
  {
   "cell_type": "code",
   "execution_count": 21,
   "metadata": {},
   "outputs": [
    {
     "output_type": "execute_result",
     "data": {
      "text/plain": [
       "<AxesSubplot:ylabel='Count'>"
      ]
     },
     "metadata": {},
     "execution_count": 21
    },
    {
     "output_type": "display_data",
     "data": {
      "text/plain": "<Figure size 432x288 with 1 Axes>",
      "image/svg+xml": "<?xml version=\"1.0\" encoding=\"utf-8\" standalone=\"no\"?>\r\n<!DOCTYPE svg PUBLIC \"-//W3C//DTD SVG 1.1//EN\"\r\n  \"http://www.w3.org/Graphics/SVG/1.1/DTD/svg11.dtd\">\r\n<svg height=\"248.518125pt\" version=\"1.1\" viewBox=\"0 0 376.240625 248.518125\" width=\"376.240625pt\" xmlns=\"http://www.w3.org/2000/svg\" xmlns:xlink=\"http://www.w3.org/1999/xlink\">\r\n <metadata>\r\n  <rdf:RDF xmlns:cc=\"http://creativecommons.org/ns#\" xmlns:dc=\"http://purl.org/dc/elements/1.1/\" xmlns:rdf=\"http://www.w3.org/1999/02/22-rdf-syntax-ns#\">\r\n   <cc:Work>\r\n    <dc:type rdf:resource=\"http://purl.org/dc/dcmitype/StillImage\"/>\r\n    <dc:date>2021-06-19T16:04:14.964816</dc:date>\r\n    <dc:format>image/svg+xml</dc:format>\r\n    <dc:creator>\r\n     <cc:Agent>\r\n      <dc:title>Matplotlib v3.4.1, https://matplotlib.org/</dc:title>\r\n     </cc:Agent>\r\n    </dc:creator>\r\n   </cc:Work>\r\n  </rdf:RDF>\r\n </metadata>\r\n <defs>\r\n  <style type=\"text/css\">*{stroke-linecap:butt;stroke-linejoin:round;}</style>\r\n </defs>\r\n <g id=\"figure_1\">\r\n  <g id=\"patch_1\">\r\n   <path d=\"M 0 248.518125 \r\nL 376.240625 248.518125 \r\nL 376.240625 0 \r\nL 0 0 \r\nz\r\n\" style=\"fill:none;\"/>\r\n  </g>\r\n  <g id=\"axes_1\">\r\n   <g id=\"patch_2\">\r\n    <path d=\"M 34.240625 224.64 \r\nL 369.040625 224.64 \r\nL 369.040625 7.2 \r\nL 34.240625 7.2 \r\nz\r\n\" style=\"fill:#ffffff;\"/>\r\n   </g>\r\n   <g id=\"patch_3\">\r\n    <path clip-path=\"url(#p759cbe2e95)\" d=\"M 49.458807 224.64 \r\nL 52.878623 224.64 \r\nL 52.878623 100.388571 \r\nL 49.458807 100.388571 \r\nz\r\n\" style=\"fill:#1f77b4;fill-opacity:0.75;stroke:#000000;stroke-linejoin:miter;stroke-width:0.341982;\"/>\r\n   </g>\r\n   <g id=\"patch_4\">\r\n    <path clip-path=\"url(#p759cbe2e95)\" d=\"M 52.878623 224.64 \r\nL 56.298439 224.64 \r\nL 56.298439 183.222857 \r\nL 52.878623 183.222857 \r\nz\r\n\" style=\"fill:#1f77b4;fill-opacity:0.75;stroke:#000000;stroke-linejoin:miter;stroke-width:0.341982;\"/>\r\n   </g>\r\n   <g id=\"patch_5\">\r\n    <path clip-path=\"url(#p759cbe2e95)\" d=\"M 56.298439 224.64 \r\nL 59.718255 224.64 \r\nL 59.718255 183.222857 \r\nL 56.298439 183.222857 \r\nz\r\n\" style=\"fill:#1f77b4;fill-opacity:0.75;stroke:#000000;stroke-linejoin:miter;stroke-width:0.341982;\"/>\r\n   </g>\r\n   <g id=\"patch_6\">\r\n    <path clip-path=\"url(#p759cbe2e95)\" d=\"M 59.718255 224.64 \r\nL 63.138071 224.64 \r\nL 63.138071 141.805714 \r\nL 59.718255 141.805714 \r\nz\r\n\" style=\"fill:#1f77b4;fill-opacity:0.75;stroke:#000000;stroke-linejoin:miter;stroke-width:0.341982;\"/>\r\n   </g>\r\n   <g id=\"patch_7\">\r\n    <path clip-path=\"url(#p759cbe2e95)\" d=\"M 63.138071 224.64 \r\nL 66.557888 224.64 \r\nL 66.557888 141.805714 \r\nL 63.138071 141.805714 \r\nz\r\n\" style=\"fill:#1f77b4;fill-opacity:0.75;stroke:#000000;stroke-linejoin:miter;stroke-width:0.341982;\"/>\r\n   </g>\r\n   <g id=\"patch_8\">\r\n    <path clip-path=\"url(#p759cbe2e95)\" d=\"M 66.557888 224.64 \r\nL 69.977704 224.64 \r\nL 69.977704 224.64 \r\nL 66.557888 224.64 \r\nz\r\n\" style=\"fill:#1f77b4;fill-opacity:0.75;stroke:#000000;stroke-linejoin:miter;stroke-width:0.341982;\"/>\r\n   </g>\r\n   <g id=\"patch_9\">\r\n    <path clip-path=\"url(#p759cbe2e95)\" d=\"M 69.977704 224.64 \r\nL 73.39752 224.64 \r\nL 73.39752 224.64 \r\nL 69.977704 224.64 \r\nz\r\n\" style=\"fill:#1f77b4;fill-opacity:0.75;stroke:#000000;stroke-linejoin:miter;stroke-width:0.341982;\"/>\r\n   </g>\r\n   <g id=\"patch_10\">\r\n    <path clip-path=\"url(#p759cbe2e95)\" d=\"M 73.39752 224.64 \r\nL 76.817336 224.64 \r\nL 76.817336 141.805714 \r\nL 73.39752 141.805714 \r\nz\r\n\" style=\"fill:#1f77b4;fill-opacity:0.75;stroke:#000000;stroke-linejoin:miter;stroke-width:0.341982;\"/>\r\n   </g>\r\n   <g id=\"patch_11\">\r\n    <path clip-path=\"url(#p759cbe2e95)\" d=\"M 76.817336 224.64 \r\nL 80.237152 224.64 \r\nL 80.237152 224.64 \r\nL 76.817336 224.64 \r\nz\r\n\" style=\"fill:#1f77b4;fill-opacity:0.75;stroke:#000000;stroke-linejoin:miter;stroke-width:0.341982;\"/>\r\n   </g>\r\n   <g id=\"patch_12\">\r\n    <path clip-path=\"url(#p759cbe2e95)\" d=\"M 80.237152 224.64 \r\nL 83.656968 224.64 \r\nL 83.656968 141.805714 \r\nL 80.237152 141.805714 \r\nz\r\n\" style=\"fill:#1f77b4;fill-opacity:0.75;stroke:#000000;stroke-linejoin:miter;stroke-width:0.341982;\"/>\r\n   </g>\r\n   <g id=\"patch_13\">\r\n    <path clip-path=\"url(#p759cbe2e95)\" d=\"M 83.656968 224.64 \r\nL 87.076784 224.64 \r\nL 87.076784 141.805714 \r\nL 83.656968 141.805714 \r\nz\r\n\" style=\"fill:#1f77b4;fill-opacity:0.75;stroke:#000000;stroke-linejoin:miter;stroke-width:0.341982;\"/>\r\n   </g>\r\n   <g id=\"patch_14\">\r\n    <path clip-path=\"url(#p759cbe2e95)\" d=\"M 87.076784 224.64 \r\nL 90.4966 224.64 \r\nL 90.4966 183.222857 \r\nL 87.076784 183.222857 \r\nz\r\n\" style=\"fill:#1f77b4;fill-opacity:0.75;stroke:#000000;stroke-linejoin:miter;stroke-width:0.341982;\"/>\r\n   </g>\r\n   <g id=\"patch_15\">\r\n    <path clip-path=\"url(#p759cbe2e95)\" d=\"M 90.4966 224.64 \r\nL 93.916417 224.64 \r\nL 93.916417 183.222857 \r\nL 90.4966 183.222857 \r\nz\r\n\" style=\"fill:#1f77b4;fill-opacity:0.75;stroke:#000000;stroke-linejoin:miter;stroke-width:0.341982;\"/>\r\n   </g>\r\n   <g id=\"patch_16\">\r\n    <path clip-path=\"url(#p759cbe2e95)\" d=\"M 93.916417 224.64 \r\nL 97.336233 224.64 \r\nL 97.336233 183.222857 \r\nL 93.916417 183.222857 \r\nz\r\n\" style=\"fill:#1f77b4;fill-opacity:0.75;stroke:#000000;stroke-linejoin:miter;stroke-width:0.341982;\"/>\r\n   </g>\r\n   <g id=\"patch_17\">\r\n    <path clip-path=\"url(#p759cbe2e95)\" d=\"M 97.336233 224.64 \r\nL 100.756049 224.64 \r\nL 100.756049 224.64 \r\nL 97.336233 224.64 \r\nz\r\n\" style=\"fill:#1f77b4;fill-opacity:0.75;stroke:#000000;stroke-linejoin:miter;stroke-width:0.341982;\"/>\r\n   </g>\r\n   <g id=\"patch_18\">\r\n    <path clip-path=\"url(#p759cbe2e95)\" d=\"M 100.756049 224.64 \r\nL 104.175865 224.64 \r\nL 104.175865 224.64 \r\nL 100.756049 224.64 \r\nz\r\n\" style=\"fill:#1f77b4;fill-opacity:0.75;stroke:#000000;stroke-linejoin:miter;stroke-width:0.341982;\"/>\r\n   </g>\r\n   <g id=\"patch_19\">\r\n    <path clip-path=\"url(#p759cbe2e95)\" d=\"M 104.175865 224.64 \r\nL 107.595681 224.64 \r\nL 107.595681 183.222857 \r\nL 104.175865 183.222857 \r\nz\r\n\" style=\"fill:#1f77b4;fill-opacity:0.75;stroke:#000000;stroke-linejoin:miter;stroke-width:0.341982;\"/>\r\n   </g>\r\n   <g id=\"patch_20\">\r\n    <path clip-path=\"url(#p759cbe2e95)\" d=\"M 107.595681 224.64 \r\nL 111.015497 224.64 \r\nL 111.015497 183.222857 \r\nL 107.595681 183.222857 \r\nz\r\n\" style=\"fill:#1f77b4;fill-opacity:0.75;stroke:#000000;stroke-linejoin:miter;stroke-width:0.341982;\"/>\r\n   </g>\r\n   <g id=\"patch_21\">\r\n    <path clip-path=\"url(#p759cbe2e95)\" d=\"M 111.015497 224.64 \r\nL 114.435313 224.64 \r\nL 114.435313 141.805714 \r\nL 111.015497 141.805714 \r\nz\r\n\" style=\"fill:#1f77b4;fill-opacity:0.75;stroke:#000000;stroke-linejoin:miter;stroke-width:0.341982;\"/>\r\n   </g>\r\n   <g id=\"patch_22\">\r\n    <path clip-path=\"url(#p759cbe2e95)\" d=\"M 114.435313 224.64 \r\nL 117.85513 224.64 \r\nL 117.85513 141.805714 \r\nL 114.435313 141.805714 \r\nz\r\n\" style=\"fill:#1f77b4;fill-opacity:0.75;stroke:#000000;stroke-linejoin:miter;stroke-width:0.341982;\"/>\r\n   </g>\r\n   <g id=\"patch_23\">\r\n    <path clip-path=\"url(#p759cbe2e95)\" d=\"M 117.85513 224.64 \r\nL 121.274946 224.64 \r\nL 121.274946 141.805714 \r\nL 117.85513 141.805714 \r\nz\r\n\" style=\"fill:#1f77b4;fill-opacity:0.75;stroke:#000000;stroke-linejoin:miter;stroke-width:0.341982;\"/>\r\n   </g>\r\n   <g id=\"patch_24\">\r\n    <path clip-path=\"url(#p759cbe2e95)\" d=\"M 121.274946 224.64 \r\nL 124.694762 224.64 \r\nL 124.694762 58.971429 \r\nL 121.274946 58.971429 \r\nz\r\n\" style=\"fill:#1f77b4;fill-opacity:0.75;stroke:#000000;stroke-linejoin:miter;stroke-width:0.341982;\"/>\r\n   </g>\r\n   <g id=\"patch_25\">\r\n    <path clip-path=\"url(#p759cbe2e95)\" d=\"M 124.694762 224.64 \r\nL 128.114578 224.64 \r\nL 128.114578 141.805714 \r\nL 124.694762 141.805714 \r\nz\r\n\" style=\"fill:#1f77b4;fill-opacity:0.75;stroke:#000000;stroke-linejoin:miter;stroke-width:0.341982;\"/>\r\n   </g>\r\n   <g id=\"patch_26\">\r\n    <path clip-path=\"url(#p759cbe2e95)\" d=\"M 128.114578 224.64 \r\nL 131.534394 224.64 \r\nL 131.534394 224.64 \r\nL 128.114578 224.64 \r\nz\r\n\" style=\"fill:#1f77b4;fill-opacity:0.75;stroke:#000000;stroke-linejoin:miter;stroke-width:0.341982;\"/>\r\n   </g>\r\n   <g id=\"patch_27\">\r\n    <path clip-path=\"url(#p759cbe2e95)\" d=\"M 131.534394 224.64 \r\nL 134.95421 224.64 \r\nL 134.95421 224.64 \r\nL 131.534394 224.64 \r\nz\r\n\" style=\"fill:#1f77b4;fill-opacity:0.75;stroke:#000000;stroke-linejoin:miter;stroke-width:0.341982;\"/>\r\n   </g>\r\n   <g id=\"patch_28\">\r\n    <path clip-path=\"url(#p759cbe2e95)\" d=\"M 134.95421 224.64 \r\nL 138.374026 224.64 \r\nL 138.374026 183.222857 \r\nL 134.95421 183.222857 \r\nz\r\n\" style=\"fill:#1f77b4;fill-opacity:0.75;stroke:#000000;stroke-linejoin:miter;stroke-width:0.341982;\"/>\r\n   </g>\r\n   <g id=\"patch_29\">\r\n    <path clip-path=\"url(#p759cbe2e95)\" d=\"M 138.374026 224.64 \r\nL 141.793843 224.64 \r\nL 141.793843 183.222857 \r\nL 138.374026 183.222857 \r\nz\r\n\" style=\"fill:#1f77b4;fill-opacity:0.75;stroke:#000000;stroke-linejoin:miter;stroke-width:0.341982;\"/>\r\n   </g>\r\n   <g id=\"patch_30\">\r\n    <path clip-path=\"url(#p759cbe2e95)\" d=\"M 141.793843 224.64 \r\nL 145.213659 224.64 \r\nL 145.213659 224.64 \r\nL 141.793843 224.64 \r\nz\r\n\" style=\"fill:#1f77b4;fill-opacity:0.75;stroke:#000000;stroke-linejoin:miter;stroke-width:0.341982;\"/>\r\n   </g>\r\n   <g id=\"patch_31\">\r\n    <path clip-path=\"url(#p759cbe2e95)\" d=\"M 145.213659 224.64 \r\nL 148.633475 224.64 \r\nL 148.633475 183.222857 \r\nL 145.213659 183.222857 \r\nz\r\n\" style=\"fill:#1f77b4;fill-opacity:0.75;stroke:#000000;stroke-linejoin:miter;stroke-width:0.341982;\"/>\r\n   </g>\r\n   <g id=\"patch_32\">\r\n    <path clip-path=\"url(#p759cbe2e95)\" d=\"M 148.633475 224.64 \r\nL 152.053291 224.64 \r\nL 152.053291 224.64 \r\nL 148.633475 224.64 \r\nz\r\n\" style=\"fill:#1f77b4;fill-opacity:0.75;stroke:#000000;stroke-linejoin:miter;stroke-width:0.341982;\"/>\r\n   </g>\r\n   <g id=\"patch_33\">\r\n    <path clip-path=\"url(#p759cbe2e95)\" d=\"M 152.053291 224.64 \r\nL 155.473107 224.64 \r\nL 155.473107 224.64 \r\nL 152.053291 224.64 \r\nz\r\n\" style=\"fill:#1f77b4;fill-opacity:0.75;stroke:#000000;stroke-linejoin:miter;stroke-width:0.341982;\"/>\r\n   </g>\r\n   <g id=\"patch_34\">\r\n    <path clip-path=\"url(#p759cbe2e95)\" d=\"M 155.473107 224.64 \r\nL 158.892923 224.64 \r\nL 158.892923 58.971429 \r\nL 155.473107 58.971429 \r\nz\r\n\" style=\"fill:#1f77b4;fill-opacity:0.75;stroke:#000000;stroke-linejoin:miter;stroke-width:0.341982;\"/>\r\n   </g>\r\n   <g id=\"patch_35\">\r\n    <path clip-path=\"url(#p759cbe2e95)\" d=\"M 158.892923 224.64 \r\nL 162.312739 224.64 \r\nL 162.312739 224.64 \r\nL 158.892923 224.64 \r\nz\r\n\" style=\"fill:#1f77b4;fill-opacity:0.75;stroke:#000000;stroke-linejoin:miter;stroke-width:0.341982;\"/>\r\n   </g>\r\n   <g id=\"patch_36\">\r\n    <path clip-path=\"url(#p759cbe2e95)\" d=\"M 162.312739 224.64 \r\nL 165.732556 224.64 \r\nL 165.732556 183.222857 \r\nL 162.312739 183.222857 \r\nz\r\n\" style=\"fill:#1f77b4;fill-opacity:0.75;stroke:#000000;stroke-linejoin:miter;stroke-width:0.341982;\"/>\r\n   </g>\r\n   <g id=\"patch_37\">\r\n    <path clip-path=\"url(#p759cbe2e95)\" d=\"M 165.732556 224.64 \r\nL 169.152372 224.64 \r\nL 169.152372 224.64 \r\nL 165.732556 224.64 \r\nz\r\n\" style=\"fill:#1f77b4;fill-opacity:0.75;stroke:#000000;stroke-linejoin:miter;stroke-width:0.341982;\"/>\r\n   </g>\r\n   <g id=\"patch_38\">\r\n    <path clip-path=\"url(#p759cbe2e95)\" d=\"M 169.152372 224.64 \r\nL 172.572188 224.64 \r\nL 172.572188 224.64 \r\nL 169.152372 224.64 \r\nz\r\n\" style=\"fill:#1f77b4;fill-opacity:0.75;stroke:#000000;stroke-linejoin:miter;stroke-width:0.341982;\"/>\r\n   </g>\r\n   <g id=\"patch_39\">\r\n    <path clip-path=\"url(#p759cbe2e95)\" d=\"M 172.572188 224.64 \r\nL 175.992004 224.64 \r\nL 175.992004 183.222857 \r\nL 172.572188 183.222857 \r\nz\r\n\" style=\"fill:#1f77b4;fill-opacity:0.75;stroke:#000000;stroke-linejoin:miter;stroke-width:0.341982;\"/>\r\n   </g>\r\n   <g id=\"patch_40\">\r\n    <path clip-path=\"url(#p759cbe2e95)\" d=\"M 175.992004 224.64 \r\nL 179.41182 224.64 \r\nL 179.41182 224.64 \r\nL 175.992004 224.64 \r\nz\r\n\" style=\"fill:#1f77b4;fill-opacity:0.75;stroke:#000000;stroke-linejoin:miter;stroke-width:0.341982;\"/>\r\n   </g>\r\n   <g id=\"patch_41\">\r\n    <path clip-path=\"url(#p759cbe2e95)\" d=\"M 179.41182 224.64 \r\nL 182.831636 224.64 \r\nL 182.831636 224.64 \r\nL 179.41182 224.64 \r\nz\r\n\" style=\"fill:#1f77b4;fill-opacity:0.75;stroke:#000000;stroke-linejoin:miter;stroke-width:0.341982;\"/>\r\n   </g>\r\n   <g id=\"patch_42\">\r\n    <path clip-path=\"url(#p759cbe2e95)\" d=\"M 182.831636 224.64 \r\nL 186.251452 224.64 \r\nL 186.251452 183.222857 \r\nL 182.831636 183.222857 \r\nz\r\n\" style=\"fill:#1f77b4;fill-opacity:0.75;stroke:#000000;stroke-linejoin:miter;stroke-width:0.341982;\"/>\r\n   </g>\r\n   <g id=\"patch_43\">\r\n    <path clip-path=\"url(#p759cbe2e95)\" d=\"M 186.251452 224.64 \r\nL 189.671269 224.64 \r\nL 189.671269 183.222857 \r\nL 186.251452 183.222857 \r\nz\r\n\" style=\"fill:#1f77b4;fill-opacity:0.75;stroke:#000000;stroke-linejoin:miter;stroke-width:0.341982;\"/>\r\n   </g>\r\n   <g id=\"patch_44\">\r\n    <path clip-path=\"url(#p759cbe2e95)\" d=\"M 189.671269 224.64 \r\nL 193.091085 224.64 \r\nL 193.091085 58.971429 \r\nL 189.671269 58.971429 \r\nz\r\n\" style=\"fill:#1f77b4;fill-opacity:0.75;stroke:#000000;stroke-linejoin:miter;stroke-width:0.341982;\"/>\r\n   </g>\r\n   <g id=\"patch_45\">\r\n    <path clip-path=\"url(#p759cbe2e95)\" d=\"M 193.091085 224.64 \r\nL 196.510901 224.64 \r\nL 196.510901 224.64 \r\nL 193.091085 224.64 \r\nz\r\n\" style=\"fill:#1f77b4;fill-opacity:0.75;stroke:#000000;stroke-linejoin:miter;stroke-width:0.341982;\"/>\r\n   </g>\r\n   <g id=\"patch_46\">\r\n    <path clip-path=\"url(#p759cbe2e95)\" d=\"M 196.510901 224.64 \r\nL 199.930717 224.64 \r\nL 199.930717 183.222857 \r\nL 196.510901 183.222857 \r\nz\r\n\" style=\"fill:#1f77b4;fill-opacity:0.75;stroke:#000000;stroke-linejoin:miter;stroke-width:0.341982;\"/>\r\n   </g>\r\n   <g id=\"patch_47\">\r\n    <path clip-path=\"url(#p759cbe2e95)\" d=\"M 199.930717 224.64 \r\nL 203.350533 224.64 \r\nL 203.350533 141.805714 \r\nL 199.930717 141.805714 \r\nz\r\n\" style=\"fill:#1f77b4;fill-opacity:0.75;stroke:#000000;stroke-linejoin:miter;stroke-width:0.341982;\"/>\r\n   </g>\r\n   <g id=\"patch_48\">\r\n    <path clip-path=\"url(#p759cbe2e95)\" d=\"M 203.350533 224.64 \r\nL 206.770349 224.64 \r\nL 206.770349 183.222857 \r\nL 203.350533 183.222857 \r\nz\r\n\" style=\"fill:#1f77b4;fill-opacity:0.75;stroke:#000000;stroke-linejoin:miter;stroke-width:0.341982;\"/>\r\n   </g>\r\n   <g id=\"patch_49\">\r\n    <path clip-path=\"url(#p759cbe2e95)\" d=\"M 206.770349 224.64 \r\nL 210.190165 224.64 \r\nL 210.190165 224.64 \r\nL 206.770349 224.64 \r\nz\r\n\" style=\"fill:#1f77b4;fill-opacity:0.75;stroke:#000000;stroke-linejoin:miter;stroke-width:0.341982;\"/>\r\n   </g>\r\n   <g id=\"patch_50\">\r\n    <path clip-path=\"url(#p759cbe2e95)\" d=\"M 210.190165 224.64 \r\nL 213.609981 224.64 \r\nL 213.609981 141.805714 \r\nL 210.190165 141.805714 \r\nz\r\n\" style=\"fill:#1f77b4;fill-opacity:0.75;stroke:#000000;stroke-linejoin:miter;stroke-width:0.341982;\"/>\r\n   </g>\r\n   <g id=\"patch_51\">\r\n    <path clip-path=\"url(#p759cbe2e95)\" d=\"M 213.609981 224.64 \r\nL 217.029798 224.64 \r\nL 217.029798 141.805714 \r\nL 213.609981 141.805714 \r\nz\r\n\" style=\"fill:#1f77b4;fill-opacity:0.75;stroke:#000000;stroke-linejoin:miter;stroke-width:0.341982;\"/>\r\n   </g>\r\n   <g id=\"patch_52\">\r\n    <path clip-path=\"url(#p759cbe2e95)\" d=\"M 217.029798 224.64 \r\nL 220.449614 224.64 \r\nL 220.449614 224.64 \r\nL 217.029798 224.64 \r\nz\r\n\" style=\"fill:#1f77b4;fill-opacity:0.75;stroke:#000000;stroke-linejoin:miter;stroke-width:0.341982;\"/>\r\n   </g>\r\n   <g id=\"patch_53\">\r\n    <path clip-path=\"url(#p759cbe2e95)\" d=\"M 220.449614 224.64 \r\nL 223.86943 224.64 \r\nL 223.86943 183.222857 \r\nL 220.449614 183.222857 \r\nz\r\n\" style=\"fill:#1f77b4;fill-opacity:0.75;stroke:#000000;stroke-linejoin:miter;stroke-width:0.341982;\"/>\r\n   </g>\r\n   <g id=\"patch_54\">\r\n    <path clip-path=\"url(#p759cbe2e95)\" d=\"M 223.86943 224.64 \r\nL 227.289246 224.64 \r\nL 227.289246 183.222857 \r\nL 223.86943 183.222857 \r\nz\r\n\" style=\"fill:#1f77b4;fill-opacity:0.75;stroke:#000000;stroke-linejoin:miter;stroke-width:0.341982;\"/>\r\n   </g>\r\n   <g id=\"patch_55\">\r\n    <path clip-path=\"url(#p759cbe2e95)\" d=\"M 227.289246 224.64 \r\nL 230.709062 224.64 \r\nL 230.709062 183.222857 \r\nL 227.289246 183.222857 \r\nz\r\n\" style=\"fill:#1f77b4;fill-opacity:0.75;stroke:#000000;stroke-linejoin:miter;stroke-width:0.341982;\"/>\r\n   </g>\r\n   <g id=\"patch_56\">\r\n    <path clip-path=\"url(#p759cbe2e95)\" d=\"M 230.709062 224.64 \r\nL 234.128878 224.64 \r\nL 234.128878 224.64 \r\nL 230.709062 224.64 \r\nz\r\n\" style=\"fill:#1f77b4;fill-opacity:0.75;stroke:#000000;stroke-linejoin:miter;stroke-width:0.341982;\"/>\r\n   </g>\r\n   <g id=\"patch_57\">\r\n    <path clip-path=\"url(#p759cbe2e95)\" d=\"M 234.128878 224.64 \r\nL 237.548694 224.64 \r\nL 237.548694 183.222857 \r\nL 234.128878 183.222857 \r\nz\r\n\" style=\"fill:#1f77b4;fill-opacity:0.75;stroke:#000000;stroke-linejoin:miter;stroke-width:0.341982;\"/>\r\n   </g>\r\n   <g id=\"patch_58\">\r\n    <path clip-path=\"url(#p759cbe2e95)\" d=\"M 237.548694 224.64 \r\nL 240.968511 224.64 \r\nL 240.968511 224.64 \r\nL 237.548694 224.64 \r\nz\r\n\" style=\"fill:#1f77b4;fill-opacity:0.75;stroke:#000000;stroke-linejoin:miter;stroke-width:0.341982;\"/>\r\n   </g>\r\n   <g id=\"patch_59\">\r\n    <path clip-path=\"url(#p759cbe2e95)\" d=\"M 240.968511 224.64 \r\nL 244.388327 224.64 \r\nL 244.388327 224.64 \r\nL 240.968511 224.64 \r\nz\r\n\" style=\"fill:#1f77b4;fill-opacity:0.75;stroke:#000000;stroke-linejoin:miter;stroke-width:0.341982;\"/>\r\n   </g>\r\n   <g id=\"patch_60\">\r\n    <path clip-path=\"url(#p759cbe2e95)\" d=\"M 244.388327 224.64 \r\nL 247.808143 224.64 \r\nL 247.808143 141.805714 \r\nL 244.388327 141.805714 \r\nz\r\n\" style=\"fill:#1f77b4;fill-opacity:0.75;stroke:#000000;stroke-linejoin:miter;stroke-width:0.341982;\"/>\r\n   </g>\r\n   <g id=\"patch_61\">\r\n    <path clip-path=\"url(#p759cbe2e95)\" d=\"M 247.808143 224.64 \r\nL 251.227959 224.64 \r\nL 251.227959 224.64 \r\nL 247.808143 224.64 \r\nz\r\n\" style=\"fill:#1f77b4;fill-opacity:0.75;stroke:#000000;stroke-linejoin:miter;stroke-width:0.341982;\"/>\r\n   </g>\r\n   <g id=\"patch_62\">\r\n    <path clip-path=\"url(#p759cbe2e95)\" d=\"M 251.227959 224.64 \r\nL 254.647775 224.64 \r\nL 254.647775 224.64 \r\nL 251.227959 224.64 \r\nz\r\n\" style=\"fill:#1f77b4;fill-opacity:0.75;stroke:#000000;stroke-linejoin:miter;stroke-width:0.341982;\"/>\r\n   </g>\r\n   <g id=\"patch_63\">\r\n    <path clip-path=\"url(#p759cbe2e95)\" d=\"M 254.647775 224.64 \r\nL 258.067591 224.64 \r\nL 258.067591 224.64 \r\nL 254.647775 224.64 \r\nz\r\n\" style=\"fill:#1f77b4;fill-opacity:0.75;stroke:#000000;stroke-linejoin:miter;stroke-width:0.341982;\"/>\r\n   </g>\r\n   <g id=\"patch_64\">\r\n    <path clip-path=\"url(#p759cbe2e95)\" d=\"M 258.067591 224.64 \r\nL 261.487407 224.64 \r\nL 261.487407 224.64 \r\nL 258.067591 224.64 \r\nz\r\n\" style=\"fill:#1f77b4;fill-opacity:0.75;stroke:#000000;stroke-linejoin:miter;stroke-width:0.341982;\"/>\r\n   </g>\r\n   <g id=\"patch_65\">\r\n    <path clip-path=\"url(#p759cbe2e95)\" d=\"M 261.487407 224.64 \r\nL 264.907224 224.64 \r\nL 264.907224 58.971429 \r\nL 261.487407 58.971429 \r\nz\r\n\" style=\"fill:#1f77b4;fill-opacity:0.75;stroke:#000000;stroke-linejoin:miter;stroke-width:0.341982;\"/>\r\n   </g>\r\n   <g id=\"patch_66\">\r\n    <path clip-path=\"url(#p759cbe2e95)\" d=\"M 264.907224 224.64 \r\nL 268.32704 224.64 \r\nL 268.32704 224.64 \r\nL 264.907224 224.64 \r\nz\r\n\" style=\"fill:#1f77b4;fill-opacity:0.75;stroke:#000000;stroke-linejoin:miter;stroke-width:0.341982;\"/>\r\n   </g>\r\n   <g id=\"patch_67\">\r\n    <path clip-path=\"url(#p759cbe2e95)\" d=\"M 268.32704 224.64 \r\nL 271.746856 224.64 \r\nL 271.746856 224.64 \r\nL 268.32704 224.64 \r\nz\r\n\" style=\"fill:#1f77b4;fill-opacity:0.75;stroke:#000000;stroke-linejoin:miter;stroke-width:0.341982;\"/>\r\n   </g>\r\n   <g id=\"patch_68\">\r\n    <path clip-path=\"url(#p759cbe2e95)\" d=\"M 271.746856 224.64 \r\nL 275.166672 224.64 \r\nL 275.166672 183.222857 \r\nL 271.746856 183.222857 \r\nz\r\n\" style=\"fill:#1f77b4;fill-opacity:0.75;stroke:#000000;stroke-linejoin:miter;stroke-width:0.341982;\"/>\r\n   </g>\r\n   <g id=\"patch_69\">\r\n    <path clip-path=\"url(#p759cbe2e95)\" d=\"M 275.166672 224.64 \r\nL 278.586488 224.64 \r\nL 278.586488 224.64 \r\nL 275.166672 224.64 \r\nz\r\n\" style=\"fill:#1f77b4;fill-opacity:0.75;stroke:#000000;stroke-linejoin:miter;stroke-width:0.341982;\"/>\r\n   </g>\r\n   <g id=\"patch_70\">\r\n    <path clip-path=\"url(#p759cbe2e95)\" d=\"M 278.586488 224.64 \r\nL 282.006304 224.64 \r\nL 282.006304 183.222857 \r\nL 278.586488 183.222857 \r\nz\r\n\" style=\"fill:#1f77b4;fill-opacity:0.75;stroke:#000000;stroke-linejoin:miter;stroke-width:0.341982;\"/>\r\n   </g>\r\n   <g id=\"patch_71\">\r\n    <path clip-path=\"url(#p759cbe2e95)\" d=\"M 282.006304 224.64 \r\nL 285.42612 224.64 \r\nL 285.42612 58.971429 \r\nL 282.006304 58.971429 \r\nz\r\n\" style=\"fill:#1f77b4;fill-opacity:0.75;stroke:#000000;stroke-linejoin:miter;stroke-width:0.341982;\"/>\r\n   </g>\r\n   <g id=\"patch_72\">\r\n    <path clip-path=\"url(#p759cbe2e95)\" d=\"M 285.42612 224.64 \r\nL 288.845937 224.64 \r\nL 288.845937 224.64 \r\nL 285.42612 224.64 \r\nz\r\n\" style=\"fill:#1f77b4;fill-opacity:0.75;stroke:#000000;stroke-linejoin:miter;stroke-width:0.341982;\"/>\r\n   </g>\r\n   <g id=\"patch_73\">\r\n    <path clip-path=\"url(#p759cbe2e95)\" d=\"M 288.845937 224.64 \r\nL 292.265753 224.64 \r\nL 292.265753 183.222857 \r\nL 288.845937 183.222857 \r\nz\r\n\" style=\"fill:#1f77b4;fill-opacity:0.75;stroke:#000000;stroke-linejoin:miter;stroke-width:0.341982;\"/>\r\n   </g>\r\n   <g id=\"patch_74\">\r\n    <path clip-path=\"url(#p759cbe2e95)\" d=\"M 292.265753 224.64 \r\nL 295.685569 224.64 \r\nL 295.685569 224.64 \r\nL 292.265753 224.64 \r\nz\r\n\" style=\"fill:#1f77b4;fill-opacity:0.75;stroke:#000000;stroke-linejoin:miter;stroke-width:0.341982;\"/>\r\n   </g>\r\n   <g id=\"patch_75\">\r\n    <path clip-path=\"url(#p759cbe2e95)\" d=\"M 295.685569 224.64 \r\nL 299.105385 224.64 \r\nL 299.105385 224.64 \r\nL 295.685569 224.64 \r\nz\r\n\" style=\"fill:#1f77b4;fill-opacity:0.75;stroke:#000000;stroke-linejoin:miter;stroke-width:0.341982;\"/>\r\n   </g>\r\n   <g id=\"patch_76\">\r\n    <path clip-path=\"url(#p759cbe2e95)\" d=\"M 299.105385 224.64 \r\nL 302.525201 224.64 \r\nL 302.525201 141.805714 \r\nL 299.105385 141.805714 \r\nz\r\n\" style=\"fill:#1f77b4;fill-opacity:0.75;stroke:#000000;stroke-linejoin:miter;stroke-width:0.341982;\"/>\r\n   </g>\r\n   <g id=\"patch_77\">\r\n    <path clip-path=\"url(#p759cbe2e95)\" d=\"M 302.525201 224.64 \r\nL 305.945017 224.64 \r\nL 305.945017 183.222857 \r\nL 302.525201 183.222857 \r\nz\r\n\" style=\"fill:#1f77b4;fill-opacity:0.75;stroke:#000000;stroke-linejoin:miter;stroke-width:0.341982;\"/>\r\n   </g>\r\n   <g id=\"patch_78\">\r\n    <path clip-path=\"url(#p759cbe2e95)\" d=\"M 305.945017 224.64 \r\nL 309.364833 224.64 \r\nL 309.364833 224.64 \r\nL 305.945017 224.64 \r\nz\r\n\" style=\"fill:#1f77b4;fill-opacity:0.75;stroke:#000000;stroke-linejoin:miter;stroke-width:0.341982;\"/>\r\n   </g>\r\n   <g id=\"patch_79\">\r\n    <path clip-path=\"url(#p759cbe2e95)\" d=\"M 309.364833 224.64 \r\nL 312.78465 224.64 \r\nL 312.78465 224.64 \r\nL 309.364833 224.64 \r\nz\r\n\" style=\"fill:#1f77b4;fill-opacity:0.75;stroke:#000000;stroke-linejoin:miter;stroke-width:0.341982;\"/>\r\n   </g>\r\n   <g id=\"patch_80\">\r\n    <path clip-path=\"url(#p759cbe2e95)\" d=\"M 312.78465 224.64 \r\nL 316.204466 224.64 \r\nL 316.204466 141.805714 \r\nL 312.78465 141.805714 \r\nz\r\n\" style=\"fill:#1f77b4;fill-opacity:0.75;stroke:#000000;stroke-linejoin:miter;stroke-width:0.341982;\"/>\r\n   </g>\r\n   <g id=\"patch_81\">\r\n    <path clip-path=\"url(#p759cbe2e95)\" d=\"M 316.204466 224.64 \r\nL 319.624282 224.64 \r\nL 319.624282 224.64 \r\nL 316.204466 224.64 \r\nz\r\n\" style=\"fill:#1f77b4;fill-opacity:0.75;stroke:#000000;stroke-linejoin:miter;stroke-width:0.341982;\"/>\r\n   </g>\r\n   <g id=\"patch_82\">\r\n    <path clip-path=\"url(#p759cbe2e95)\" d=\"M 319.624282 224.64 \r\nL 323.044098 224.64 \r\nL 323.044098 224.64 \r\nL 319.624282 224.64 \r\nz\r\n\" style=\"fill:#1f77b4;fill-opacity:0.75;stroke:#000000;stroke-linejoin:miter;stroke-width:0.341982;\"/>\r\n   </g>\r\n   <g id=\"patch_83\">\r\n    <path clip-path=\"url(#p759cbe2e95)\" d=\"M 323.044098 224.64 \r\nL 326.463914 224.64 \r\nL 326.463914 224.64 \r\nL 323.044098 224.64 \r\nz\r\n\" style=\"fill:#1f77b4;fill-opacity:0.75;stroke:#000000;stroke-linejoin:miter;stroke-width:0.341982;\"/>\r\n   </g>\r\n   <g id=\"patch_84\">\r\n    <path clip-path=\"url(#p759cbe2e95)\" d=\"M 326.463914 224.64 \r\nL 329.88373 224.64 \r\nL 329.88373 183.222857 \r\nL 326.463914 183.222857 \r\nz\r\n\" style=\"fill:#1f77b4;fill-opacity:0.75;stroke:#000000;stroke-linejoin:miter;stroke-width:0.341982;\"/>\r\n   </g>\r\n   <g id=\"patch_85\">\r\n    <path clip-path=\"url(#p759cbe2e95)\" d=\"M 329.88373 224.64 \r\nL 333.303546 224.64 \r\nL 333.303546 224.64 \r\nL 329.88373 224.64 \r\nz\r\n\" style=\"fill:#1f77b4;fill-opacity:0.75;stroke:#000000;stroke-linejoin:miter;stroke-width:0.341982;\"/>\r\n   </g>\r\n   <g id=\"patch_86\">\r\n    <path clip-path=\"url(#p759cbe2e95)\" d=\"M 333.303546 224.64 \r\nL 336.723362 224.64 \r\nL 336.723362 224.64 \r\nL 333.303546 224.64 \r\nz\r\n\" style=\"fill:#1f77b4;fill-opacity:0.75;stroke:#000000;stroke-linejoin:miter;stroke-width:0.341982;\"/>\r\n   </g>\r\n   <g id=\"patch_87\">\r\n    <path clip-path=\"url(#p759cbe2e95)\" d=\"M 336.723362 224.64 \r\nL 340.143179 224.64 \r\nL 340.143179 183.222857 \r\nL 336.723362 183.222857 \r\nz\r\n\" style=\"fill:#1f77b4;fill-opacity:0.75;stroke:#000000;stroke-linejoin:miter;stroke-width:0.341982;\"/>\r\n   </g>\r\n   <g id=\"patch_88\">\r\n    <path clip-path=\"url(#p759cbe2e95)\" d=\"M 340.143179 224.64 \r\nL 343.562995 224.64 \r\nL 343.562995 224.64 \r\nL 340.143179 224.64 \r\nz\r\n\" style=\"fill:#1f77b4;fill-opacity:0.75;stroke:#000000;stroke-linejoin:miter;stroke-width:0.341982;\"/>\r\n   </g>\r\n   <g id=\"patch_89\">\r\n    <path clip-path=\"url(#p759cbe2e95)\" d=\"M 343.562995 224.64 \r\nL 346.982811 224.64 \r\nL 346.982811 17.554286 \r\nL 343.562995 17.554286 \r\nz\r\n\" style=\"fill:#1f77b4;fill-opacity:0.75;stroke:#000000;stroke-linejoin:miter;stroke-width:0.341982;\"/>\r\n   </g>\r\n   <g id=\"patch_90\">\r\n    <path clip-path=\"url(#p759cbe2e95)\" d=\"M 346.982811 224.64 \r\nL 350.402627 224.64 \r\nL 350.402627 224.64 \r\nL 346.982811 224.64 \r\nz\r\n\" style=\"fill:#1f77b4;fill-opacity:0.75;stroke:#000000;stroke-linejoin:miter;stroke-width:0.341982;\"/>\r\n   </g>\r\n   <g id=\"patch_91\">\r\n    <path clip-path=\"url(#p759cbe2e95)\" d=\"M 350.402627 224.64 \r\nL 353.822443 224.64 \r\nL 353.822443 17.554286 \r\nL 350.402627 17.554286 \r\nz\r\n\" style=\"fill:#1f77b4;fill-opacity:0.75;stroke:#000000;stroke-linejoin:miter;stroke-width:0.341982;\"/>\r\n   </g>\r\n   <g id=\"matplotlib.axis_1\">\r\n    <g id=\"xtick_1\">\r\n     <g id=\"line2d_1\">\r\n      <defs>\r\n       <path d=\"M 0 0 \r\nL 0 3.5 \r\n\" id=\"mcedc32b7f2\" style=\"stroke:#000000;stroke-width:0.8;\"/>\r\n      </defs>\r\n      <g>\r\n       <use style=\"stroke:#000000;stroke-width:0.8;\" x=\"46.384427\" xlink:href=\"#mcedc32b7f2\" y=\"224.64\"/>\r\n      </g>\r\n     </g>\r\n     <g id=\"text_1\">\r\n      <!-- 0 -->\r\n      <g transform=\"translate(43.203177 239.238437)scale(0.1 -0.1)\">\r\n       <defs>\r\n        <path d=\"M 2034 4250 \r\nQ 1547 4250 1301 3770 \r\nQ 1056 3291 1056 2328 \r\nQ 1056 1369 1301 889 \r\nQ 1547 409 2034 409 \r\nQ 2525 409 2770 889 \r\nQ 3016 1369 3016 2328 \r\nQ 3016 3291 2770 3770 \r\nQ 2525 4250 2034 4250 \r\nz\r\nM 2034 4750 \r\nQ 2819 4750 3233 4129 \r\nQ 3647 3509 3647 2328 \r\nQ 3647 1150 3233 529 \r\nQ 2819 -91 2034 -91 \r\nQ 1250 -91 836 529 \r\nQ 422 1150 422 2328 \r\nQ 422 3509 836 4129 \r\nQ 1250 4750 2034 4750 \r\nz\r\n\" id=\"DejaVuSans-30\" transform=\"scale(0.015625)\"/>\r\n       </defs>\r\n       <use xlink:href=\"#DejaVuSans-30\"/>\r\n      </g>\r\n     </g>\r\n    </g>\r\n    <g id=\"xtick_2\">\r\n     <g id=\"line2d_2\">\r\n      <g>\r\n       <use style=\"stroke:#000000;stroke-width:0.8;\" x=\"105.507122\" xlink:href=\"#mcedc32b7f2\" y=\"224.64\"/>\r\n      </g>\r\n     </g>\r\n     <g id=\"text_2\">\r\n      <!-- 50 -->\r\n      <g transform=\"translate(99.144622 239.238437)scale(0.1 -0.1)\">\r\n       <defs>\r\n        <path d=\"M 691 4666 \r\nL 3169 4666 \r\nL 3169 4134 \r\nL 1269 4134 \r\nL 1269 2991 \r\nQ 1406 3038 1543 3061 \r\nQ 1681 3084 1819 3084 \r\nQ 2600 3084 3056 2656 \r\nQ 3513 2228 3513 1497 \r\nQ 3513 744 3044 326 \r\nQ 2575 -91 1722 -91 \r\nQ 1428 -91 1123 -41 \r\nQ 819 9 494 109 \r\nL 494 744 \r\nQ 775 591 1075 516 \r\nQ 1375 441 1709 441 \r\nQ 2250 441 2565 725 \r\nQ 2881 1009 2881 1497 \r\nQ 2881 1984 2565 2268 \r\nQ 2250 2553 1709 2553 \r\nQ 1456 2553 1204 2497 \r\nQ 953 2441 691 2322 \r\nL 691 4666 \r\nz\r\n\" id=\"DejaVuSans-35\" transform=\"scale(0.015625)\"/>\r\n       </defs>\r\n       <use xlink:href=\"#DejaVuSans-35\"/>\r\n       <use x=\"63.623047\" xlink:href=\"#DejaVuSans-30\"/>\r\n      </g>\r\n     </g>\r\n    </g>\r\n    <g id=\"xtick_3\">\r\n     <g id=\"line2d_3\">\r\n      <g>\r\n       <use style=\"stroke:#000000;stroke-width:0.8;\" x=\"164.629818\" xlink:href=\"#mcedc32b7f2\" y=\"224.64\"/>\r\n      </g>\r\n     </g>\r\n     <g id=\"text_3\">\r\n      <!-- 100 -->\r\n      <g transform=\"translate(155.086068 239.238437)scale(0.1 -0.1)\">\r\n       <defs>\r\n        <path d=\"M 794 531 \r\nL 1825 531 \r\nL 1825 4091 \r\nL 703 3866 \r\nL 703 4441 \r\nL 1819 4666 \r\nL 2450 4666 \r\nL 2450 531 \r\nL 3481 531 \r\nL 3481 0 \r\nL 794 0 \r\nL 794 531 \r\nz\r\n\" id=\"DejaVuSans-31\" transform=\"scale(0.015625)\"/>\r\n       </defs>\r\n       <use xlink:href=\"#DejaVuSans-31\"/>\r\n       <use x=\"63.623047\" xlink:href=\"#DejaVuSans-30\"/>\r\n       <use x=\"127.246094\" xlink:href=\"#DejaVuSans-30\"/>\r\n      </g>\r\n     </g>\r\n    </g>\r\n    <g id=\"xtick_4\">\r\n     <g id=\"line2d_4\">\r\n      <g>\r\n       <use style=\"stroke:#000000;stroke-width:0.8;\" x=\"223.752513\" xlink:href=\"#mcedc32b7f2\" y=\"224.64\"/>\r\n      </g>\r\n     </g>\r\n     <g id=\"text_4\">\r\n      <!-- 150 -->\r\n      <g transform=\"translate(214.208763 239.238437)scale(0.1 -0.1)\">\r\n       <use xlink:href=\"#DejaVuSans-31\"/>\r\n       <use x=\"63.623047\" xlink:href=\"#DejaVuSans-35\"/>\r\n       <use x=\"127.246094\" xlink:href=\"#DejaVuSans-30\"/>\r\n      </g>\r\n     </g>\r\n    </g>\r\n    <g id=\"xtick_5\">\r\n     <g id=\"line2d_5\">\r\n      <g>\r\n       <use style=\"stroke:#000000;stroke-width:0.8;\" x=\"282.875209\" xlink:href=\"#mcedc32b7f2\" y=\"224.64\"/>\r\n      </g>\r\n     </g>\r\n     <g id=\"text_5\">\r\n      <!-- 200 -->\r\n      <g transform=\"translate(273.331459 239.238437)scale(0.1 -0.1)\">\r\n       <defs>\r\n        <path d=\"M 1228 531 \r\nL 3431 531 \r\nL 3431 0 \r\nL 469 0 \r\nL 469 531 \r\nQ 828 903 1448 1529 \r\nQ 2069 2156 2228 2338 \r\nQ 2531 2678 2651 2914 \r\nQ 2772 3150 2772 3378 \r\nQ 2772 3750 2511 3984 \r\nQ 2250 4219 1831 4219 \r\nQ 1534 4219 1204 4116 \r\nQ 875 4013 500 3803 \r\nL 500 4441 \r\nQ 881 4594 1212 4672 \r\nQ 1544 4750 1819 4750 \r\nQ 2544 4750 2975 4387 \r\nQ 3406 4025 3406 3419 \r\nQ 3406 3131 3298 2873 \r\nQ 3191 2616 2906 2266 \r\nQ 2828 2175 2409 1742 \r\nQ 1991 1309 1228 531 \r\nz\r\n\" id=\"DejaVuSans-32\" transform=\"scale(0.015625)\"/>\r\n       </defs>\r\n       <use xlink:href=\"#DejaVuSans-32\"/>\r\n       <use x=\"63.623047\" xlink:href=\"#DejaVuSans-30\"/>\r\n       <use x=\"127.246094\" xlink:href=\"#DejaVuSans-30\"/>\r\n      </g>\r\n     </g>\r\n    </g>\r\n    <g id=\"xtick_6\">\r\n     <g id=\"line2d_6\">\r\n      <g>\r\n       <use style=\"stroke:#000000;stroke-width:0.8;\" x=\"341.997904\" xlink:href=\"#mcedc32b7f2\" y=\"224.64\"/>\r\n      </g>\r\n     </g>\r\n     <g id=\"text_6\">\r\n      <!-- 250 -->\r\n      <g transform=\"translate(332.454154 239.238437)scale(0.1 -0.1)\">\r\n       <use xlink:href=\"#DejaVuSans-32\"/>\r\n       <use x=\"63.623047\" xlink:href=\"#DejaVuSans-35\"/>\r\n       <use x=\"127.246094\" xlink:href=\"#DejaVuSans-30\"/>\r\n      </g>\r\n     </g>\r\n    </g>\r\n   </g>\r\n   <g id=\"matplotlib.axis_2\">\r\n    <g id=\"ytick_1\">\r\n     <g id=\"line2d_7\">\r\n      <defs>\r\n       <path d=\"M 0 0 \r\nL -3.5 0 \r\n\" id=\"mc97d83b689\" style=\"stroke:#000000;stroke-width:0.8;\"/>\r\n      </defs>\r\n      <g>\r\n       <use style=\"stroke:#000000;stroke-width:0.8;\" x=\"34.240625\" xlink:href=\"#mc97d83b689\" y=\"224.64\"/>\r\n      </g>\r\n     </g>\r\n     <g id=\"text_7\">\r\n      <!-- 0 -->\r\n      <g transform=\"translate(20.878125 228.439219)scale(0.1 -0.1)\">\r\n       <use xlink:href=\"#DejaVuSans-30\"/>\r\n      </g>\r\n     </g>\r\n    </g>\r\n    <g id=\"ytick_2\">\r\n     <g id=\"line2d_8\">\r\n      <g>\r\n       <use style=\"stroke:#000000;stroke-width:0.8;\" x=\"34.240625\" xlink:href=\"#mc97d83b689\" y=\"183.222857\"/>\r\n      </g>\r\n     </g>\r\n     <g id=\"text_8\">\r\n      <!-- 1 -->\r\n      <g transform=\"translate(20.878125 187.022076)scale(0.1 -0.1)\">\r\n       <use xlink:href=\"#DejaVuSans-31\"/>\r\n      </g>\r\n     </g>\r\n    </g>\r\n    <g id=\"ytick_3\">\r\n     <g id=\"line2d_9\">\r\n      <g>\r\n       <use style=\"stroke:#000000;stroke-width:0.8;\" x=\"34.240625\" xlink:href=\"#mc97d83b689\" y=\"141.805714\"/>\r\n      </g>\r\n     </g>\r\n     <g id=\"text_9\">\r\n      <!-- 2 -->\r\n      <g transform=\"translate(20.878125 145.604933)scale(0.1 -0.1)\">\r\n       <use xlink:href=\"#DejaVuSans-32\"/>\r\n      </g>\r\n     </g>\r\n    </g>\r\n    <g id=\"ytick_4\">\r\n     <g id=\"line2d_10\">\r\n      <g>\r\n       <use style=\"stroke:#000000;stroke-width:0.8;\" x=\"34.240625\" xlink:href=\"#mc97d83b689\" y=\"100.388571\"/>\r\n      </g>\r\n     </g>\r\n     <g id=\"text_10\">\r\n      <!-- 3 -->\r\n      <g transform=\"translate(20.878125 104.18779)scale(0.1 -0.1)\">\r\n       <defs>\r\n        <path d=\"M 2597 2516 \r\nQ 3050 2419 3304 2112 \r\nQ 3559 1806 3559 1356 \r\nQ 3559 666 3084 287 \r\nQ 2609 -91 1734 -91 \r\nQ 1441 -91 1130 -33 \r\nQ 819 25 488 141 \r\nL 488 750 \r\nQ 750 597 1062 519 \r\nQ 1375 441 1716 441 \r\nQ 2309 441 2620 675 \r\nQ 2931 909 2931 1356 \r\nQ 2931 1769 2642 2001 \r\nQ 2353 2234 1838 2234 \r\nL 1294 2234 \r\nL 1294 2753 \r\nL 1863 2753 \r\nQ 2328 2753 2575 2939 \r\nQ 2822 3125 2822 3475 \r\nQ 2822 3834 2567 4026 \r\nQ 2313 4219 1838 4219 \r\nQ 1578 4219 1281 4162 \r\nQ 984 4106 628 3988 \r\nL 628 4550 \r\nQ 988 4650 1302 4700 \r\nQ 1616 4750 1894 4750 \r\nQ 2613 4750 3031 4423 \r\nQ 3450 4097 3450 3541 \r\nQ 3450 3153 3228 2886 \r\nQ 3006 2619 2597 2516 \r\nz\r\n\" id=\"DejaVuSans-33\" transform=\"scale(0.015625)\"/>\r\n       </defs>\r\n       <use xlink:href=\"#DejaVuSans-33\"/>\r\n      </g>\r\n     </g>\r\n    </g>\r\n    <g id=\"ytick_5\">\r\n     <g id=\"line2d_11\">\r\n      <g>\r\n       <use style=\"stroke:#000000;stroke-width:0.8;\" x=\"34.240625\" xlink:href=\"#mc97d83b689\" y=\"58.971429\"/>\r\n      </g>\r\n     </g>\r\n     <g id=\"text_11\">\r\n      <!-- 4 -->\r\n      <g transform=\"translate(20.878125 62.770647)scale(0.1 -0.1)\">\r\n       <defs>\r\n        <path d=\"M 2419 4116 \r\nL 825 1625 \r\nL 2419 1625 \r\nL 2419 4116 \r\nz\r\nM 2253 4666 \r\nL 3047 4666 \r\nL 3047 1625 \r\nL 3713 1625 \r\nL 3713 1100 \r\nL 3047 1100 \r\nL 3047 0 \r\nL 2419 0 \r\nL 2419 1100 \r\nL 313 1100 \r\nL 313 1709 \r\nL 2253 4666 \r\nz\r\n\" id=\"DejaVuSans-34\" transform=\"scale(0.015625)\"/>\r\n       </defs>\r\n       <use xlink:href=\"#DejaVuSans-34\"/>\r\n      </g>\r\n     </g>\r\n    </g>\r\n    <g id=\"ytick_6\">\r\n     <g id=\"line2d_12\">\r\n      <g>\r\n       <use style=\"stroke:#000000;stroke-width:0.8;\" x=\"34.240625\" xlink:href=\"#mc97d83b689\" y=\"17.554286\"/>\r\n      </g>\r\n     </g>\r\n     <g id=\"text_12\">\r\n      <!-- 5 -->\r\n      <g transform=\"translate(20.878125 21.353504)scale(0.1 -0.1)\">\r\n       <use xlink:href=\"#DejaVuSans-35\"/>\r\n      </g>\r\n     </g>\r\n    </g>\r\n    <g id=\"text_13\">\r\n     <!-- Count -->\r\n     <g transform=\"translate(14.798437 130.768437)rotate(-90)scale(0.1 -0.1)\">\r\n      <defs>\r\n       <path d=\"M 4122 4306 \r\nL 4122 3641 \r\nQ 3803 3938 3442 4084 \r\nQ 3081 4231 2675 4231 \r\nQ 1875 4231 1450 3742 \r\nQ 1025 3253 1025 2328 \r\nQ 1025 1406 1450 917 \r\nQ 1875 428 2675 428 \r\nQ 3081 428 3442 575 \r\nQ 3803 722 4122 1019 \r\nL 4122 359 \r\nQ 3791 134 3420 21 \r\nQ 3050 -91 2638 -91 \r\nQ 1578 -91 968 557 \r\nQ 359 1206 359 2328 \r\nQ 359 3453 968 4101 \r\nQ 1578 4750 2638 4750 \r\nQ 3056 4750 3426 4639 \r\nQ 3797 4528 4122 4306 \r\nz\r\n\" id=\"DejaVuSans-43\" transform=\"scale(0.015625)\"/>\r\n       <path d=\"M 1959 3097 \r\nQ 1497 3097 1228 2736 \r\nQ 959 2375 959 1747 \r\nQ 959 1119 1226 758 \r\nQ 1494 397 1959 397 \r\nQ 2419 397 2687 759 \r\nQ 2956 1122 2956 1747 \r\nQ 2956 2369 2687 2733 \r\nQ 2419 3097 1959 3097 \r\nz\r\nM 1959 3584 \r\nQ 2709 3584 3137 3096 \r\nQ 3566 2609 3566 1747 \r\nQ 3566 888 3137 398 \r\nQ 2709 -91 1959 -91 \r\nQ 1206 -91 779 398 \r\nQ 353 888 353 1747 \r\nQ 353 2609 779 3096 \r\nQ 1206 3584 1959 3584 \r\nz\r\n\" id=\"DejaVuSans-6f\" transform=\"scale(0.015625)\"/>\r\n       <path d=\"M 544 1381 \r\nL 544 3500 \r\nL 1119 3500 \r\nL 1119 1403 \r\nQ 1119 906 1312 657 \r\nQ 1506 409 1894 409 \r\nQ 2359 409 2629 706 \r\nQ 2900 1003 2900 1516 \r\nL 2900 3500 \r\nL 3475 3500 \r\nL 3475 0 \r\nL 2900 0 \r\nL 2900 538 \r\nQ 2691 219 2414 64 \r\nQ 2138 -91 1772 -91 \r\nQ 1169 -91 856 284 \r\nQ 544 659 544 1381 \r\nz\r\nM 1991 3584 \r\nL 1991 3584 \r\nz\r\n\" id=\"DejaVuSans-75\" transform=\"scale(0.015625)\"/>\r\n       <path d=\"M 3513 2113 \r\nL 3513 0 \r\nL 2938 0 \r\nL 2938 2094 \r\nQ 2938 2591 2744 2837 \r\nQ 2550 3084 2163 3084 \r\nQ 1697 3084 1428 2787 \r\nQ 1159 2491 1159 1978 \r\nL 1159 0 \r\nL 581 0 \r\nL 581 3500 \r\nL 1159 3500 \r\nL 1159 2956 \r\nQ 1366 3272 1645 3428 \r\nQ 1925 3584 2291 3584 \r\nQ 2894 3584 3203 3211 \r\nQ 3513 2838 3513 2113 \r\nz\r\n\" id=\"DejaVuSans-6e\" transform=\"scale(0.015625)\"/>\r\n       <path d=\"M 1172 4494 \r\nL 1172 3500 \r\nL 2356 3500 \r\nL 2356 3053 \r\nL 1172 3053 \r\nL 1172 1153 \r\nQ 1172 725 1289 603 \r\nQ 1406 481 1766 481 \r\nL 2356 481 \r\nL 2356 0 \r\nL 1766 0 \r\nQ 1100 0 847 248 \r\nQ 594 497 594 1153 \r\nL 594 3053 \r\nL 172 3053 \r\nL 172 3500 \r\nL 594 3500 \r\nL 594 4494 \r\nL 1172 4494 \r\nz\r\n\" id=\"DejaVuSans-74\" transform=\"scale(0.015625)\"/>\r\n      </defs>\r\n      <use xlink:href=\"#DejaVuSans-43\"/>\r\n      <use x=\"69.824219\" xlink:href=\"#DejaVuSans-6f\"/>\r\n      <use x=\"131.005859\" xlink:href=\"#DejaVuSans-75\"/>\r\n      <use x=\"194.384766\" xlink:href=\"#DejaVuSans-6e\"/>\r\n      <use x=\"257.763672\" xlink:href=\"#DejaVuSans-74\"/>\r\n     </g>\r\n    </g>\r\n   </g>\r\n   <g id=\"patch_92\">\r\n    <path d=\"M 34.240625 224.64 \r\nL 34.240625 7.2 \r\n\" style=\"fill:none;stroke:#000000;stroke-linecap:square;stroke-linejoin:miter;stroke-width:0.8;\"/>\r\n   </g>\r\n   <g id=\"patch_93\">\r\n    <path d=\"M 369.040625 224.64 \r\nL 369.040625 7.2 \r\n\" style=\"fill:none;stroke:#000000;stroke-linecap:square;stroke-linejoin:miter;stroke-width:0.8;\"/>\r\n   </g>\r\n   <g id=\"patch_94\">\r\n    <path d=\"M 34.240625 224.64 \r\nL 369.040625 224.64 \r\n\" style=\"fill:none;stroke:#000000;stroke-linecap:square;stroke-linejoin:miter;stroke-width:0.8;\"/>\r\n   </g>\r\n   <g id=\"patch_95\">\r\n    <path d=\"M 34.240625 7.2 \r\nL 369.040625 7.2 \r\n\" style=\"fill:none;stroke:#000000;stroke-linecap:square;stroke-linejoin:miter;stroke-width:0.8;\"/>\r\n   </g>\r\n  </g>\r\n </g>\r\n <defs>\r\n  <clipPath id=\"p759cbe2e95\">\r\n   <rect height=\"217.44\" width=\"334.8\" x=\"34.240625\" y=\"7.2\"/>\r\n  </clipPath>\r\n </defs>\r\n</svg>\r\n",
      "image/png": "[encoded data removed]"
     },
     "metadata": {
      "needs_background": "light"
     }
    }
   ],
   "source": [
    "sns.histplot(cleaned_dates, bins=89)"
   ]
  },
  {
   "source": [
    "## Moving window analysis"
   ],
   "cell_type": "markdown",
   "metadata": {}
  },
  {
   "cell_type": "code",
   "execution_count": 70,
   "metadata": {},
   "outputs": [
    {
     "output_type": "execute_result",
     "data": {
      "text/plain": [
       "    events\n",
       "0     2.60\n",
       "1    11.60\n",
       "2    36.50\n",
       "3    66.04\n",
       "4    93.90\n",
       "..     ...\n",
       "84   15.00\n",
       "85   23.00\n",
       "86   30.00\n",
       "87   60.00\n",
       "88   65.00\n",
       "\n",
       "[89 rows x 1 columns]"
      ],
      "text/html": "<div>\n<style scoped>\n    .dataframe tbody tr th:only-of-type {\n        vertical-align: middle;\n    }\n\n    .dataframe tbody tr th {\n        vertical-align: top;\n    }\n\n    .dataframe thead th {\n        text-align: right;\n    }\n</style>\n<table border=\"1\" class=\"dataframe\">\n  <thead>\n    <tr style=\"text-align: right;\">\n      <th></th>\n      <th>events</th>\n    </tr>\n  </thead>\n  <tbody>\n    <tr>\n      <th>0</th>\n      <td>2.60</td>\n    </tr>\n    <tr>\n      <th>1</th>\n      <td>11.60</td>\n    </tr>\n    <tr>\n      <th>2</th>\n      <td>36.50</td>\n    </tr>\n    <tr>\n      <th>3</th>\n      <td>66.04</td>\n    </tr>\n    <tr>\n      <th>4</th>\n      <td>93.90</td>\n    </tr>\n    <tr>\n      <th>...</th>\n      <td>...</td>\n    </tr>\n    <tr>\n      <th>84</th>\n      <td>15.00</td>\n    </tr>\n    <tr>\n      <th>85</th>\n      <td>23.00</td>\n    </tr>\n    <tr>\n      <th>86</th>\n      <td>30.00</td>\n    </tr>\n    <tr>\n      <th>87</th>\n      <td>60.00</td>\n    </tr>\n    <tr>\n      <th>88</th>\n      <td>65.00</td>\n    </tr>\n  </tbody>\n</table>\n<p>89 rows × 1 columns</p>\n</div>"
     },
     "metadata": {},
     "execution_count": 70
    }
   ],
   "source": [
    "dates = pd.DataFrame(cleaned_dates)\n",
    "dates.columns = [\"events\"]\n",
    "dates"
   ]
  },
  {
   "cell_type": "code",
   "execution_count": 134,
   "metadata": {},
   "outputs": [],
   "source": [
    "dates_list = dates[\"events\"].tolist()\n",
    "dates_list = sorted(dates_list)\n"
   ]
  },
  {
   "cell_type": "code",
   "execution_count": 128,
   "metadata": {},
   "outputs": [
    {
     "output_type": "stream",
     "name": "stdout",
     "text": [
      "2.6\n",
      "11.6\n",
      "36.5\n",
      "66.04\n",
      "93.9\n",
      "124.0\n",
      "143.1\n",
      "184.2\n",
      "201.4\n",
      "215.0\n",
      "251.9\n",
      "259.8\n",
      "56.0\n",
      "66.0\n",
      "93.9\n",
      "124.0\n",
      "132.6\n",
      "152.0\n",
      "184.2\n",
      "201.4\n",
      "251.9\n",
      "259.8\n",
      "16.6\n",
      "30.4\n",
      "41.2\n",
      "56.6\n",
      "61.9\n",
      "66.3\n",
      "92.9\n",
      "118.0\n",
      "123.5\n",
      "134.7\n",
      "182.7\n",
      "201.5\n",
      "228.0\n",
      "251.9\n",
      "259.6\n",
      "5.33\n",
      "11.63\n",
      "23.03\n",
      "33.9\n",
      "52.0\n",
      "61.6\n",
      "68.0\n",
      "84.2\n",
      "93.9\n",
      "100.0\n",
      "109.0\n",
      "124.0\n",
      "129.4\n",
      "132.6\n",
      "139.8\n",
      "149.2\n",
      "161.5\n",
      "170.3\n",
      "184.2\n",
      "190.8\n",
      "199.0\n",
      "205.7\n",
      "218.0\n",
      "227.3\n",
      "237.0\n",
      "247.0\n",
      "252.0\n",
      "260.0\n",
      "7.25\n",
      "33.9\n",
      "66.0\n",
      "143.1\n",
      "201.4\n",
      "215.0\n",
      "251.9\n",
      "259.8\n",
      "40.0\n",
      "50.0\n",
      "58.0\n",
      "75.0\n",
      "80.0\n",
      "120.0\n",
      "140.0\n",
      "155.0\n",
      "170.0\n",
      "3.0\n",
      "10.0\n",
      "15.0\n",
      "23.0\n",
      "30.0\n",
      "60.0\n",
      "65.0\n"
     ]
    }
   ],
   "source": [
    "for index, row in dates.iterrows():\n",
    "    print(row[\"events\"])"
   ]
  },
  {
   "cell_type": "code",
   "execution_count": 119,
   "metadata": {},
   "outputs": [],
   "source": [
    "resample = np.linspace(0,260,260*2)\n",
    "df_resampled = dates.reindex(dates.index.union(resample)).loc[resample]\n",
    "df_resampled = df_resampled.reset_index()\n",
    "df_resampled = df_resampled.round(1)\n",
    "df_resampled.drop(columns=[\"events\"], inplace=True)\n",
    "df_resampled[\"events\"] = np.nan\n",
    "df_resampled.rename(columns={\"index\": \"rate\"}, inplace=True)"
   ]
  },
  {
   "cell_type": "code",
   "execution_count": 120,
   "metadata": {},
   "outputs": [
    {
     "output_type": "stream",
     "name": "stdout",
     "text": [
      "0.0 10.0\n0.5 nan\n1.0 nan\n1.5 nan\n2.0 nan\n2.5 nan\n3.0 nan\n3.5 nan\n4.0 nan\n4.5 nan\n5.0 nan\n5.5 nan\n6.0 nan\n6.5 nan\n7.0 nan\n7.5 nan\n8.0 nan\n8.5 nan\n9.0 nan\n9.5 nan\n10.0 10.0\n10.5 nan\n11.0 nan\n11.5 nan\n12.0 nan\n12.5 nan\n13.0 nan\n13.5 nan\n14.0 nan\n14.5 nan\n15.0 nan\n15.5 nan\n16.0 nan\n16.5 nan\n17.0 nan\n17.5 nan\n18.0 nan\n18.5 nan\n19.0 nan\n19.5 nan\n20.0 10.0\n20.5 nan\n21.0 nan\n21.5 nan\n22.0 nan\n22.5 nan\n23.0 nan\n23.5 nan\n24.0 nan\n24.5 nan\n25.0 nan\n25.5 nan\n26.1 nan\n26.6 nan\n27.1 nan\n27.6 nan\n28.1 nan\n28.6 nan\n29.1 nan\n29.6 nan\n30.1 nan\n30.6 nan\n31.1 nan\n31.6 nan\n32.1 nan\n32.6 nan\n33.1 nan\n33.6 nan\n34.1 nan\n34.6 nan\n35.1 nan\n35.6 nan\n36.1 nan\n36.6 nan\n37.1 nan\n37.6 nan\n38.1 nan\n38.6 nan\n39.1 nan\n39.6 nan\n40.1 nan\n40.6 nan\n41.1 nan\n41.6 nan\n42.1 nan\n42.6 nan\n43.1 nan\n43.6 nan\n44.1 nan\n44.6 nan\n45.1 nan\n45.6 nan\n46.1 nan\n46.6 nan\n47.1 nan\n47.6 nan\n48.1 nan\n48.6 nan\n49.1 nan\n49.6 nan\n50.1 nan\n50.6 nan\n51.1 nan\n51.6 nan\n52.1 nan\n52.6 nan\n53.1 nan\n53.6 nan\n54.1 nan\n54.6 nan\n55.1 nan\n55.6 nan\n56.1 nan\n56.6 nan\n57.1 nan\n57.6 nan\n58.1 nan\n58.6 nan\n59.1 nan\n59.6 nan\n60.1 nan\n60.6 nan\n61.1 nan\n61.6 nan\n62.1 nan\n62.6 nan\n63.1 nan\n63.6 nan\n64.1 nan\n64.6 nan\n65.1 nan\n65.6 nan\n66.1 nan\n66.6 nan\n67.1 nan\n67.6 nan\n68.1 nan\n68.6 nan\n69.1 nan\n69.6 nan\n70.1 nan\n70.6 nan\n71.1 nan\n71.6 nan\n72.1 nan\n72.6 nan\n73.1 nan\n73.6 nan\n74.1 nan\n74.6 nan\n75.1 nan\n75.6 nan\n76.1 nan\n76.6 nan\n77.1 nan\n77.6 nan\n78.2 nan\n78.7 nan\n79.2 nan\n79.7 nan\n80.2 nan\n80.7 nan\n81.2 nan\n81.7 nan\n82.2 nan\n82.7 nan\n83.2 nan\n83.7 nan\n84.2 nan\n84.7 nan\n85.2 nan\n85.7 nan\n86.2 nan\n86.7 nan\n87.2 nan\n87.7 nan\n88.2 nan\n88.7 nan\n89.2 nan\n89.7 nan\n90.2 nan\n90.7 nan\n91.2 nan\n91.7 nan\n92.2 nan\n92.7 nan\n93.2 nan\n93.7 nan\n94.2 nan\n94.7 nan\n95.2 nan\n95.7 nan\n96.2 nan\n96.7 nan\n97.2 nan\n97.7 nan\n98.2 nan\n98.7 nan\n99.2 nan\n99.7 nan\n100.2 nan\n100.7 nan\n101.2 nan\n101.7 nan\n102.2 nan\n102.7 nan\n103.2 nan\n103.7 nan\n104.2 nan\n104.7 nan\n105.2 nan\n105.7 nan\n106.2 nan\n106.7 nan\n107.2 nan\n107.7 nan\n108.2 nan\n108.7 nan\n109.2 nan\n109.7 nan\n110.2 nan\n110.7 nan\n111.2 nan\n111.7 nan\n112.2 nan\n112.7 nan\n113.2 nan\n113.7 nan\n114.2 nan\n114.7 nan\n115.2 nan\n115.7 nan\n116.2 nan\n116.7 nan\n117.2 nan\n117.7 nan\n118.2 nan\n118.7 nan\n119.2 nan\n119.7 nan\n120.2 nan\n120.7 nan\n121.2 nan\n121.7 nan\n122.2 nan\n122.7 nan\n123.2 nan\n123.7 nan\n124.2 nan\n124.7 nan\n125.2 nan\n125.7 nan\n126.2 nan\n126.7 nan\n127.2 nan\n127.7 nan\n128.2 nan\n128.7 nan\n129.2 nan\n129.7 nan\n130.3 nan\n130.8 nan\n131.3 nan\n131.8 nan\n132.3 nan\n132.8 nan\n133.3 nan\n133.8 nan\n134.3 nan\n134.8 nan\n135.3 nan\n135.8 nan\n136.3 nan\n136.8 nan\n137.3 nan\n137.8 nan\n138.3 nan\n138.8 nan\n139.3 nan\n139.8 nan\n140.3 nan\n140.8 nan\n141.3 nan\n141.8 nan\n142.3 nan\n142.8 nan\n143.3 nan\n143.8 nan\n144.3 nan\n144.8 nan\n145.3 nan\n145.8 nan\n146.3 nan\n146.8 nan\n147.3 nan\n147.8 nan\n148.3 nan\n148.8 nan\n149.3 nan\n149.8 nan\n150.3 nan\n150.8 nan\n151.3 nan\n151.8 nan\n152.3 nan\n152.8 nan\n153.3 nan\n153.8 nan\n154.3 nan\n154.8 nan\n155.3 nan\n155.8 nan\n156.3 nan\n156.8 nan\n157.3 nan\n157.8 nan\n158.3 nan\n158.8 nan\n159.3 nan\n159.8 nan\n160.3 nan\n160.8 nan\n161.3 nan\n161.8 nan\n162.3 nan\n162.8 nan\n163.3 nan\n163.8 nan\n164.3 nan\n164.8 nan\n165.3 nan\n165.8 nan\n166.3 nan\n166.8 nan\n167.3 nan\n167.8 nan\n168.3 nan\n168.8 nan\n169.3 nan\n169.8 nan\n170.3 nan\n170.8 nan\n171.3 nan\n171.8 nan\n172.3 nan\n172.8 nan\n173.3 nan\n173.8 nan\n174.3 nan\n174.8 nan\n175.3 nan\n175.8 nan\n176.3 nan\n176.8 nan\n177.3 nan\n177.8 nan\n178.3 nan\n178.8 nan\n179.3 nan\n179.8 nan\n180.3 nan\n180.8 nan\n181.3 nan\n181.8 nan\n182.4 nan\n182.9 nan\n183.4 nan\n183.9 nan\n184.4 nan\n184.9 nan\n185.4 nan\n185.9 nan\n186.4 nan\n186.9 nan\n187.4 nan\n187.9 nan\n188.4 nan\n188.9 nan\n189.4 nan\n189.9 nan\n190.4 nan\n190.9 nan\n191.4 nan\n191.9 nan\n192.4 nan\n192.9 nan\n193.4 nan\n193.9 nan\n194.4 nan\n194.9 nan\n195.4 nan\n195.9 nan\n196.4 nan\n196.9 nan\n197.4 nan\n197.9 nan\n198.4 nan\n198.9 nan\n199.4 nan\n199.9 nan\n200.4 nan\n200.9 nan\n201.4 nan\n201.9 nan\n202.4 nan\n202.9 nan\n203.4 nan\n203.9 nan\n204.4 nan\n204.9 nan\n205.4 nan\n205.9 nan\n206.4 nan\n206.9 nan\n207.4 nan\n207.9 nan\n208.4 nan\n208.9 nan\n209.4 nan\n209.9 nan\n210.4 nan\n210.9 nan\n211.4 nan\n211.9 nan\n212.4 nan\n212.9 nan\n213.4 nan\n213.9 nan\n214.4 nan\n214.9 nan\n215.4 nan\n215.9 nan\n216.4 nan\n216.9 nan\n217.4 nan\n217.9 nan\n218.4 nan\n218.9 nan\n219.4 nan\n219.9 nan\n220.4 nan\n220.9 nan\n221.4 nan\n221.9 nan\n222.4 nan\n222.9 nan\n223.4 nan\n223.9 nan\n224.4 nan\n224.9 nan\n225.4 nan\n225.9 nan\n226.4 nan\n226.9 nan\n227.4 nan\n227.9 nan\n228.4 nan\n228.9 nan\n229.4 nan\n229.9 nan\n230.4 nan\n230.9 nan\n231.4 nan\n231.9 nan\n232.4 nan\n232.9 nan\n233.4 nan\n233.9 nan\n234.5 nan\n235.0 nan\n235.5 nan\n236.0 nan\n236.5 nan\n237.0 nan\n237.5 nan\n238.0 nan\n238.5 nan\n239.0 nan\n239.5 nan\n240.0 10.0\n240.5 nan\n241.0 nan\n241.5 nan\n242.0 nan\n242.5 nan\n243.0 nan\n243.5 nan\n244.0 nan\n244.5 nan\n245.0 nan\n245.5 nan\n246.0 nan\n246.5 nan\n247.0 nan\n247.5 nan\n248.0 nan\n248.5 nan\n249.0 nan\n249.5 nan\n250.0 10.0\n250.5 nan\n251.0 nan\n251.5 nan\n252.0 nan\n252.5 nan\n253.0 nan\n253.5 nan\n254.0 nan\n254.5 nan\n255.0 nan\n255.5 nan\n256.0 nan\n256.5 nan\n257.0 nan\n257.5 nan\n258.0 nan\n258.5 nan\n259.0 nan\n259.5 nan\n260.0 10.0\n"
     ]
    }
   ],
   "source": [
    "for index, row in df_resampled.iterrows():\n",
    "    for i in row:\n",
    "        \n",
    "    if row[\"rate\"]%10 == 0:\n",
    "        row[\"events\"] = 10\n",
    "    print(row['rate'], row['events'])"
   ]
  },
  {
   "cell_type": "code",
   "execution_count": 135,
   "metadata": {},
   "outputs": [
    {
     "output_type": "error",
     "ename": "UFuncTypeError",
     "evalue": "ufunc 'subtract' did not contain a loop with signature matching types (dtype('<U32'), dtype('<U32')) -> dtype('<U32')",
     "traceback": [
      "\u001b[1;31m---------------------------------------------------------------------------\u001b[0m",
      "\u001b[1;31mUFuncTypeError\u001b[0m                            Traceback (most recent call last)",
      "\u001b[1;32m<ipython-input-135-78b8df1013d7>\u001b[0m in \u001b[0;36m<module>\u001b[1;34m\u001b[0m\n\u001b[0;32m      3\u001b[0m \u001b[1;33m\u001b[0m\u001b[0m\n\u001b[0;32m      4\u001b[0m \u001b[1;33m\u001b[0m\u001b[0m\n\u001b[1;32m----> 5\u001b[1;33m         \u001b[1;32mif\u001b[0m \u001b[1;36m0\u001b[0m \u001b[1;33m<\u001b[0m \u001b[1;33m(\u001b[0m\u001b[0mi\u001b[0m \u001b[1;33m-\u001b[0m \u001b[0mrow\u001b[0m\u001b[1;33m[\u001b[0m\u001b[1;34m\"rate\"\u001b[0m\u001b[1;33m]\u001b[0m\u001b[1;33m)\u001b[0m \u001b[1;33m<\u001b[0m \u001b[1;36m0.5\u001b[0m\u001b[1;33m:\u001b[0m\u001b[1;33m\u001b[0m\u001b[1;33m\u001b[0m\u001b[0m\n\u001b[0m\u001b[0;32m      6\u001b[0m             \u001b[0mprint\u001b[0m\u001b[1;33m(\u001b[0m\u001b[0mrow\u001b[0m\u001b[1;33m[\u001b[0m\u001b[1;34m'rate'\u001b[0m\u001b[1;33m]\u001b[0m\u001b[1;33m,\u001b[0m \u001b[0mi\u001b[0m\u001b[1;33m)\u001b[0m\u001b[1;33m\u001b[0m\u001b[1;33m\u001b[0m\u001b[0m\n",
      "\u001b[1;31mUFuncTypeError\u001b[0m: ufunc 'subtract' did not contain a loop with signature matching types (dtype('<U32'), dtype('<U32')) -> dtype('<U32')"
     ]
    }
   ],
   "source": [
    "for index, row in df_resampled.iterrows():\n",
    "    for i in list_dates:\n",
    "            \n",
    "            \n",
    "        if(0 < (i - row[\"rate\"]) < 0.5):\n",
    "            print(row['rate'], i)"
   ]
  },
  {
   "cell_type": "code",
   "execution_count": 97,
   "metadata": {},
   "outputs": [
    {
     "output_type": "execute_result",
     "data": {
      "text/plain": [
       "     index  events\n",
       "0      0.0    2.60\n",
       "1      0.5   11.60\n",
       "2      1.0   36.50\n",
       "3      1.5   66.04\n",
       "4      2.0   93.90\n",
       "..     ...     ...\n",
       "515  258.0     NaN\n",
       "516  258.5     NaN\n",
       "517  259.0     NaN\n",
       "518  259.5     NaN\n",
       "519  260.0     NaN\n",
       "\n",
       "[520 rows x 2 columns]"
      ],
      "text/html": "<div>\n<style scoped>\n    .dataframe tbody tr th:only-of-type {\n        vertical-align: middle;\n    }\n\n    .dataframe tbody tr th {\n        vertical-align: top;\n    }\n\n    .dataframe thead th {\n        text-align: right;\n    }\n</style>\n<table border=\"1\" class=\"dataframe\">\n  <thead>\n    <tr style=\"text-align: right;\">\n      <th></th>\n      <th>index</th>\n      <th>events</th>\n    </tr>\n  </thead>\n  <tbody>\n    <tr>\n      <th>0</th>\n      <td>0.0</td>\n      <td>2.60</td>\n    </tr>\n    <tr>\n      <th>1</th>\n      <td>0.5</td>\n      <td>11.60</td>\n    </tr>\n    <tr>\n      <th>2</th>\n      <td>1.0</td>\n      <td>36.50</td>\n    </tr>\n    <tr>\n      <th>3</th>\n      <td>1.5</td>\n      <td>66.04</td>\n    </tr>\n    <tr>\n      <th>4</th>\n      <td>2.0</td>\n      <td>93.90</td>\n    </tr>\n    <tr>\n      <th>...</th>\n      <td>...</td>\n      <td>...</td>\n    </tr>\n    <tr>\n      <th>515</th>\n      <td>258.0</td>\n      <td>NaN</td>\n    </tr>\n    <tr>\n      <th>516</th>\n      <td>258.5</td>\n      <td>NaN</td>\n    </tr>\n    <tr>\n      <th>517</th>\n      <td>259.0</td>\n      <td>NaN</td>\n    </tr>\n    <tr>\n      <th>518</th>\n      <td>259.5</td>\n      <td>NaN</td>\n    </tr>\n    <tr>\n      <th>519</th>\n      <td>260.0</td>\n      <td>NaN</td>\n    </tr>\n  </tbody>\n</table>\n<p>520 rows × 2 columns</p>\n</div>"
     },
     "metadata": {},
     "execution_count": 97
    }
   ],
   "source": [
    "df_resampled"
   ]
  },
  {
   "cell_type": "code",
   "execution_count": 42,
   "metadata": {},
   "outputs": [
    {
     "output_type": "error",
     "ename": "TypeError",
     "evalue": "'<' not supported between instances of 'Rolling' and 'float'",
     "traceback": [
      "\u001b[1;31m---------------------------------------------------------------------------\u001b[0m",
      "\u001b[1;31mTypeError\u001b[0m                                 Traceback (most recent call last)",
      "\u001b[1;32m<ipython-input-42-ff379415add4>\u001b[0m in \u001b[0;36m<module>\u001b[1;34m\u001b[0m\n\u001b[1;32m----> 1\u001b[1;33m \u001b[0mdates\u001b[0m\u001b[1;33m.\u001b[0m\u001b[0mevents_ma\u001b[0m\u001b[1;33m.\u001b[0m\u001b[0mhist\u001b[0m\u001b[1;33m(\u001b[0m\u001b[0mbins\u001b[0m\u001b[1;33m=\u001b[0m\u001b[1;36m89\u001b[0m\u001b[1;33m)\u001b[0m\u001b[1;33m\u001b[0m\u001b[1;33m\u001b[0m\u001b[0m\n\u001b[0m",
      "\u001b[1;32m~\\anaconda3\\lib\\site-packages\\pandas\\plotting\\_core.py\u001b[0m in \u001b[0;36mhist_series\u001b[1;34m(self, by, ax, grid, xlabelsize, xrot, ylabelsize, yrot, figsize, bins, backend, legend, **kwargs)\u001b[0m\n\u001b[0;32m     83\u001b[0m     \"\"\"\n\u001b[0;32m     84\u001b[0m     \u001b[0mplot_backend\u001b[0m \u001b[1;33m=\u001b[0m \u001b[0m_get_plot_backend\u001b[0m\u001b[1;33m(\u001b[0m\u001b[0mbackend\u001b[0m\u001b[1;33m)\u001b[0m\u001b[1;33m\u001b[0m\u001b[1;33m\u001b[0m\u001b[0m\n\u001b[1;32m---> 85\u001b[1;33m     return plot_backend.hist_series(\n\u001b[0m\u001b[0;32m     86\u001b[0m         \u001b[0mself\u001b[0m\u001b[1;33m,\u001b[0m\u001b[1;33m\u001b[0m\u001b[1;33m\u001b[0m\u001b[0m\n\u001b[0;32m     87\u001b[0m         \u001b[0mby\u001b[0m\u001b[1;33m=\u001b[0m\u001b[0mby\u001b[0m\u001b[1;33m,\u001b[0m\u001b[1;33m\u001b[0m\u001b[1;33m\u001b[0m\u001b[0m\n",
      "\u001b[1;32m~\\anaconda3\\lib\\site-packages\\pandas\\plotting\\_matplotlib\\hist.py\u001b[0m in \u001b[0;36mhist_series\u001b[1;34m(self, by, ax, grid, xlabelsize, xrot, ylabelsize, yrot, figsize, bins, legend, **kwds)\u001b[0m\n\u001b[0;32m    336\u001b[0m         \u001b[1;32mif\u001b[0m \u001b[0mlegend\u001b[0m\u001b[1;33m:\u001b[0m\u001b[1;33m\u001b[0m\u001b[1;33m\u001b[0m\u001b[0m\n\u001b[0;32m    337\u001b[0m             \u001b[0mkwds\u001b[0m\u001b[1;33m[\u001b[0m\u001b[1;34m\"label\"\u001b[0m\u001b[1;33m]\u001b[0m \u001b[1;33m=\u001b[0m \u001b[0mself\u001b[0m\u001b[1;33m.\u001b[0m\u001b[0mname\u001b[0m\u001b[1;33m\u001b[0m\u001b[1;33m\u001b[0m\u001b[0m\n\u001b[1;32m--> 338\u001b[1;33m         \u001b[0max\u001b[0m\u001b[1;33m.\u001b[0m\u001b[0mhist\u001b[0m\u001b[1;33m(\u001b[0m\u001b[0mvalues\u001b[0m\u001b[1;33m,\u001b[0m \u001b[0mbins\u001b[0m\u001b[1;33m=\u001b[0m\u001b[0mbins\u001b[0m\u001b[1;33m,\u001b[0m \u001b[1;33m**\u001b[0m\u001b[0mkwds\u001b[0m\u001b[1;33m)\u001b[0m\u001b[1;33m\u001b[0m\u001b[1;33m\u001b[0m\u001b[0m\n\u001b[0m\u001b[0;32m    339\u001b[0m         \u001b[1;32mif\u001b[0m \u001b[0mlegend\u001b[0m\u001b[1;33m:\u001b[0m\u001b[1;33m\u001b[0m\u001b[1;33m\u001b[0m\u001b[0m\n\u001b[0;32m    340\u001b[0m             \u001b[0max\u001b[0m\u001b[1;33m.\u001b[0m\u001b[0mlegend\u001b[0m\u001b[1;33m(\u001b[0m\u001b[1;33m)\u001b[0m\u001b[1;33m\u001b[0m\u001b[1;33m\u001b[0m\u001b[0m\n",
      "\u001b[1;32m~\\anaconda3\\lib\\site-packages\\matplotlib\\__init__.py\u001b[0m in \u001b[0;36minner\u001b[1;34m(ax, data, *args, **kwargs)\u001b[0m\n\u001b[0;32m   1350\u001b[0m     \u001b[1;32mdef\u001b[0m \u001b[0minner\u001b[0m\u001b[1;33m(\u001b[0m\u001b[0max\u001b[0m\u001b[1;33m,\u001b[0m \u001b[1;33m*\u001b[0m\u001b[0margs\u001b[0m\u001b[1;33m,\u001b[0m \u001b[0mdata\u001b[0m\u001b[1;33m=\u001b[0m\u001b[1;32mNone\u001b[0m\u001b[1;33m,\u001b[0m \u001b[1;33m**\u001b[0m\u001b[0mkwargs\u001b[0m\u001b[1;33m)\u001b[0m\u001b[1;33m:\u001b[0m\u001b[1;33m\u001b[0m\u001b[1;33m\u001b[0m\u001b[0m\n\u001b[0;32m   1351\u001b[0m         \u001b[1;32mif\u001b[0m \u001b[0mdata\u001b[0m \u001b[1;32mis\u001b[0m \u001b[1;32mNone\u001b[0m\u001b[1;33m:\u001b[0m\u001b[1;33m\u001b[0m\u001b[1;33m\u001b[0m\u001b[0m\n\u001b[1;32m-> 1352\u001b[1;33m             \u001b[1;32mreturn\u001b[0m \u001b[0mfunc\u001b[0m\u001b[1;33m(\u001b[0m\u001b[0max\u001b[0m\u001b[1;33m,\u001b[0m \u001b[1;33m*\u001b[0m\u001b[0mmap\u001b[0m\u001b[1;33m(\u001b[0m\u001b[0msanitize_sequence\u001b[0m\u001b[1;33m,\u001b[0m \u001b[0margs\u001b[0m\u001b[1;33m)\u001b[0m\u001b[1;33m,\u001b[0m \u001b[1;33m**\u001b[0m\u001b[0mkwargs\u001b[0m\u001b[1;33m)\u001b[0m\u001b[1;33m\u001b[0m\u001b[1;33m\u001b[0m\u001b[0m\n\u001b[0m\u001b[0;32m   1353\u001b[0m \u001b[1;33m\u001b[0m\u001b[0m\n\u001b[0;32m   1354\u001b[0m         \u001b[0mbound\u001b[0m \u001b[1;33m=\u001b[0m \u001b[0mnew_sig\u001b[0m\u001b[1;33m.\u001b[0m\u001b[0mbind\u001b[0m\u001b[1;33m(\u001b[0m\u001b[0max\u001b[0m\u001b[1;33m,\u001b[0m \u001b[1;33m*\u001b[0m\u001b[0margs\u001b[0m\u001b[1;33m,\u001b[0m \u001b[1;33m**\u001b[0m\u001b[0mkwargs\u001b[0m\u001b[1;33m)\u001b[0m\u001b[1;33m\u001b[0m\u001b[1;33m\u001b[0m\u001b[0m\n",
      "\u001b[1;32m~\\anaconda3\\lib\\site-packages\\matplotlib\\axes\\_axes.py\u001b[0m in \u001b[0;36mhist\u001b[1;34m(self, x, bins, range, density, weights, cumulative, bottom, histtype, align, orientation, rwidth, log, color, label, stacked, **kwargs)\u001b[0m\n\u001b[0;32m   6708\u001b[0m                     \u001b[1;31m# python's min/max ignore nan,\u001b[0m\u001b[1;33m\u001b[0m\u001b[1;33m\u001b[0m\u001b[1;33m\u001b[0m\u001b[0m\n\u001b[0;32m   6709\u001b[0m                     \u001b[1;31m# np.minnan returns nan for all nan input\u001b[0m\u001b[1;33m\u001b[0m\u001b[1;33m\u001b[0m\u001b[1;33m\u001b[0m\u001b[0m\n\u001b[1;32m-> 6710\u001b[1;33m                     \u001b[0mxmin\u001b[0m \u001b[1;33m=\u001b[0m \u001b[0mmin\u001b[0m\u001b[1;33m(\u001b[0m\u001b[0mxmin\u001b[0m\u001b[1;33m,\u001b[0m \u001b[0mnp\u001b[0m\u001b[1;33m.\u001b[0m\u001b[0mnanmin\u001b[0m\u001b[1;33m(\u001b[0m\u001b[0mxi\u001b[0m\u001b[1;33m)\u001b[0m\u001b[1;33m)\u001b[0m\u001b[1;33m\u001b[0m\u001b[1;33m\u001b[0m\u001b[0m\n\u001b[0m\u001b[0;32m   6711\u001b[0m                     \u001b[0mxmax\u001b[0m \u001b[1;33m=\u001b[0m \u001b[0mmax\u001b[0m\u001b[1;33m(\u001b[0m\u001b[0mxmax\u001b[0m\u001b[1;33m,\u001b[0m \u001b[0mnp\u001b[0m\u001b[1;33m.\u001b[0m\u001b[0mnanmax\u001b[0m\u001b[1;33m(\u001b[0m\u001b[0mxi\u001b[0m\u001b[1;33m)\u001b[0m\u001b[1;33m)\u001b[0m\u001b[1;33m\u001b[0m\u001b[1;33m\u001b[0m\u001b[0m\n\u001b[0;32m   6712\u001b[0m             \u001b[1;32mif\u001b[0m \u001b[0mxmin\u001b[0m \u001b[1;33m<=\u001b[0m \u001b[0mxmax\u001b[0m\u001b[1;33m:\u001b[0m  \u001b[1;31m# Only happens if we have seen a finite value.\u001b[0m\u001b[1;33m\u001b[0m\u001b[1;33m\u001b[0m\u001b[0m\n",
      "\u001b[1;31mTypeError\u001b[0m: '<' not supported between instances of 'Rolling' and 'float'"
     ]
    }
   ],
   "source": [
    "dates.events_ma.hist(bins=89)"
   ]
  },
  {
   "cell_type": "code",
   "execution_count": 40,
   "metadata": {},
   "outputs": [
    {
     "output_type": "execute_result",
     "data": {
      "text/plain": [
       "<AxesSubplot:>"
      ]
     },
     "metadata": {},
     "execution_count": 40
    },
    {
     "output_type": "display_data",
     "data": {
      "text/plain": "<Figure size 432x288 with 1 Axes>",
      "image/svg+xml": "<?xml version=\"1.0\" encoding=\"utf-8\" standalone=\"no\"?>\r\n<!DOCTYPE svg PUBLIC \"-//W3C//DTD SVG 1.1//EN\"\r\n  \"http://www.w3.org/Graphics/SVG/1.1/DTD/svg11.dtd\">\r\n<svg height=\"248.518125pt\" version=\"1.1\" viewBox=\"0 0 362.5625 248.518125\" width=\"362.5625pt\" xmlns=\"http://www.w3.org/2000/svg\" xmlns:xlink=\"http://www.w3.org/1999/xlink\">\r\n <metadata>\r\n  <rdf:RDF xmlns:cc=\"http://creativecommons.org/ns#\" xmlns:dc=\"http://purl.org/dc/elements/1.1/\" xmlns:rdf=\"http://www.w3.org/1999/02/22-rdf-syntax-ns#\">\r\n   <cc:Work>\r\n    <dc:type rdf:resource=\"http://purl.org/dc/dcmitype/StillImage\"/>\r\n    <dc:date>2021-06-19T16:15:02.714745</dc:date>\r\n    <dc:format>image/svg+xml</dc:format>\r\n    <dc:creator>\r\n     <cc:Agent>\r\n      <dc:title>Matplotlib v3.4.1, https://matplotlib.org/</dc:title>\r\n     </cc:Agent>\r\n    </dc:creator>\r\n   </cc:Work>\r\n  </rdf:RDF>\r\n </metadata>\r\n <defs>\r\n  <style type=\"text/css\">*{stroke-linecap:butt;stroke-linejoin:round;}</style>\r\n </defs>\r\n <g id=\"figure_1\">\r\n  <g id=\"patch_1\">\r\n   <path d=\"M 0 248.518125 \r\nL 362.5625 248.518125 \r\nL 362.5625 0 \r\nL 0 0 \r\nz\r\n\" style=\"fill:none;\"/>\r\n  </g>\r\n  <g id=\"axes_1\">\r\n   <g id=\"patch_2\">\r\n    <path d=\"M 20.5625 224.64 \r\nL 355.3625 224.64 \r\nL 355.3625 7.2 \r\nL 20.5625 7.2 \r\nz\r\n\" style=\"fill:#ffffff;\"/>\r\n   </g>\r\n   <g id=\"patch_3\">\r\n    <path clip-path=\"url(#p2c3e302240)\" d=\"M 35.780682 224.64 \r\nL 39.200498 224.64 \r\nL 39.200498 100.388571 \r\nL 35.780682 100.388571 \r\nz\r\n\" style=\"fill:#1f77b4;\"/>\r\n   </g>\r\n   <g id=\"patch_4\">\r\n    <path clip-path=\"url(#p2c3e302240)\" d=\"M 39.200498 224.64 \r\nL 42.620314 224.64 \r\nL 42.620314 183.222857 \r\nL 39.200498 183.222857 \r\nz\r\n\" style=\"fill:#1f77b4;\"/>\r\n   </g>\r\n   <g id=\"patch_5\">\r\n    <path clip-path=\"url(#p2c3e302240)\" d=\"M 42.620314 224.64 \r\nL 46.04013 224.64 \r\nL 46.04013 183.222857 \r\nL 42.620314 183.222857 \r\nz\r\n\" style=\"fill:#1f77b4;\"/>\r\n   </g>\r\n   <g id=\"patch_6\">\r\n    <path clip-path=\"url(#p2c3e302240)\" d=\"M 46.04013 224.64 \r\nL 49.459946 224.64 \r\nL 49.459946 141.805714 \r\nL 46.04013 141.805714 \r\nz\r\n\" style=\"fill:#1f77b4;\"/>\r\n   </g>\r\n   <g id=\"patch_7\">\r\n    <path clip-path=\"url(#p2c3e302240)\" d=\"M 49.459946 224.64 \r\nL 52.879763 224.64 \r\nL 52.879763 141.805714 \r\nL 49.459946 141.805714 \r\nz\r\n\" style=\"fill:#1f77b4;\"/>\r\n   </g>\r\n   <g id=\"patch_8\">\r\n    <path clip-path=\"url(#p2c3e302240)\" d=\"M 52.879763 224.64 \r\nL 56.299579 224.64 \r\nL 56.299579 224.64 \r\nL 52.879763 224.64 \r\nz\r\n\" style=\"fill:#1f77b4;\"/>\r\n   </g>\r\n   <g id=\"patch_9\">\r\n    <path clip-path=\"url(#p2c3e302240)\" d=\"M 56.299579 224.64 \r\nL 59.719395 224.64 \r\nL 59.719395 224.64 \r\nL 56.299579 224.64 \r\nz\r\n\" style=\"fill:#1f77b4;\"/>\r\n   </g>\r\n   <g id=\"patch_10\">\r\n    <path clip-path=\"url(#p2c3e302240)\" d=\"M 59.719395 224.64 \r\nL 63.139211 224.64 \r\nL 63.139211 141.805714 \r\nL 59.719395 141.805714 \r\nz\r\n\" style=\"fill:#1f77b4;\"/>\r\n   </g>\r\n   <g id=\"patch_11\">\r\n    <path clip-path=\"url(#p2c3e302240)\" d=\"M 63.139211 224.64 \r\nL 66.559027 224.64 \r\nL 66.559027 224.64 \r\nL 63.139211 224.64 \r\nz\r\n\" style=\"fill:#1f77b4;\"/>\r\n   </g>\r\n   <g id=\"patch_12\">\r\n    <path clip-path=\"url(#p2c3e302240)\" d=\"M 66.559027 224.64 \r\nL 69.978843 224.64 \r\nL 69.978843 141.805714 \r\nL 66.559027 141.805714 \r\nz\r\n\" style=\"fill:#1f77b4;\"/>\r\n   </g>\r\n   <g id=\"patch_13\">\r\n    <path clip-path=\"url(#p2c3e302240)\" d=\"M 69.978843 224.64 \r\nL 73.398659 224.64 \r\nL 73.398659 141.805714 \r\nL 69.978843 141.805714 \r\nz\r\n\" style=\"fill:#1f77b4;\"/>\r\n   </g>\r\n   <g id=\"patch_14\">\r\n    <path clip-path=\"url(#p2c3e302240)\" d=\"M 73.398659 224.64 \r\nL 76.818475 224.64 \r\nL 76.818475 183.222857 \r\nL 73.398659 183.222857 \r\nz\r\n\" style=\"fill:#1f77b4;\"/>\r\n   </g>\r\n   <g id=\"patch_15\">\r\n    <path clip-path=\"url(#p2c3e302240)\" d=\"M 76.818475 224.64 \r\nL 80.238292 224.64 \r\nL 80.238292 183.222857 \r\nL 76.818475 183.222857 \r\nz\r\n\" style=\"fill:#1f77b4;\"/>\r\n   </g>\r\n   <g id=\"patch_16\">\r\n    <path clip-path=\"url(#p2c3e302240)\" d=\"M 80.238292 224.64 \r\nL 83.658108 224.64 \r\nL 83.658108 183.222857 \r\nL 80.238292 183.222857 \r\nz\r\n\" style=\"fill:#1f77b4;\"/>\r\n   </g>\r\n   <g id=\"patch_17\">\r\n    <path clip-path=\"url(#p2c3e302240)\" d=\"M 83.658108 224.64 \r\nL 87.077924 224.64 \r\nL 87.077924 224.64 \r\nL 83.658108 224.64 \r\nz\r\n\" style=\"fill:#1f77b4;\"/>\r\n   </g>\r\n   <g id=\"patch_18\">\r\n    <path clip-path=\"url(#p2c3e302240)\" d=\"M 87.077924 224.64 \r\nL 90.49774 224.64 \r\nL 90.49774 224.64 \r\nL 87.077924 224.64 \r\nz\r\n\" style=\"fill:#1f77b4;\"/>\r\n   </g>\r\n   <g id=\"patch_19\">\r\n    <path clip-path=\"url(#p2c3e302240)\" d=\"M 90.49774 224.64 \r\nL 93.917556 224.64 \r\nL 93.917556 183.222857 \r\nL 90.49774 183.222857 \r\nz\r\n\" style=\"fill:#1f77b4;\"/>\r\n   </g>\r\n   <g id=\"patch_20\">\r\n    <path clip-path=\"url(#p2c3e302240)\" d=\"M 93.917556 224.64 \r\nL 97.337372 224.64 \r\nL 97.337372 183.222857 \r\nL 93.917556 183.222857 \r\nz\r\n\" style=\"fill:#1f77b4;\"/>\r\n   </g>\r\n   <g id=\"patch_21\">\r\n    <path clip-path=\"url(#p2c3e302240)\" d=\"M 97.337372 224.64 \r\nL 100.757188 224.64 \r\nL 100.757188 141.805714 \r\nL 97.337372 141.805714 \r\nz\r\n\" style=\"fill:#1f77b4;\"/>\r\n   </g>\r\n   <g id=\"patch_22\">\r\n    <path clip-path=\"url(#p2c3e302240)\" d=\"M 100.757188 224.64 \r\nL 104.177005 224.64 \r\nL 104.177005 141.805714 \r\nL 100.757188 141.805714 \r\nz\r\n\" style=\"fill:#1f77b4;\"/>\r\n   </g>\r\n   <g id=\"patch_23\">\r\n    <path clip-path=\"url(#p2c3e302240)\" d=\"M 104.177005 224.64 \r\nL 107.596821 224.64 \r\nL 107.596821 141.805714 \r\nL 104.177005 141.805714 \r\nz\r\n\" style=\"fill:#1f77b4;\"/>\r\n   </g>\r\n   <g id=\"patch_24\">\r\n    <path clip-path=\"url(#p2c3e302240)\" d=\"M 107.596821 224.64 \r\nL 111.016637 224.64 \r\nL 111.016637 58.971429 \r\nL 107.596821 58.971429 \r\nz\r\n\" style=\"fill:#1f77b4;\"/>\r\n   </g>\r\n   <g id=\"patch_25\">\r\n    <path clip-path=\"url(#p2c3e302240)\" d=\"M 111.016637 224.64 \r\nL 114.436453 224.64 \r\nL 114.436453 141.805714 \r\nL 111.016637 141.805714 \r\nz\r\n\" style=\"fill:#1f77b4;\"/>\r\n   </g>\r\n   <g id=\"patch_26\">\r\n    <path clip-path=\"url(#p2c3e302240)\" d=\"M 114.436453 224.64 \r\nL 117.856269 224.64 \r\nL 117.856269 224.64 \r\nL 114.436453 224.64 \r\nz\r\n\" style=\"fill:#1f77b4;\"/>\r\n   </g>\r\n   <g id=\"patch_27\">\r\n    <path clip-path=\"url(#p2c3e302240)\" d=\"M 117.856269 224.64 \r\nL 121.276085 224.64 \r\nL 121.276085 224.64 \r\nL 117.856269 224.64 \r\nz\r\n\" style=\"fill:#1f77b4;\"/>\r\n   </g>\r\n   <g id=\"patch_28\">\r\n    <path clip-path=\"url(#p2c3e302240)\" d=\"M 121.276085 224.64 \r\nL 124.695901 224.64 \r\nL 124.695901 183.222857 \r\nL 121.276085 183.222857 \r\nz\r\n\" style=\"fill:#1f77b4;\"/>\r\n   </g>\r\n   <g id=\"patch_29\">\r\n    <path clip-path=\"url(#p2c3e302240)\" d=\"M 124.695901 224.64 \r\nL 128.115718 224.64 \r\nL 128.115718 183.222857 \r\nL 124.695901 183.222857 \r\nz\r\n\" style=\"fill:#1f77b4;\"/>\r\n   </g>\r\n   <g id=\"patch_30\">\r\n    <path clip-path=\"url(#p2c3e302240)\" d=\"M 128.115718 224.64 \r\nL 131.535534 224.64 \r\nL 131.535534 224.64 \r\nL 128.115718 224.64 \r\nz\r\n\" style=\"fill:#1f77b4;\"/>\r\n   </g>\r\n   <g id=\"patch_31\">\r\n    <path clip-path=\"url(#p2c3e302240)\" d=\"M 131.535534 224.64 \r\nL 134.95535 224.64 \r\nL 134.95535 183.222857 \r\nL 131.535534 183.222857 \r\nz\r\n\" style=\"fill:#1f77b4;\"/>\r\n   </g>\r\n   <g id=\"patch_32\">\r\n    <path clip-path=\"url(#p2c3e302240)\" d=\"M 134.95535 224.64 \r\nL 138.375166 224.64 \r\nL 138.375166 224.64 \r\nL 134.95535 224.64 \r\nz\r\n\" style=\"fill:#1f77b4;\"/>\r\n   </g>\r\n   <g id=\"patch_33\">\r\n    <path clip-path=\"url(#p2c3e302240)\" d=\"M 138.375166 224.64 \r\nL 141.794982 224.64 \r\nL 141.794982 224.64 \r\nL 138.375166 224.64 \r\nz\r\n\" style=\"fill:#1f77b4;\"/>\r\n   </g>\r\n   <g id=\"patch_34\">\r\n    <path clip-path=\"url(#p2c3e302240)\" d=\"M 141.794982 224.64 \r\nL 145.214798 224.64 \r\nL 145.214798 58.971429 \r\nL 141.794982 58.971429 \r\nz\r\n\" style=\"fill:#1f77b4;\"/>\r\n   </g>\r\n   <g id=\"patch_35\">\r\n    <path clip-path=\"url(#p2c3e302240)\" d=\"M 145.214798 224.64 \r\nL 148.634614 224.64 \r\nL 148.634614 224.64 \r\nL 145.214798 224.64 \r\nz\r\n\" style=\"fill:#1f77b4;\"/>\r\n   </g>\r\n   <g id=\"patch_36\">\r\n    <path clip-path=\"url(#p2c3e302240)\" d=\"M 148.634614 224.64 \r\nL 152.054431 224.64 \r\nL 152.054431 183.222857 \r\nL 148.634614 183.222857 \r\nz\r\n\" style=\"fill:#1f77b4;\"/>\r\n   </g>\r\n   <g id=\"patch_37\">\r\n    <path clip-path=\"url(#p2c3e302240)\" d=\"M 152.054431 224.64 \r\nL 155.474247 224.64 \r\nL 155.474247 224.64 \r\nL 152.054431 224.64 \r\nz\r\n\" style=\"fill:#1f77b4;\"/>\r\n   </g>\r\n   <g id=\"patch_38\">\r\n    <path clip-path=\"url(#p2c3e302240)\" d=\"M 155.474247 224.64 \r\nL 158.894063 224.64 \r\nL 158.894063 224.64 \r\nL 155.474247 224.64 \r\nz\r\n\" style=\"fill:#1f77b4;\"/>\r\n   </g>\r\n   <g id=\"patch_39\">\r\n    <path clip-path=\"url(#p2c3e302240)\" d=\"M 158.894063 224.64 \r\nL 162.313879 224.64 \r\nL 162.313879 183.222857 \r\nL 158.894063 183.222857 \r\nz\r\n\" style=\"fill:#1f77b4;\"/>\r\n   </g>\r\n   <g id=\"patch_40\">\r\n    <path clip-path=\"url(#p2c3e302240)\" d=\"M 162.313879 224.64 \r\nL 165.733695 224.64 \r\nL 165.733695 224.64 \r\nL 162.313879 224.64 \r\nz\r\n\" style=\"fill:#1f77b4;\"/>\r\n   </g>\r\n   <g id=\"patch_41\">\r\n    <path clip-path=\"url(#p2c3e302240)\" d=\"M 165.733695 224.64 \r\nL 169.153511 224.64 \r\nL 169.153511 224.64 \r\nL 165.733695 224.64 \r\nz\r\n\" style=\"fill:#1f77b4;\"/>\r\n   </g>\r\n   <g id=\"patch_42\">\r\n    <path clip-path=\"url(#p2c3e302240)\" d=\"M 169.153511 224.64 \r\nL 172.573327 224.64 \r\nL 172.573327 183.222857 \r\nL 169.153511 183.222857 \r\nz\r\n\" style=\"fill:#1f77b4;\"/>\r\n   </g>\r\n   <g id=\"patch_43\">\r\n    <path clip-path=\"url(#p2c3e302240)\" d=\"M 172.573327 224.64 \r\nL 175.993144 224.64 \r\nL 175.993144 183.222857 \r\nL 172.573327 183.222857 \r\nz\r\n\" style=\"fill:#1f77b4;\"/>\r\n   </g>\r\n   <g id=\"patch_44\">\r\n    <path clip-path=\"url(#p2c3e302240)\" d=\"M 175.993144 224.64 \r\nL 179.41296 224.64 \r\nL 179.41296 58.971429 \r\nL 175.993144 58.971429 \r\nz\r\n\" style=\"fill:#1f77b4;\"/>\r\n   </g>\r\n   <g id=\"patch_45\">\r\n    <path clip-path=\"url(#p2c3e302240)\" d=\"M 179.41296 224.64 \r\nL 182.832776 224.64 \r\nL 182.832776 224.64 \r\nL 179.41296 224.64 \r\nz\r\n\" style=\"fill:#1f77b4;\"/>\r\n   </g>\r\n   <g id=\"patch_46\">\r\n    <path clip-path=\"url(#p2c3e302240)\" d=\"M 182.832776 224.64 \r\nL 186.252592 224.64 \r\nL 186.252592 183.222857 \r\nL 182.832776 183.222857 \r\nz\r\n\" style=\"fill:#1f77b4;\"/>\r\n   </g>\r\n   <g id=\"patch_47\">\r\n    <path clip-path=\"url(#p2c3e302240)\" d=\"M 186.252592 224.64 \r\nL 189.672408 224.64 \r\nL 189.672408 141.805714 \r\nL 186.252592 141.805714 \r\nz\r\n\" style=\"fill:#1f77b4;\"/>\r\n   </g>\r\n   <g id=\"patch_48\">\r\n    <path clip-path=\"url(#p2c3e302240)\" d=\"M 189.672408 224.64 \r\nL 193.092224 224.64 \r\nL 193.092224 183.222857 \r\nL 189.672408 183.222857 \r\nz\r\n\" style=\"fill:#1f77b4;\"/>\r\n   </g>\r\n   <g id=\"patch_49\">\r\n    <path clip-path=\"url(#p2c3e302240)\" d=\"M 193.092224 224.64 \r\nL 196.51204 224.64 \r\nL 196.51204 224.64 \r\nL 193.092224 224.64 \r\nz\r\n\" style=\"fill:#1f77b4;\"/>\r\n   </g>\r\n   <g id=\"patch_50\">\r\n    <path clip-path=\"url(#p2c3e302240)\" d=\"M 196.51204 224.64 \r\nL 199.931856 224.64 \r\nL 199.931856 141.805714 \r\nL 196.51204 141.805714 \r\nz\r\n\" style=\"fill:#1f77b4;\"/>\r\n   </g>\r\n   <g id=\"patch_51\">\r\n    <path clip-path=\"url(#p2c3e302240)\" d=\"M 199.931856 224.64 \r\nL 203.351673 224.64 \r\nL 203.351673 141.805714 \r\nL 199.931856 141.805714 \r\nz\r\n\" style=\"fill:#1f77b4;\"/>\r\n   </g>\r\n   <g id=\"patch_52\">\r\n    <path clip-path=\"url(#p2c3e302240)\" d=\"M 203.351673 224.64 \r\nL 206.771489 224.64 \r\nL 206.771489 224.64 \r\nL 203.351673 224.64 \r\nz\r\n\" style=\"fill:#1f77b4;\"/>\r\n   </g>\r\n   <g id=\"patch_53\">\r\n    <path clip-path=\"url(#p2c3e302240)\" d=\"M 206.771489 224.64 \r\nL 210.191305 224.64 \r\nL 210.191305 183.222857 \r\nL 206.771489 183.222857 \r\nz\r\n\" style=\"fill:#1f77b4;\"/>\r\n   </g>\r\n   <g id=\"patch_54\">\r\n    <path clip-path=\"url(#p2c3e302240)\" d=\"M 210.191305 224.64 \r\nL 213.611121 224.64 \r\nL 213.611121 183.222857 \r\nL 210.191305 183.222857 \r\nz\r\n\" style=\"fill:#1f77b4;\"/>\r\n   </g>\r\n   <g id=\"patch_55\">\r\n    <path clip-path=\"url(#p2c3e302240)\" d=\"M 213.611121 224.64 \r\nL 217.030937 224.64 \r\nL 217.030937 183.222857 \r\nL 213.611121 183.222857 \r\nz\r\n\" style=\"fill:#1f77b4;\"/>\r\n   </g>\r\n   <g id=\"patch_56\">\r\n    <path clip-path=\"url(#p2c3e302240)\" d=\"M 217.030937 224.64 \r\nL 220.450753 224.64 \r\nL 220.450753 224.64 \r\nL 217.030937 224.64 \r\nz\r\n\" style=\"fill:#1f77b4;\"/>\r\n   </g>\r\n   <g id=\"patch_57\">\r\n    <path clip-path=\"url(#p2c3e302240)\" d=\"M 220.450753 224.64 \r\nL 223.870569 224.64 \r\nL 223.870569 183.222857 \r\nL 220.450753 183.222857 \r\nz\r\n\" style=\"fill:#1f77b4;\"/>\r\n   </g>\r\n   <g id=\"patch_58\">\r\n    <path clip-path=\"url(#p2c3e302240)\" d=\"M 223.870569 224.64 \r\nL 227.290386 224.64 \r\nL 227.290386 224.64 \r\nL 223.870569 224.64 \r\nz\r\n\" style=\"fill:#1f77b4;\"/>\r\n   </g>\r\n   <g id=\"patch_59\">\r\n    <path clip-path=\"url(#p2c3e302240)\" d=\"M 227.290386 224.64 \r\nL 230.710202 224.64 \r\nL 230.710202 224.64 \r\nL 227.290386 224.64 \r\nz\r\n\" style=\"fill:#1f77b4;\"/>\r\n   </g>\r\n   <g id=\"patch_60\">\r\n    <path clip-path=\"url(#p2c3e302240)\" d=\"M 230.710202 224.64 \r\nL 234.130018 224.64 \r\nL 234.130018 141.805714 \r\nL 230.710202 141.805714 \r\nz\r\n\" style=\"fill:#1f77b4;\"/>\r\n   </g>\r\n   <g id=\"patch_61\">\r\n    <path clip-path=\"url(#p2c3e302240)\" d=\"M 234.130018 224.64 \r\nL 237.549834 224.64 \r\nL 237.549834 224.64 \r\nL 234.130018 224.64 \r\nz\r\n\" style=\"fill:#1f77b4;\"/>\r\n   </g>\r\n   <g id=\"patch_62\">\r\n    <path clip-path=\"url(#p2c3e302240)\" d=\"M 237.549834 224.64 \r\nL 240.96965 224.64 \r\nL 240.96965 224.64 \r\nL 237.549834 224.64 \r\nz\r\n\" style=\"fill:#1f77b4;\"/>\r\n   </g>\r\n   <g id=\"patch_63\">\r\n    <path clip-path=\"url(#p2c3e302240)\" d=\"M 240.96965 224.64 \r\nL 244.389466 224.64 \r\nL 244.389466 224.64 \r\nL 240.96965 224.64 \r\nz\r\n\" style=\"fill:#1f77b4;\"/>\r\n   </g>\r\n   <g id=\"patch_64\">\r\n    <path clip-path=\"url(#p2c3e302240)\" d=\"M 244.389466 224.64 \r\nL 247.809282 224.64 \r\nL 247.809282 224.64 \r\nL 244.389466 224.64 \r\nz\r\n\" style=\"fill:#1f77b4;\"/>\r\n   </g>\r\n   <g id=\"patch_65\">\r\n    <path clip-path=\"url(#p2c3e302240)\" d=\"M 247.809282 224.64 \r\nL 251.229099 224.64 \r\nL 251.229099 58.971429 \r\nL 247.809282 58.971429 \r\nz\r\n\" style=\"fill:#1f77b4;\"/>\r\n   </g>\r\n   <g id=\"patch_66\">\r\n    <path clip-path=\"url(#p2c3e302240)\" d=\"M 251.229099 224.64 \r\nL 254.648915 224.64 \r\nL 254.648915 224.64 \r\nL 251.229099 224.64 \r\nz\r\n\" style=\"fill:#1f77b4;\"/>\r\n   </g>\r\n   <g id=\"patch_67\">\r\n    <path clip-path=\"url(#p2c3e302240)\" d=\"M 254.648915 224.64 \r\nL 258.068731 224.64 \r\nL 258.068731 224.64 \r\nL 254.648915 224.64 \r\nz\r\n\" style=\"fill:#1f77b4;\"/>\r\n   </g>\r\n   <g id=\"patch_68\">\r\n    <path clip-path=\"url(#p2c3e302240)\" d=\"M 258.068731 224.64 \r\nL 261.488547 224.64 \r\nL 261.488547 183.222857 \r\nL 258.068731 183.222857 \r\nz\r\n\" style=\"fill:#1f77b4;\"/>\r\n   </g>\r\n   <g id=\"patch_69\">\r\n    <path clip-path=\"url(#p2c3e302240)\" d=\"M 261.488547 224.64 \r\nL 264.908363 224.64 \r\nL 264.908363 224.64 \r\nL 261.488547 224.64 \r\nz\r\n\" style=\"fill:#1f77b4;\"/>\r\n   </g>\r\n   <g id=\"patch_70\">\r\n    <path clip-path=\"url(#p2c3e302240)\" d=\"M 264.908363 224.64 \r\nL 268.328179 224.64 \r\nL 268.328179 183.222857 \r\nL 264.908363 183.222857 \r\nz\r\n\" style=\"fill:#1f77b4;\"/>\r\n   </g>\r\n   <g id=\"patch_71\">\r\n    <path clip-path=\"url(#p2c3e302240)\" d=\"M 268.328179 224.64 \r\nL 271.747995 224.64 \r\nL 271.747995 58.971429 \r\nL 268.328179 58.971429 \r\nz\r\n\" style=\"fill:#1f77b4;\"/>\r\n   </g>\r\n   <g id=\"patch_72\">\r\n    <path clip-path=\"url(#p2c3e302240)\" d=\"M 271.747995 224.64 \r\nL 275.167812 224.64 \r\nL 275.167812 224.64 \r\nL 271.747995 224.64 \r\nz\r\n\" style=\"fill:#1f77b4;\"/>\r\n   </g>\r\n   <g id=\"patch_73\">\r\n    <path clip-path=\"url(#p2c3e302240)\" d=\"M 275.167812 224.64 \r\nL 278.587628 224.64 \r\nL 278.587628 183.222857 \r\nL 275.167812 183.222857 \r\nz\r\n\" style=\"fill:#1f77b4;\"/>\r\n   </g>\r\n   <g id=\"patch_74\">\r\n    <path clip-path=\"url(#p2c3e302240)\" d=\"M 278.587628 224.64 \r\nL 282.007444 224.64 \r\nL 282.007444 224.64 \r\nL 278.587628 224.64 \r\nz\r\n\" style=\"fill:#1f77b4;\"/>\r\n   </g>\r\n   <g id=\"patch_75\">\r\n    <path clip-path=\"url(#p2c3e302240)\" d=\"M 282.007444 224.64 \r\nL 285.42726 224.64 \r\nL 285.42726 224.64 \r\nL 282.007444 224.64 \r\nz\r\n\" style=\"fill:#1f77b4;\"/>\r\n   </g>\r\n   <g id=\"patch_76\">\r\n    <path clip-path=\"url(#p2c3e302240)\" d=\"M 285.42726 224.64 \r\nL 288.847076 224.64 \r\nL 288.847076 141.805714 \r\nL 285.42726 141.805714 \r\nz\r\n\" style=\"fill:#1f77b4;\"/>\r\n   </g>\r\n   <g id=\"patch_77\">\r\n    <path clip-path=\"url(#p2c3e302240)\" d=\"M 288.847076 224.64 \r\nL 292.266892 224.64 \r\nL 292.266892 183.222857 \r\nL 288.847076 183.222857 \r\nz\r\n\" style=\"fill:#1f77b4;\"/>\r\n   </g>\r\n   <g id=\"patch_78\">\r\n    <path clip-path=\"url(#p2c3e302240)\" d=\"M 292.266892 224.64 \r\nL 295.686708 224.64 \r\nL 295.686708 224.64 \r\nL 292.266892 224.64 \r\nz\r\n\" style=\"fill:#1f77b4;\"/>\r\n   </g>\r\n   <g id=\"patch_79\">\r\n    <path clip-path=\"url(#p2c3e302240)\" d=\"M 295.686708 224.64 \r\nL 299.106525 224.64 \r\nL 299.106525 224.64 \r\nL 295.686708 224.64 \r\nz\r\n\" style=\"fill:#1f77b4;\"/>\r\n   </g>\r\n   <g id=\"patch_80\">\r\n    <path clip-path=\"url(#p2c3e302240)\" d=\"M 299.106525 224.64 \r\nL 302.526341 224.64 \r\nL 302.526341 141.805714 \r\nL 299.106525 141.805714 \r\nz\r\n\" style=\"fill:#1f77b4;\"/>\r\n   </g>\r\n   <g id=\"patch_81\">\r\n    <path clip-path=\"url(#p2c3e302240)\" d=\"M 302.526341 224.64 \r\nL 305.946157 224.64 \r\nL 305.946157 224.64 \r\nL 302.526341 224.64 \r\nz\r\n\" style=\"fill:#1f77b4;\"/>\r\n   </g>\r\n   <g id=\"patch_82\">\r\n    <path clip-path=\"url(#p2c3e302240)\" d=\"M 305.946157 224.64 \r\nL 309.365973 224.64 \r\nL 309.365973 224.64 \r\nL 305.946157 224.64 \r\nz\r\n\" style=\"fill:#1f77b4;\"/>\r\n   </g>\r\n   <g id=\"patch_83\">\r\n    <path clip-path=\"url(#p2c3e302240)\" d=\"M 309.365973 224.64 \r\nL 312.785789 224.64 \r\nL 312.785789 224.64 \r\nL 309.365973 224.64 \r\nz\r\n\" style=\"fill:#1f77b4;\"/>\r\n   </g>\r\n   <g id=\"patch_84\">\r\n    <path clip-path=\"url(#p2c3e302240)\" d=\"M 312.785789 224.64 \r\nL 316.205605 224.64 \r\nL 316.205605 183.222857 \r\nL 312.785789 183.222857 \r\nz\r\n\" style=\"fill:#1f77b4;\"/>\r\n   </g>\r\n   <g id=\"patch_85\">\r\n    <path clip-path=\"url(#p2c3e302240)\" d=\"M 316.205605 224.64 \r\nL 319.625421 224.64 \r\nL 319.625421 224.64 \r\nL 316.205605 224.64 \r\nz\r\n\" style=\"fill:#1f77b4;\"/>\r\n   </g>\r\n   <g id=\"patch_86\">\r\n    <path clip-path=\"url(#p2c3e302240)\" d=\"M 319.625421 224.64 \r\nL 323.045237 224.64 \r\nL 323.045237 224.64 \r\nL 319.625421 224.64 \r\nz\r\n\" style=\"fill:#1f77b4;\"/>\r\n   </g>\r\n   <g id=\"patch_87\">\r\n    <path clip-path=\"url(#p2c3e302240)\" d=\"M 323.045237 224.64 \r\nL 326.465054 224.64 \r\nL 326.465054 183.222857 \r\nL 323.045237 183.222857 \r\nz\r\n\" style=\"fill:#1f77b4;\"/>\r\n   </g>\r\n   <g id=\"patch_88\">\r\n    <path clip-path=\"url(#p2c3e302240)\" d=\"M 326.465054 224.64 \r\nL 329.88487 224.64 \r\nL 329.88487 224.64 \r\nL 326.465054 224.64 \r\nz\r\n\" style=\"fill:#1f77b4;\"/>\r\n   </g>\r\n   <g id=\"patch_89\">\r\n    <path clip-path=\"url(#p2c3e302240)\" d=\"M 329.88487 224.64 \r\nL 333.304686 224.64 \r\nL 333.304686 17.554286 \r\nL 329.88487 17.554286 \r\nz\r\n\" style=\"fill:#1f77b4;\"/>\r\n   </g>\r\n   <g id=\"patch_90\">\r\n    <path clip-path=\"url(#p2c3e302240)\" d=\"M 333.304686 224.64 \r\nL 336.724502 224.64 \r\nL 336.724502 224.64 \r\nL 333.304686 224.64 \r\nz\r\n\" style=\"fill:#1f77b4;\"/>\r\n   </g>\r\n   <g id=\"patch_91\">\r\n    <path clip-path=\"url(#p2c3e302240)\" d=\"M 336.724502 224.64 \r\nL 340.144318 224.64 \r\nL 340.144318 17.554286 \r\nL 336.724502 17.554286 \r\nz\r\n\" style=\"fill:#1f77b4;\"/>\r\n   </g>\r\n   <g id=\"matplotlib.axis_1\">\r\n    <g id=\"xtick_1\">\r\n     <g id=\"line2d_1\">\r\n      <path clip-path=\"url(#p2c3e302240)\" d=\"M 32.706302 224.64 \r\nL 32.706302 7.2 \r\n\" style=\"fill:none;stroke:#b0b0b0;stroke-linecap:square;stroke-width:0.8;\"/>\r\n     </g>\r\n     <g id=\"line2d_2\">\r\n      <defs>\r\n       <path d=\"M 0 0 \r\nL 0 3.5 \r\n\" id=\"mc2d4b89739\" style=\"stroke:#000000;stroke-width:0.8;\"/>\r\n      </defs>\r\n      <g>\r\n       <use style=\"stroke:#000000;stroke-width:0.8;\" x=\"32.706302\" xlink:href=\"#mc2d4b89739\" y=\"224.64\"/>\r\n      </g>\r\n     </g>\r\n     <g id=\"text_1\">\r\n      <!-- 0 -->\r\n      <g transform=\"translate(29.525052 239.238437)scale(0.1 -0.1)\">\r\n       <defs>\r\n        <path d=\"M 2034 4250 \r\nQ 1547 4250 1301 3770 \r\nQ 1056 3291 1056 2328 \r\nQ 1056 1369 1301 889 \r\nQ 1547 409 2034 409 \r\nQ 2525 409 2770 889 \r\nQ 3016 1369 3016 2328 \r\nQ 3016 3291 2770 3770 \r\nQ 2525 4250 2034 4250 \r\nz\r\nM 2034 4750 \r\nQ 2819 4750 3233 4129 \r\nQ 3647 3509 3647 2328 \r\nQ 3647 1150 3233 529 \r\nQ 2819 -91 2034 -91 \r\nQ 1250 -91 836 529 \r\nQ 422 1150 422 2328 \r\nQ 422 3509 836 4129 \r\nQ 1250 4750 2034 4750 \r\nz\r\n\" id=\"DejaVuSans-30\" transform=\"scale(0.015625)\"/>\r\n       </defs>\r\n       <use xlink:href=\"#DejaVuSans-30\"/>\r\n      </g>\r\n     </g>\r\n    </g>\r\n    <g id=\"xtick_2\">\r\n     <g id=\"line2d_3\">\r\n      <path clip-path=\"url(#p2c3e302240)\" d=\"M 91.828997 224.64 \r\nL 91.828997 7.2 \r\n\" style=\"fill:none;stroke:#b0b0b0;stroke-linecap:square;stroke-width:0.8;\"/>\r\n     </g>\r\n     <g id=\"line2d_4\">\r\n      <g>\r\n       <use style=\"stroke:#000000;stroke-width:0.8;\" x=\"91.828997\" xlink:href=\"#mc2d4b89739\" y=\"224.64\"/>\r\n      </g>\r\n     </g>\r\n     <g id=\"text_2\">\r\n      <!-- 50 -->\r\n      <g transform=\"translate(85.466497 239.238437)scale(0.1 -0.1)\">\r\n       <defs>\r\n        <path d=\"M 691 4666 \r\nL 3169 4666 \r\nL 3169 4134 \r\nL 1269 4134 \r\nL 1269 2991 \r\nQ 1406 3038 1543 3061 \r\nQ 1681 3084 1819 3084 \r\nQ 2600 3084 3056 2656 \r\nQ 3513 2228 3513 1497 \r\nQ 3513 744 3044 326 \r\nQ 2575 -91 1722 -91 \r\nQ 1428 -91 1123 -41 \r\nQ 819 9 494 109 \r\nL 494 744 \r\nQ 775 591 1075 516 \r\nQ 1375 441 1709 441 \r\nQ 2250 441 2565 725 \r\nQ 2881 1009 2881 1497 \r\nQ 2881 1984 2565 2268 \r\nQ 2250 2553 1709 2553 \r\nQ 1456 2553 1204 2497 \r\nQ 953 2441 691 2322 \r\nL 691 4666 \r\nz\r\n\" id=\"DejaVuSans-35\" transform=\"scale(0.015625)\"/>\r\n       </defs>\r\n       <use xlink:href=\"#DejaVuSans-35\"/>\r\n       <use x=\"63.623047\" xlink:href=\"#DejaVuSans-30\"/>\r\n      </g>\r\n     </g>\r\n    </g>\r\n    <g id=\"xtick_3\">\r\n     <g id=\"line2d_5\">\r\n      <path clip-path=\"url(#p2c3e302240)\" d=\"M 150.951693 224.64 \r\nL 150.951693 7.2 \r\n\" style=\"fill:none;stroke:#b0b0b0;stroke-linecap:square;stroke-width:0.8;\"/>\r\n     </g>\r\n     <g id=\"line2d_6\">\r\n      <g>\r\n       <use style=\"stroke:#000000;stroke-width:0.8;\" x=\"150.951693\" xlink:href=\"#mc2d4b89739\" y=\"224.64\"/>\r\n      </g>\r\n     </g>\r\n     <g id=\"text_3\">\r\n      <!-- 100 -->\r\n      <g transform=\"translate(141.407943 239.238437)scale(0.1 -0.1)\">\r\n       <defs>\r\n        <path d=\"M 794 531 \r\nL 1825 531 \r\nL 1825 4091 \r\nL 703 3866 \r\nL 703 4441 \r\nL 1819 4666 \r\nL 2450 4666 \r\nL 2450 531 \r\nL 3481 531 \r\nL 3481 0 \r\nL 794 0 \r\nL 794 531 \r\nz\r\n\" id=\"DejaVuSans-31\" transform=\"scale(0.015625)\"/>\r\n       </defs>\r\n       <use xlink:href=\"#DejaVuSans-31\"/>\r\n       <use x=\"63.623047\" xlink:href=\"#DejaVuSans-30\"/>\r\n       <use x=\"127.246094\" xlink:href=\"#DejaVuSans-30\"/>\r\n      </g>\r\n     </g>\r\n    </g>\r\n    <g id=\"xtick_4\">\r\n     <g id=\"line2d_7\">\r\n      <path clip-path=\"url(#p2c3e302240)\" d=\"M 210.074388 224.64 \r\nL 210.074388 7.2 \r\n\" style=\"fill:none;stroke:#b0b0b0;stroke-linecap:square;stroke-width:0.8;\"/>\r\n     </g>\r\n     <g id=\"line2d_8\">\r\n      <g>\r\n       <use style=\"stroke:#000000;stroke-width:0.8;\" x=\"210.074388\" xlink:href=\"#mc2d4b89739\" y=\"224.64\"/>\r\n      </g>\r\n     </g>\r\n     <g id=\"text_4\">\r\n      <!-- 150 -->\r\n      <g transform=\"translate(200.530638 239.238437)scale(0.1 -0.1)\">\r\n       <use xlink:href=\"#DejaVuSans-31\"/>\r\n       <use x=\"63.623047\" xlink:href=\"#DejaVuSans-35\"/>\r\n       <use x=\"127.246094\" xlink:href=\"#DejaVuSans-30\"/>\r\n      </g>\r\n     </g>\r\n    </g>\r\n    <g id=\"xtick_5\">\r\n     <g id=\"line2d_9\">\r\n      <path clip-path=\"url(#p2c3e302240)\" d=\"M 269.197084 224.64 \r\nL 269.197084 7.2 \r\n\" style=\"fill:none;stroke:#b0b0b0;stroke-linecap:square;stroke-width:0.8;\"/>\r\n     </g>\r\n     <g id=\"line2d_10\">\r\n      <g>\r\n       <use style=\"stroke:#000000;stroke-width:0.8;\" x=\"269.197084\" xlink:href=\"#mc2d4b89739\" y=\"224.64\"/>\r\n      </g>\r\n     </g>\r\n     <g id=\"text_5\">\r\n      <!-- 200 -->\r\n      <g transform=\"translate(259.653334 239.238437)scale(0.1 -0.1)\">\r\n       <defs>\r\n        <path d=\"M 1228 531 \r\nL 3431 531 \r\nL 3431 0 \r\nL 469 0 \r\nL 469 531 \r\nQ 828 903 1448 1529 \r\nQ 2069 2156 2228 2338 \r\nQ 2531 2678 2651 2914 \r\nQ 2772 3150 2772 3378 \r\nQ 2772 3750 2511 3984 \r\nQ 2250 4219 1831 4219 \r\nQ 1534 4219 1204 4116 \r\nQ 875 4013 500 3803 \r\nL 500 4441 \r\nQ 881 4594 1212 4672 \r\nQ 1544 4750 1819 4750 \r\nQ 2544 4750 2975 4387 \r\nQ 3406 4025 3406 3419 \r\nQ 3406 3131 3298 2873 \r\nQ 3191 2616 2906 2266 \r\nQ 2828 2175 2409 1742 \r\nQ 1991 1309 1228 531 \r\nz\r\n\" id=\"DejaVuSans-32\" transform=\"scale(0.015625)\"/>\r\n       </defs>\r\n       <use xlink:href=\"#DejaVuSans-32\"/>\r\n       <use x=\"63.623047\" xlink:href=\"#DejaVuSans-30\"/>\r\n       <use x=\"127.246094\" xlink:href=\"#DejaVuSans-30\"/>\r\n      </g>\r\n     </g>\r\n    </g>\r\n    <g id=\"xtick_6\">\r\n     <g id=\"line2d_11\">\r\n      <path clip-path=\"url(#p2c3e302240)\" d=\"M 328.319779 224.64 \r\nL 328.319779 7.2 \r\n\" style=\"fill:none;stroke:#b0b0b0;stroke-linecap:square;stroke-width:0.8;\"/>\r\n     </g>\r\n     <g id=\"line2d_12\">\r\n      <g>\r\n       <use style=\"stroke:#000000;stroke-width:0.8;\" x=\"328.319779\" xlink:href=\"#mc2d4b89739\" y=\"224.64\"/>\r\n      </g>\r\n     </g>\r\n     <g id=\"text_6\">\r\n      <!-- 250 -->\r\n      <g transform=\"translate(318.776029 239.238437)scale(0.1 -0.1)\">\r\n       <use xlink:href=\"#DejaVuSans-32\"/>\r\n       <use x=\"63.623047\" xlink:href=\"#DejaVuSans-35\"/>\r\n       <use x=\"127.246094\" xlink:href=\"#DejaVuSans-30\"/>\r\n      </g>\r\n     </g>\r\n    </g>\r\n   </g>\r\n   <g id=\"matplotlib.axis_2\">\r\n    <g id=\"ytick_1\">\r\n     <g id=\"line2d_13\">\r\n      <path clip-path=\"url(#p2c3e302240)\" d=\"M 20.5625 224.64 \r\nL 355.3625 224.64 \r\n\" style=\"fill:none;stroke:#b0b0b0;stroke-linecap:square;stroke-width:0.8;\"/>\r\n     </g>\r\n     <g id=\"line2d_14\">\r\n      <defs>\r\n       <path d=\"M 0 0 \r\nL -3.5 0 \r\n\" id=\"m62a3c4c757\" style=\"stroke:#000000;stroke-width:0.8;\"/>\r\n      </defs>\r\n      <g>\r\n       <use style=\"stroke:#000000;stroke-width:0.8;\" x=\"20.5625\" xlink:href=\"#m62a3c4c757\" y=\"224.64\"/>\r\n      </g>\r\n     </g>\r\n     <g id=\"text_7\">\r\n      <!-- 0 -->\r\n      <g transform=\"translate(7.2 228.439219)scale(0.1 -0.1)\">\r\n       <use xlink:href=\"#DejaVuSans-30\"/>\r\n      </g>\r\n     </g>\r\n    </g>\r\n    <g id=\"ytick_2\">\r\n     <g id=\"line2d_15\">\r\n      <path clip-path=\"url(#p2c3e302240)\" d=\"M 20.5625 183.222857 \r\nL 355.3625 183.222857 \r\n\" style=\"fill:none;stroke:#b0b0b0;stroke-linecap:square;stroke-width:0.8;\"/>\r\n     </g>\r\n     <g id=\"line2d_16\">\r\n      <g>\r\n       <use style=\"stroke:#000000;stroke-width:0.8;\" x=\"20.5625\" xlink:href=\"#m62a3c4c757\" y=\"183.222857\"/>\r\n      </g>\r\n     </g>\r\n     <g id=\"text_8\">\r\n      <!-- 1 -->\r\n      <g transform=\"translate(7.2 187.022076)scale(0.1 -0.1)\">\r\n       <use xlink:href=\"#DejaVuSans-31\"/>\r\n      </g>\r\n     </g>\r\n    </g>\r\n    <g id=\"ytick_3\">\r\n     <g id=\"line2d_17\">\r\n      <path clip-path=\"url(#p2c3e302240)\" d=\"M 20.5625 141.805714 \r\nL 355.3625 141.805714 \r\n\" style=\"fill:none;stroke:#b0b0b0;stroke-linecap:square;stroke-width:0.8;\"/>\r\n     </g>\r\n     <g id=\"line2d_18\">\r\n      <g>\r\n       <use style=\"stroke:#000000;stroke-width:0.8;\" x=\"20.5625\" xlink:href=\"#m62a3c4c757\" y=\"141.805714\"/>\r\n      </g>\r\n     </g>\r\n     <g id=\"text_9\">\r\n      <!-- 2 -->\r\n      <g transform=\"translate(7.2 145.604933)scale(0.1 -0.1)\">\r\n       <use xlink:href=\"#DejaVuSans-32\"/>\r\n      </g>\r\n     </g>\r\n    </g>\r\n    <g id=\"ytick_4\">\r\n     <g id=\"line2d_19\">\r\n      <path clip-path=\"url(#p2c3e302240)\" d=\"M 20.5625 100.388571 \r\nL 355.3625 100.388571 \r\n\" style=\"fill:none;stroke:#b0b0b0;stroke-linecap:square;stroke-width:0.8;\"/>\r\n     </g>\r\n     <g id=\"line2d_20\">\r\n      <g>\r\n       <use style=\"stroke:#000000;stroke-width:0.8;\" x=\"20.5625\" xlink:href=\"#m62a3c4c757\" y=\"100.388571\"/>\r\n      </g>\r\n     </g>\r\n     <g id=\"text_10\">\r\n      <!-- 3 -->\r\n      <g transform=\"translate(7.2 104.18779)scale(0.1 -0.1)\">\r\n       <defs>\r\n        <path d=\"M 2597 2516 \r\nQ 3050 2419 3304 2112 \r\nQ 3559 1806 3559 1356 \r\nQ 3559 666 3084 287 \r\nQ 2609 -91 1734 -91 \r\nQ 1441 -91 1130 -33 \r\nQ 819 25 488 141 \r\nL 488 750 \r\nQ 750 597 1062 519 \r\nQ 1375 441 1716 441 \r\nQ 2309 441 2620 675 \r\nQ 2931 909 2931 1356 \r\nQ 2931 1769 2642 2001 \r\nQ 2353 2234 1838 2234 \r\nL 1294 2234 \r\nL 1294 2753 \r\nL 1863 2753 \r\nQ 2328 2753 2575 2939 \r\nQ 2822 3125 2822 3475 \r\nQ 2822 3834 2567 4026 \r\nQ 2313 4219 1838 4219 \r\nQ 1578 4219 1281 4162 \r\nQ 984 4106 628 3988 \r\nL 628 4550 \r\nQ 988 4650 1302 4700 \r\nQ 1616 4750 1894 4750 \r\nQ 2613 4750 3031 4423 \r\nQ 3450 4097 3450 3541 \r\nQ 3450 3153 3228 2886 \r\nQ 3006 2619 2597 2516 \r\nz\r\n\" id=\"DejaVuSans-33\" transform=\"scale(0.015625)\"/>\r\n       </defs>\r\n       <use xlink:href=\"#DejaVuSans-33\"/>\r\n      </g>\r\n     </g>\r\n    </g>\r\n    <g id=\"ytick_5\">\r\n     <g id=\"line2d_21\">\r\n      <path clip-path=\"url(#p2c3e302240)\" d=\"M 20.5625 58.971429 \r\nL 355.3625 58.971429 \r\n\" style=\"fill:none;stroke:#b0b0b0;stroke-linecap:square;stroke-width:0.8;\"/>\r\n     </g>\r\n     <g id=\"line2d_22\">\r\n      <g>\r\n       <use style=\"stroke:#000000;stroke-width:0.8;\" x=\"20.5625\" xlink:href=\"#m62a3c4c757\" y=\"58.971429\"/>\r\n      </g>\r\n     </g>\r\n     <g id=\"text_11\">\r\n      <!-- 4 -->\r\n      <g transform=\"translate(7.2 62.770647)scale(0.1 -0.1)\">\r\n       <defs>\r\n        <path d=\"M 2419 4116 \r\nL 825 1625 \r\nL 2419 1625 \r\nL 2419 4116 \r\nz\r\nM 2253 4666 \r\nL 3047 4666 \r\nL 3047 1625 \r\nL 3713 1625 \r\nL 3713 1100 \r\nL 3047 1100 \r\nL 3047 0 \r\nL 2419 0 \r\nL 2419 1100 \r\nL 313 1100 \r\nL 313 1709 \r\nL 2253 4666 \r\nz\r\n\" id=\"DejaVuSans-34\" transform=\"scale(0.015625)\"/>\r\n       </defs>\r\n       <use xlink:href=\"#DejaVuSans-34\"/>\r\n      </g>\r\n     </g>\r\n    </g>\r\n    <g id=\"ytick_6\">\r\n     <g id=\"line2d_23\">\r\n      <path clip-path=\"url(#p2c3e302240)\" d=\"M 20.5625 17.554286 \r\nL 355.3625 17.554286 \r\n\" style=\"fill:none;stroke:#b0b0b0;stroke-linecap:square;stroke-width:0.8;\"/>\r\n     </g>\r\n     <g id=\"line2d_24\">\r\n      <g>\r\n       <use style=\"stroke:#000000;stroke-width:0.8;\" x=\"20.5625\" xlink:href=\"#m62a3c4c757\" y=\"17.554286\"/>\r\n      </g>\r\n     </g>\r\n     <g id=\"text_12\">\r\n      <!-- 5 -->\r\n      <g transform=\"translate(7.2 21.353504)scale(0.1 -0.1)\">\r\n       <use xlink:href=\"#DejaVuSans-35\"/>\r\n      </g>\r\n     </g>\r\n    </g>\r\n   </g>\r\n   <g id=\"patch_92\">\r\n    <path d=\"M 20.5625 224.64 \r\nL 20.5625 7.2 \r\n\" style=\"fill:none;stroke:#000000;stroke-linecap:square;stroke-linejoin:miter;stroke-width:0.8;\"/>\r\n   </g>\r\n   <g id=\"patch_93\">\r\n    <path d=\"M 355.3625 224.64 \r\nL 355.3625 7.2 \r\n\" style=\"fill:none;stroke:#000000;stroke-linecap:square;stroke-linejoin:miter;stroke-width:0.8;\"/>\r\n   </g>\r\n   <g id=\"patch_94\">\r\n    <path d=\"M 20.5625 224.64 \r\nL 355.3625 224.64 \r\n\" style=\"fill:none;stroke:#000000;stroke-linecap:square;stroke-linejoin:miter;stroke-width:0.8;\"/>\r\n   </g>\r\n   <g id=\"patch_95\">\r\n    <path d=\"M 20.5625 7.2 \r\nL 355.3625 7.2 \r\n\" style=\"fill:none;stroke:#000000;stroke-linecap:square;stroke-linejoin:miter;stroke-width:0.8;\"/>\r\n   </g>\r\n  </g>\r\n </g>\r\n <defs>\r\n  <clipPath id=\"p2c3e302240\">\r\n   <rect height=\"217.44\" width=\"334.8\" x=\"20.5625\" y=\"7.2\"/>\r\n  </clipPath>\r\n </defs>\r\n</svg>\r\n",
      "image/png": "[encoded data removed]"
     },
     "metadata": {
      "needs_background": "light"
     }
    }
   ],
   "source": [
    "dates.events.hist(bins=89)"
   ]
  },
  {
   "source": [
    "## Gaussian Smoothing"
   ],
   "cell_type": "markdown",
   "metadata": {}
  },
  {
   "source": [
    "## Fourier Analysis"
   ],
   "cell_type": "markdown",
   "metadata": {}
  }
 ]
}